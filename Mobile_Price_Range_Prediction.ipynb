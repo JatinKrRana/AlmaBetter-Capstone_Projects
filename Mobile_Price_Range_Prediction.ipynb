{
  "nbformat": 4,
  "nbformat_minor": 0,
  "metadata": {
    "colab": {
      "private_outputs": true,
      "provenance": [],
      "collapsed_sections": [
        "vncDsAP0Gaoa",
        "FJNUwmbgGyua",
        "w6K7xa23Elo4",
        "yQaldy8SH6Dl",
        "mDgbUHAGgjLW",
        "HhfV-JJviCcP",
        "nA9Y7ga8ng1Z",
        "PBTbrJXOngz2",
        "dauF4eBmngu3",
        "bKJF3rekwFvQ",
        "MSa1f5Uengrz",
        "GF8Ens_Soomf",
        "oA-EW2ZDiMzx",
        "0wOQAZs5pc--",
        "KSlN3yHqYklG",
        "t6dVpIINYklI",
        "ijmpgYnKYklI",
        "-JiQyfWJYklI",
        "OH-pJp9IphqM",
        "PIIx-8_IphqN",
        "t27r6nlMphqO",
        "r2jJGEOYphqO",
        "_4HO0TPn2X7N",
        "EM7whBJCYoAo",
        "4Of9eVA-YrdM",
        "bamQiAODYuh1",
        "QHF8YVU7Yuh3",
        "GwzvFGzlYuh3",
        "qYpmQ266Yuh3",
        "5KPWq_Cb6_B3",
        "BZR9WyysphqO",
        "jj7wYXLtphqO",
        "eZrbJ2SmphqO",
        "rFu4xreNphqO",
        "YJ55k-q6phqO",
        "gCFgpxoyphqP",
        "OVtJsKN_phqQ",
        "lssrdh5qphqQ",
        "NC_X3p0fY2L0",
        "UV0SzAkaZNRQ",
        "YPEH6qLeZNRQ",
        "q29F0dvdveiT",
        "EXh0U9oCveiU",
        "Yfr_Vlr8HBkt",
        "8yEUt7NnHlrM",
        "tEA2Xm5dHt1r",
        "I79__PHVH19G",
        "Ou-I18pAyIpj",
        "fF3858GYyt-u",
        "4_0_7-oCpUZd",
        "hwyV_J3ipUZe",
        "3yB-zSqbpUZe",
        "dEUvejAfpUZe",
        "Fd15vwWVpUZf",
        "bn_IUdTipZyH",
        "49K5P_iCpZyH",
        "Nff-vKELpZyI",
        "kLW572S8pZyI",
        "dWbDXHzopZyI",
        "yLjJCtPM0KBk",
        "xiyOF9F70UgQ",
        "7wuGOrhz0itI",
        "id1riN9m0vUs",
        "578E2V7j08f6",
        "89xtkJwZ18nB",
        "67NQN5KX2AMe",
        "Iwf50b-R2tYG",
        "GMQiZwjn3iu7",
        "WVIkgGqN3qsr",
        "XkPnILGE3zoT",
        "Hlsf0x5436Go",
        "mT9DMSJo4nBL",
        "c49ITxTc407N",
        "OeJFEK0N496M",
        "9ExmJH0g5HBk",
        "cJNqERVU536h",
        "k5UmGsbsOxih",
        "T0VqWOYE6DLQ",
        "qBMux9mC6MCf",
        "-oLEiFgy-5Pf",
        "C74aWNz2AliB",
        "2DejudWSA-a0",
        "pEMng2IbBLp7",
        "rAdphbQ9Bhjc",
        "TNVZ9zx19K6k",
        "nqoHp30x9hH9",
        "rMDnDkt2B6du",
        "yiiVWRdJDDil",
        "1UUpS68QDMuG",
        "kexQrXU-DjzY",
        "T5CmagL3EC8N",
        "BhH2vgX9EjGr",
        "qjKvONjwE8ra",
        "P1XJ9OREExlT",
        "VFOzZv6IFROw",
        "TIqpNgepFxVj",
        "VfCC591jGiD4",
        "OB4l2ZhMeS1U",
        "ArJBuiUVfxKd",
        "4qY1EAkEfxKe",
        "PiV4Ypx8fxKe",
        "TfvqoZmBfxKf",
        "dJ2tPlVmpsJ0",
        "JWYfwnehpsJ1",
        "-jK_YjpMpsJ2",
        "HAih1iBOpsJ2",
        "zVGeBEFhpsJ2",
        "bmKjuQ-FpsJ3",
        "Fze-IPXLpx6K",
        "7AN1z2sKpx6M",
        "9PIHJqyupx6M",
        "_-qAgymDpx6N",
        "Z-hykwinpx6N",
        "h_CCil-SKHpo",
        "cBFFvTBNJzUa",
        "HvGl1hHyA_VK",
        "EyNgTHvd2WFk",
        "KH5McJBi2d8v",
        "iW_Lq9qf2h6X",
        "-Kee-DAl2viO",
        "gCX9965dhzqZ",
        "gIfDvo9L0UH2"
      ],
      "include_colab_link": true
    },
    "kernelspec": {
      "name": "python3",
      "display_name": "Python 3"
    },
    "language_info": {
      "name": "python"
    }
  },
  "cells": [
    {
      "cell_type": "markdown",
      "metadata": {
        "id": "view-in-github",
        "colab_type": "text"
      },
      "source": [
        "<a href=\"https://colab.research.google.com/github/JatinKrRana/AlmaBetter-Capstone_Projects/blob/main/Mobile_Price_Range_Prediction.ipynb\" target=\"_parent\"><img src=\"https://colab.research.google.com/assets/colab-badge.svg\" alt=\"Open In Colab\"/></a>"
      ]
    },
    {
      "cell_type": "markdown",
      "source": [
        "# **Project Name**    - Mobile Price Range Prediction Project: A Machine Learning Classification Journey\n",
        "\n"
      ],
      "metadata": {
        "id": "vncDsAP0Gaoa"
      }
    },
    {
      "cell_type": "markdown",
      "source": [
        "##### **Project Type**    - Classification\n",
        "##### **Contribution**    - Individual\n",
        "##### **Name**            - Jatin Kumar Rana"
      ],
      "metadata": {
        "id": "beRrZCGUAJYm"
      }
    },
    {
      "cell_type": "markdown",
      "source": [
        "# **Project Summary -**"
      ],
      "metadata": {
        "id": "FJNUwmbgGyua"
      }
    },
    {
      "cell_type": "markdown",
      "source": [
        "In the fast-evolving landscape of technology, predicting the price range of mobile phones has become a critical task for both consumers and manufacturers. In this Mobile Price Range Prediction project, we delve into the realm of Machine Learning Classification to develop a model that can accurately predict the price range of mobile devices based on various features. The project involves several stages, including exploratory data analysis (EDA),data preprocessing, and the implementation of supervised machine learning algorithms such as Logistic Regression, Random Forest Classifier, and XG Boost Classifier.\n",
        "\n",
        "### **Exploratory Data Analysis (EDA):**\n",
        "\n",
        "Our journey commences with a detailed exploration of the dataset through EDA. Visualization tools and statistical techniques are employed to uncover patterns, trends, and relationships within the data. Descriptive statistics provide a snapshot of central tendencies, while data distribution plots illuminate the spread of key variables. Correlation matrices help discern connections between different features.\n",
        "\n",
        "Understanding the nuances of the data is critical during EDA. Insights gained from this process guide subsequent decisions in data preprocessing and model selection. For instance, if certain features exhibit strong correlations with the target variable, they may play a pivotal role in predicting mobile price ranges.\n",
        "\n",
        "### **Data Preprocessing:**\n",
        "\n",
        "Building on the insights from EDA, we transition to the essential phase of data preprocessing. Obtaining a relevant and comprehensive dataset is fundamental to the success of any machine learning endeavor. This dataset, containing information about various mobile phones and their features, forms the foundation for our predictive model.\n",
        "\n",
        "Identifying and addressing missing data takes precedence in the preprocessing stage. Techniques such as imputation or removal of missing values are applied to enhance the dataset's quality. With the dataset cleaned of missing values, encoding categorical data becomes the next focus. This step ensures that machine learning algorithms can effectively utilize all available information, as they typically operate on numerical data.\n",
        "\n",
        "Data cleaning and feature engineering follow. This involves handling outliers, scaling features, and creating new features that might enhance the predictive power of the model. Feature engineering, informed by the patterns uncovered during EDA, becomes a crucial step in preparing the dataset for the subsequent machine learning algorithms.\n",
        "\n",
        "### **Supervised Machine Learning Algorithms and Implementation:**\n",
        "\n",
        "The heart of the project lies in the implementation of supervised machine learning algorithms. Three powerful classifiers—Logistic Regression, Random Forest Classifier, and XG Boost Classifier—are chosen for their effectiveness in classification tasks.\n",
        "\n",
        "**Logistic Regression:**\n",
        "Logistic Regression is a linear model used for binary classification. In our project, it serves as a baseline model, providing a simple yet effective approach to predict mobile price ranges. The algorithm calculates the probability of a mobile belonging to a particular price range based on its features.\n",
        "\n",
        "**Random Forest Classifier:**\n",
        "Random Forest is an ensemble learning algorithm known for its robustness and high accuracy. It operates by constructing multiple decision trees during training and outputs the mode of the classes as the prediction. Random Forest is particularly effective in handling complex relationships within the data.\n",
        "\n",
        "**XG Boost Classifier:**\n",
        "XG Boost, or Extreme Gradient Boosting, is a powerful and efficient algorithm that belongs to the gradient boosting family. It sequentially builds a series of weak learners to create a strong predictive model. XG Boost is known for its speed and performance, making it a popular choice in machine learning competitions.\n",
        "\n",
        "The implementation of these algorithms involves training the models on the preprocessed data and evaluating their performance using metrics such as accuracy, precision, recall, and F1 score. Hyperparameter tuning may be applied to optimize the models further.\n",
        "\n",
        "In conclusion, the Mobile Price Range Prediction project combines data preprocessing, exploratory data analysis, and the implementation of three supervised machine learning algorithms to create a robust predictive model. The outcome of this project not only provides valuable insights into the factors influencing mobile prices but also showcases the power of machine learning in solving real-world problems in the technology domain."
      ],
      "metadata": {
        "id": "F6v_1wHtG2nS"
      }
    },
    {
      "cell_type": "markdown",
      "source": [
        "# **GitHub Link -**"
      ],
      "metadata": {
        "id": "w6K7xa23Elo4"
      }
    },
    {
      "cell_type": "markdown",
      "source": [
        "Provide your GitHub Link here."
      ],
      "metadata": {
        "id": "h1o69JH3Eqqn"
      }
    },
    {
      "cell_type": "markdown",
      "source": [
        "# **Problem Statement**\n"
      ],
      "metadata": {
        "id": "yQaldy8SH6Dl"
      }
    },
    {
      "cell_type": "markdown",
      "source": [
        "### **Problem Statement:**\n",
        "\n",
        "In the fiercely competitive mobile phone market, companies seek to understand the relationship between mobile phone features (e.g., RAM, internal memory) and selling prices. The goal is to categorize phones into price ranges rather than predict exact prices.\n",
        "\n",
        "### **Objectives:**\n",
        "\n",
        "**1. Data Collection and Preprocessing:**\n",
        "\n",
        "* Assemble a comprehensive dataset.\n",
        "* Cleanse and standardize the data.\n",
        "\n",
        "**2. Exploratory Data Analysis (EDA):**\n",
        "\n",
        "* Uncover patterns and correlations.\n",
        "* Identify key features influencing prices.\n",
        "\n",
        "**3. Feature Engineering:**\n",
        "\n",
        "* Enhance predictive features.\n",
        "* Consider new feature creation.\n",
        "\n",
        "**4. Model Development:**\n",
        "\n",
        "* Build a machine learning model for price range classification.\n",
        "* Evaluate various algorithms.\n",
        "\n",
        "**5. Model Evaluation and Fine-Tuning:**\n",
        "\n",
        "* Assess model performance metrics.\n",
        "* Optimize model parameters.\n",
        "\n",
        "**6. Interpretability and Insights:**\n",
        "\n",
        "* Extract actionable insights.\n",
        "* Highlight influential features.\n",
        "\n",
        "**7. Documentation and Reporting:**\n",
        "\n",
        "* Document the entire process.\n",
        "* Summarize findings and recommendations.\n",
        "\n",
        "This study aims to equip mobile phone companies with actionable insights for strategic decision-making in product positioning and pricing."
      ],
      "metadata": {
        "id": "DpeJGUA3kjGy"
      }
    },
    {
      "cell_type": "markdown",
      "source": [
        "# **General Guidelines** : -  "
      ],
      "metadata": {
        "id": "mDgbUHAGgjLW"
      }
    },
    {
      "cell_type": "markdown",
      "source": [
        "1.   Well-structured, formatted, and commented code is required.\n",
        "2.   Exception Handling, Production Grade Code & Deployment Ready Code will be a plus. Those students will be awarded some additional credits.\n",
        "     \n",
        "     The additional credits will have advantages over other students during Star Student selection.\n",
        "       \n",
        "             [ Note: - Deployment Ready Code is defined as, the whole .ipynb notebook should be executable in one go\n",
        "                       without a single error logged. ]\n",
        "\n",
        "3.   Each and every logic should have proper comments.\n",
        "4. You may add as many number of charts you want. Make Sure for each and every chart the following format should be answered.\n",
        "        \n",
        "\n",
        "```\n",
        "# Chart visualization code\n",
        "```\n",
        "            \n",
        "\n",
        "*   Why did you pick the specific chart?\n",
        "*   What is/are the insight(s) found from the chart?\n",
        "* Will the gained insights help creating a positive business impact?\n",
        "Are there any insights that lead to negative growth? Justify with specific reason.\n",
        "\n",
        "5. You have to create at least 15 logical & meaningful charts having important insights.\n",
        "\n",
        "\n",
        "[ Hints : - Do the Vizualization in  a structured way while following \"UBM\" Rule.\n",
        "\n",
        "U - Univariate Analysis,\n",
        "\n",
        "B - Bivariate Analysis (Numerical - Categorical, Numerical - Numerical, Categorical - Categorical)\n",
        "\n",
        "M - Multivariate Analysis\n",
        " ]\n",
        "\n",
        "\n",
        "\n",
        "\n",
        "\n",
        "6. You may add more ml algorithms for model creation. Make sure for each and every algorithm, the following format should be answered.\n",
        "\n",
        "\n",
        "*   Explain the ML Model used and it's performance using Evaluation metric Score Chart.\n",
        "\n",
        "\n",
        "*   Cross- Validation & Hyperparameter Tuning\n",
        "\n",
        "*   Have you seen any improvement? Note down the improvement with updates Evaluation metric Score Chart.\n",
        "\n",
        "*   Explain each evaluation metric's indication towards business and the business impact pf the ML model used.\n",
        "\n",
        "\n",
        "\n",
        "\n",
        "\n",
        "\n",
        "\n",
        "\n",
        "\n",
        "\n",
        "\n",
        "\n",
        "\n",
        "\n",
        "\n",
        "\n",
        "\n",
        "\n"
      ],
      "metadata": {
        "id": "ZrxVaUj-hHfC"
      }
    },
    {
      "cell_type": "markdown",
      "source": [
        "# ***Let's Begin !***"
      ],
      "metadata": {
        "id": "O_i_v8NEhb9l"
      }
    },
    {
      "cell_type": "markdown",
      "source": [
        "## ***1. Know Your Data***"
      ],
      "metadata": {
        "id": "HhfV-JJviCcP"
      }
    },
    {
      "cell_type": "markdown",
      "source": [
        "### Import Libraries"
      ],
      "metadata": {
        "id": "Y3lxredqlCYt"
      }
    },
    {
      "cell_type": "code",
      "source": [
        "import pandas as pd\n",
        "import numpy as np\n",
        "from matplotlib import pyplot as plt\n",
        "%matplotlib inline\n",
        "import seaborn as sns\n",
        "\n",
        "from datetime import datetime\n",
        "\n",
        "from sklearn.impute import KNNImputer\n",
        "from sklearn.preprocessing import MinMaxScaler\n",
        "from sklearn.preprocessing import StandardScaler\n",
        "from sklearn.model_selection import train_test_split\n",
        "from sklearn.linear_model import LogisticRegression\n",
        "from sklearn.ensemble import RandomForestClassifier\n",
        "from xgboost import XGBClassifier\n",
        "from sklearn.neighbors import KNeighborsClassifier\n",
        "from sklearn.metrics import accuracy_score, confusion_matrix, classification_report, precision_score, recall_score, roc_auc_score\n",
        "from sklearn.model_selection import GridSearchCV\n",
        "from sklearn.model_selection import RandomizedSearchCV\n",
        "\n",
        "import warnings\n",
        "warnings.filterwarnings(\"ignore\")"
      ],
      "metadata": {
        "id": "M8Vqi-pPk-HR"
      },
      "execution_count": null,
      "outputs": []
    },
    {
      "cell_type": "markdown",
      "source": [
        "### Dataset Loading"
      ],
      "metadata": {
        "id": "3RnN4peoiCZX"
      }
    },
    {
      "cell_type": "code",
      "source": [
        "# Loading Dataset\n",
        "from google.colab import drive\n",
        "drive.mount('/content/drive')"
      ],
      "metadata": {
        "id": "4CkvbW_SlZ_R"
      },
      "execution_count": null,
      "outputs": []
    },
    {
      "cell_type": "code",
      "source": [
        "mob_price_df = pd.read_csv('/content/drive/MyDrive/data_mobile_price_range.csv')"
      ],
      "metadata": {
        "id": "UXsoIffX17Ej"
      },
      "execution_count": null,
      "outputs": []
    },
    {
      "cell_type": "markdown",
      "source": [
        "### Dataset First View"
      ],
      "metadata": {
        "id": "x71ZqKXriCWQ"
      }
    },
    {
      "cell_type": "code",
      "source": [
        "# Dataset First Look\n",
        "mob_price_df.head()"
      ],
      "metadata": {
        "id": "LWNFOSvLl09H"
      },
      "execution_count": null,
      "outputs": []
    },
    {
      "cell_type": "markdown",
      "source": [
        "### Dataset Rows & Columns count"
      ],
      "metadata": {
        "id": "7hBIi_osiCS2"
      }
    },
    {
      "cell_type": "code",
      "source": [
        "# Dataset Rows & Columns count\n",
        "no_of_row = mob_price_df.shape[0]\n",
        "no_of_col = mob_price_df.shape[1]\n",
        "\n",
        "print(f\"Number of rows in mob_price_df is {no_of_row} and columns is {no_of_col}.\")"
      ],
      "metadata": {
        "id": "Kllu7SJgmLij"
      },
      "execution_count": null,
      "outputs": []
    },
    {
      "cell_type": "markdown",
      "source": [
        "### Dataset Information"
      ],
      "metadata": {
        "id": "JlHwYmJAmNHm"
      }
    },
    {
      "cell_type": "code",
      "source": [
        "# Dataset Info\n",
        "mob_price_df.info()"
      ],
      "metadata": {
        "id": "e9hRXRi6meOf"
      },
      "execution_count": null,
      "outputs": []
    },
    {
      "cell_type": "markdown",
      "source": [
        "#### Duplicate Values"
      ],
      "metadata": {
        "id": "35m5QtbWiB9F"
      }
    },
    {
      "cell_type": "code",
      "source": [
        "# Calculating the number of duplicate values in each column\n",
        "num_duplicates_in_columns = mob_price_df.apply(lambda x: x.duplicated().sum())\n",
        "print(f'Number of Duplicate Values in Each Column:\\n{num_duplicates_in_columns}')"
      ],
      "metadata": {
        "id": "1sLdpKYkmox0"
      },
      "execution_count": null,
      "outputs": []
    },
    {
      "cell_type": "code",
      "source": [
        "print(f'Number of Duplicate row in the dataset is:{mob_price_df.duplicated().sum()}')"
      ],
      "metadata": {
        "id": "LEgdUGcU7ppx"
      },
      "execution_count": null,
      "outputs": []
    },
    {
      "cell_type": "markdown",
      "source": [
        "#### Missing Values/Null Values"
      ],
      "metadata": {
        "id": "PoPl-ycgm1ru"
      }
    },
    {
      "cell_type": "code",
      "source": [
        "# Missing Values/Null Values Count\n",
        "null_value_count = mob_price_df.isnull().sum().sum()\n",
        "print(f\"Number of null values in the seoul_bike dataframe is {null_value_count}.\")"
      ],
      "metadata": {
        "id": "GgHWkxvamxVg"
      },
      "execution_count": null,
      "outputs": []
    },
    {
      "cell_type": "code",
      "source": [
        "bool_df = mob_price_df.isnull()\n",
        "column_name_list = list(mob_price_df.columns)\n",
        "null_value_list = []\n",
        "\n",
        "for i in column_name_list:\n",
        "    null_value = (bool_df[i] == True).sum()\n",
        "    null_value_list.append(null_value)\n",
        "\n",
        "mob_price_null_value_count_df = pd.DataFrame({'Column Name': column_name_list, 'Null Value Count': null_value_list})\n",
        "print(mob_price_null_value_count_df)"
      ],
      "metadata": {
        "id": "3q5wnI3om9sJ"
      },
      "execution_count": null,
      "outputs": []
    },
    {
      "cell_type": "markdown",
      "source": [
        "### What did you know about your dataset?"
      ],
      "metadata": {
        "id": "H0kj-8xxnORC"
      }
    },
    {
      "cell_type": "markdown",
      "source": [
        "The dataset mob_price_df consists of 2000 rows and 21 columns, representing various features of mobile phones (e.g., battery power, camera quality, RAM, etc.). The data types include int64 and float64. There are no null values or duplicate rows. The target variable is price_range."
      ],
      "metadata": {
        "id": "gfoNAAC-nUe_"
      }
    },
    {
      "cell_type": "markdown",
      "source": [
        "## ***2. Understanding Your Variables***"
      ],
      "metadata": {
        "id": "nA9Y7ga8ng1Z"
      }
    },
    {
      "cell_type": "code",
      "source": [
        "# Dataset Columns\n",
        "pd.DataFrame(mob_price_df.columns,columns = ['Variables of Mobile Price DataFrame'])"
      ],
      "metadata": {
        "id": "j7xfkqrt5Ag5"
      },
      "execution_count": null,
      "outputs": []
    },
    {
      "cell_type": "code",
      "source": [
        "# Dataset Describe\n",
        "mob_price_df.describe()"
      ],
      "metadata": {
        "id": "DnOaZdaE5Q5t"
      },
      "execution_count": null,
      "outputs": []
    },
    {
      "cell_type": "markdown",
      "source": [
        "### Variables Description"
      ],
      "metadata": {
        "id": "PBTbrJXOngz2"
      }
    },
    {
      "cell_type": "markdown",
      "source": [
        "**1. battery_power:**  Battery capacity in milliampere-hours (mAh).\n",
        "\n",
        "**2. blue**: Bluetooth availability (0 for absent, 1 for present).\n",
        "\n",
        "**3. clock_speed:** Processor speed in gigahertz (GHz).\n",
        "\n",
        "**4. dual_sim:** Dual SIM card support (0 for single SIM, 1 for dual SIM).\n",
        "\n",
        "**5. fc:** Front Camera megapixels.\n",
        "\n",
        "**6. four_g:** 4G network compatibility (0 for absent, 1 for present).\n",
        "\n",
        "**7. int_memory:** Internal Memory in gigabytes.\n",
        "\n",
        "**8. m_dep:** Mobile Depth (thickness) in centimeters.\n",
        "\n",
        "**9. mobile_wt:** Mobile Weight in grams.\n",
        "\n",
        "**10. n_cores:** Number of processor cores.\n",
        "\n",
        "**11. pc:** Primary Camera megapixels.\n",
        "\n",
        "**12. px_height:** Pixel Resolution Height.\n",
        "\n",
        "**13. px_width:** Pixel Resolution Width.\n",
        "\n",
        "**14. ram:** Random Access Memory in megabytes.\n",
        "\n",
        "**15. sc_h:** Screen Height in centimeters.\n",
        "\n",
        "**16. sc_w:** Screen Width in centimeters.\n",
        "\n",
        "**17. talk_time:** Maximum call duration in hours.\n",
        "\n",
        "**18. three_g:** 3G network compatibility (0 for absent, 1 for present).\n",
        "\n",
        "**19. touch_screen:** Touch screen availability (0 for absent, 1 for present).\n",
        "\n",
        "**20. wifi:** Wi-Fi capability (0 for absent, 1 for present).\n",
        "\n",
        "**21. price_range:** Categorical variable indicating the price range (0, 1, 2, or 3)."
      ],
      "metadata": {
        "id": "aJV4KIxSnxay"
      }
    },
    {
      "cell_type": "markdown",
      "source": [
        "### Check Unique Values for each variable."
      ],
      "metadata": {
        "id": "u3PMJOP6ngxN"
      }
    },
    {
      "cell_type": "code",
      "source": [
        "# Number of unique values in each variable\n",
        "mob_price_df.nunique()"
      ],
      "metadata": {
        "id": "Iyl1zR6EIu9O"
      },
      "execution_count": null,
      "outputs": []
    },
    {
      "cell_type": "code",
      "source": [
        "# Unique Values for each variable.\n",
        "for i in mob_price_df.columns:\n",
        "    print(i, ':', mob_price_df[i].unique(), '\\n')"
      ],
      "metadata": {
        "id": "zms12Yq5n-jE"
      },
      "execution_count": null,
      "outputs": []
    },
    {
      "cell_type": "markdown",
      "source": [
        "## 3. ***Data Wrangling***"
      ],
      "metadata": {
        "id": "dauF4eBmngu3"
      }
    },
    {
      "cell_type": "markdown",
      "source": [
        "### Data Wrangling Code"
      ],
      "metadata": {
        "id": "bKJF3rekwFvQ"
      }
    },
    {
      "cell_type": "markdown",
      "source": [
        "**1. Identifying numerical and categorical columns:**"
      ],
      "metadata": {
        "id": "2napUSfU7HDv"
      }
    },
    {
      "cell_type": "code",
      "source": [
        "numerical_variables = []\n",
        "categorical_variables = []\n",
        "\n",
        "for col in mob_price_df.columns:\n",
        "    if mob_price_df[col].nunique() > 5:\n",
        "        numerical_variables.append(col)\n",
        "    else:\n",
        "        categorical_variables.append(col)\n",
        "\n",
        "# Print the result\n",
        "print('Numerical Columns:', numerical_variables)\n",
        "print('Categorical Columns:', categorical_variables)"
      ],
      "metadata": {
        "id": "laZbO1v0T1nF"
      },
      "execution_count": null,
      "outputs": []
    },
    {
      "cell_type": "markdown",
      "source": [
        "**2. Counting the number of '0' values in the 'px_height' and 'sc_w' columns.**"
      ],
      "metadata": {
        "id": "DXlyI0-E-Ya3"
      }
    },
    {
      "cell_type": "code",
      "source": [
        "columns_with_zeros = ['px_height', 'sc_w']\n",
        "count_zeros = mob_price_df[columns_with_zeros].eq(0).sum()\n",
        "print(count_zeros)"
      ],
      "metadata": {
        "id": "YBjh2ABuyz1F"
      },
      "execution_count": null,
      "outputs": []
    },
    {
      "cell_type": "markdown",
      "source": [
        "**3. Removing '0' values of 'px_height' (pixel resolution height) column**"
      ],
      "metadata": {
        "id": "ae9d0_uYJ9Im"
      }
    },
    {
      "cell_type": "code",
      "source": [
        "mob_price_df = mob_price_df[mob_price_df['px_height'] != 0]"
      ],
      "metadata": {
        "id": "XbCHVbCa_u19"
      },
      "execution_count": null,
      "outputs": []
    },
    {
      "cell_type": "markdown",
      "source": [
        "**4. Replace '0' Values with 'nan' in the 'sc_w' (screen width) Column**"
      ],
      "metadata": {
        "id": "rnGy39GK-6cV"
      }
    },
    {
      "cell_type": "code",
      "source": [
        "mob_price_df['sc_w']=mob_price_df['sc_w'].replace(0,np.nan)"
      ],
      "metadata": {
        "id": "EixEnylEh67l"
      },
      "execution_count": null,
      "outputs": []
    },
    {
      "cell_type": "markdown",
      "source": [
        "**5. Impute Missing Values using K-Nearest Neighbors (KNN)**"
      ],
      "metadata": {
        "id": "J-NE-Blt_OQl"
      }
    },
    {
      "cell_type": "code",
      "source": [
        "impute_knn = KNNImputer(n_neighbors=1)\n",
        "mobile_data=pd.DataFrame(impute_knn.fit_transform(mob_price_df),columns=mob_price_df.columns)"
      ],
      "metadata": {
        "id": "GSTH3b4KzyLD"
      },
      "execution_count": null,
      "outputs": []
    },
    {
      "cell_type": "code",
      "source": [
        "columns_with_zeros = ['px_height', 'sc_w']\n",
        "count_zeros = mob_price_df[columns_with_zeros].eq(0).sum()\n",
        "print(count_zeros)"
      ],
      "metadata": {
        "id": "2hHoMcGplxuE"
      },
      "execution_count": null,
      "outputs": []
    },
    {
      "cell_type": "markdown",
      "source": [
        "### What all manipulations have you done and insights you found?"
      ],
      "metadata": {
        "id": "MSa1f5Uengrz"
      }
    },
    {
      "cell_type": "markdown",
      "source": [
        "\n",
        "\n",
        "Data Manipulations and Insights:\n",
        "\n",
        "**1. Column Identification:**\n",
        "\n",
        "* Identified numerical and categorical columns based on the number of unique values.\n",
        "\n",
        "**2. Handled '0' Values in 'px_height' and 'sc_w' columns because it should not be '0' as it doesn't make sense for a phone screen width or pixel height to be 0.**\n",
        "\n",
        "* Counted '0' values in 'px_height' and 'sc_w' and got 2 and 180 zero values in those column respectively.\n",
        "* Removed rows with '0' in 'px_height' cause it has only 2 zero values.\n",
        "* Replaced '0' with NaN in 'sc_w'.\n",
        "\n",
        "**3. Imputation using KNN:**\n",
        "\n",
        "* Utilized KNN imputation for missing values.\n",
        "\n",
        "**4. Re-assessment of '0' Values:**\n",
        "\n",
        "* Re-counted '0' values after manipulations."
      ],
      "metadata": {
        "id": "LbyXE7I1olp8"
      }
    },
    {
      "cell_type": "markdown",
      "source": [
        "## ***4. Data Vizualization, Storytelling & Experimenting with charts : Understand the relationships between variables***"
      ],
      "metadata": {
        "id": "GF8Ens_Soomf"
      }
    },
    {
      "cell_type": "markdown",
      "source": [
        "### Univariate Analysis (U):"
      ],
      "metadata": {
        "id": "oA-EW2ZDiMzx"
      }
    },
    {
      "cell_type": "markdown",
      "source": [
        "#### Chart - 1: Histograms for Numeric Variables"
      ],
      "metadata": {
        "id": "0wOQAZs5pc--"
      }
    },
    {
      "cell_type": "code",
      "source": [
        "# Setting the style for better visualization\n",
        "sns.set(style=\"whitegrid\")\n",
        "\n",
        "# Creating subplots for histograms\n",
        "plt.figure(figsize=(15, 10))\n",
        "for i, variable in enumerate(numerical_variables, 1):\n",
        "    plt.subplot(4, 4, i)\n",
        "    sns.histplot(data=mob_price_df, x=variable, bins=20, kde=True)\n",
        "    plt.title(f'Histogram - {variable}')\n",
        "\n",
        "plt.tight_layout()\n",
        "plt.show()\n"
      ],
      "metadata": {
        "id": "7v_ESjsspbW7"
      },
      "execution_count": null,
      "outputs": []
    },
    {
      "cell_type": "markdown",
      "source": [
        "##### 1. Why did you pick the specific chart?"
      ],
      "metadata": {
        "id": "K5QZ13OEpz2H"
      }
    },
    {
      "cell_type": "markdown",
      "source": [
        "I chose histogram because histograms are effective for visualizing the distribution of numeric data."
      ],
      "metadata": {
        "id": "XESiWehPqBRc"
      }
    },
    {
      "cell_type": "markdown",
      "source": [
        "##### 2. What is/are the insight(s) found from the chart?"
      ],
      "metadata": {
        "id": "lQ7QKXXCp7Bj"
      }
    },
    {
      "cell_type": "markdown",
      "source": [
        "The columns 'battery_power', 'clock_speed', 'int_memory', 'm_dep', 'mobile_wt', 'n_cores', 'pc', 'px_width', 'ram', 'sc_h', and 'talk_time' show a uniform distribution, indicating even spread of values. For 'fc', 'px_height', and 'sc_w', a right-skewed distribution is observed with values concentrated towards the lower end and some higher outliers. Median may be more robust for central tendency in the right-skewed group."
      ],
      "metadata": {
        "id": "C_j1G7yiqdRP"
      }
    },
    {
      "cell_type": "markdown",
      "source": [
        "##### 3. Will the gained insights help creating a positive business impact?\n",
        "Are there any insights that lead to negative growth? Justify with specific reason."
      ],
      "metadata": {
        "id": "448CDAPjqfQr"
      }
    },
    {
      "cell_type": "markdown",
      "source": [
        "**Positive Impact:**\n",
        "\n",
        "* Customer Tailoring: Understanding diverse customer preferences from uniform distributions can guide tailored marketing and product strategies, potentially expanding market reach and satisfaction.\n",
        "\n",
        "* Identifying Premium Products: Recognizing right-skewed distributions allows the identification of higher outliers, helping businesses capitalize on premium or high-performance products that attract specific customer segments.\n",
        "\n",
        "**Negative Impact:**\n",
        "\n",
        "* Challenges in Targeting: Uniformly distributed features might pose challenges in targeted marketing or product differentiation, as there may be a lack of distinct patterns or preferences among customers.\n",
        "\n",
        "* Meeting Customer Expectations: Right-skewed distributions in crucial features may signal challenges in meeting the expectations of customers who prioritize higher values in those aspects, potentially affecting product success."
      ],
      "metadata": {
        "id": "3cspy4FjqxJW"
      }
    },
    {
      "cell_type": "markdown",
      "source": [
        "#### Chart - 2: Bar chart for Categorical Variables to show the distribution of each category.\n"
      ],
      "metadata": {
        "id": "KSlN3yHqYklG"
      }
    },
    {
      "cell_type": "code",
      "source": [
        "# Create subplots for bar charts\n",
        "plt.figure(figsize=(15, 10))\n",
        "for i, variable in enumerate(categorical_variables, 1):\n",
        "    plt.subplot(3, 3, i)\n",
        "    sns.countplot(data=mob_price_df, x=variable)\n",
        "    plt.title(f'Bar Chart - {variable}')\n",
        "\n",
        "plt.tight_layout()\n",
        "plt.show()\n"
      ],
      "metadata": {
        "id": "R4YgtaqtYklH"
      },
      "execution_count": null,
      "outputs": []
    },
    {
      "cell_type": "markdown",
      "source": [
        "##### 1. Why did you pick the specific chart?"
      ],
      "metadata": {
        "id": "t6dVpIINYklI"
      }
    },
    {
      "cell_type": "markdown",
      "source": [
        "Bar charts are chosen for categorical variables because they effectively visualize the count or frequency of categories within each variable."
      ],
      "metadata": {
        "id": "5aaW0BYyYklI"
      }
    },
    {
      "cell_type": "markdown",
      "source": [
        "##### 2. What is/are the insight(s) found from the chart?"
      ],
      "metadata": {
        "id": "ijmpgYnKYklI"
      }
    },
    {
      "cell_type": "markdown",
      "source": [
        "1. 'blue', 'dual_sim', 'four_g', 'touch_screen', and 'wifi' are binary features with nearly equal distribution of values, indicating balanced datasets.\n",
        "2. 'price_range' has four equal bars, suggesting a balanced distribution among the four price ranges.\n",
        "3. 'three_g' is imbalanced, with a higher count of 0 (indicating no 3G capability) around 500 and a lower count of 1 (indicating 3G capability) around 1500."
      ],
      "metadata": {
        "id": "PSx9atu2YklI"
      }
    },
    {
      "cell_type": "markdown",
      "source": [
        "##### 3. Will the gained insights help creating a positive business impact?\n",
        "Are there any insights that lead to negative growth? Justify with specific reason."
      ],
      "metadata": {
        "id": "-JiQyfWJYklI"
      }
    },
    {
      "cell_type": "markdown",
      "source": [
        "**Potential Positive Impact:**\n",
        "\n",
        "1. Understanding binary features helps tailor strategies for a broad audience.\n",
        "2. Diverse price ranges in 'price_range' cater to varied customer budgets, potentially expanding customer base and increasing sales.\n",
        "\n",
        "**Potential Negative Impact:**\n",
        "\n",
        "1. Imbalanced 'three_g' distribution may indicate a gap in product features, potentially leading to lower satisfaction.\n",
        "2. Challenges in targeted marketing due to nearly equal distribution in binary features may limit effective strategy implementation.\n",
        "\n",
        "**Justification:**\n",
        "\n",
        "1. Positive impacts include informed strategic decisions and increased market reach.\n",
        "2. Negative impacts stem from potential limitations in product features and challenges in targeted marketing, affecting customer satisfaction and market share."
      ],
      "metadata": {
        "id": "BcBbebzrYklV"
      }
    },
    {
      "cell_type": "markdown",
      "source": [
        "#### Chart - 3: The distribution of Numerical Columns (Boxplots) to check outliers:"
      ],
      "metadata": {
        "id": "OH-pJp9IphqM"
      }
    },
    {
      "cell_type": "code",
      "source": [
        "# Set up the figure with a specified size\n",
        "fig = plt.figure(figsize=(12, 25))\n",
        "\n",
        "# Counter for subplot position\n",
        "c = 1\n",
        "\n",
        "# Iterate over numerical columns to create subplots\n",
        "for i in numerical_variables:\n",
        "    plt.subplot(10, 4, c)\n",
        "\n",
        "    # Set plot title\n",
        "    plt.title('Distribution of {}'.format(i))\n",
        "\n",
        "    # Create a boxplot for the current numerical column\n",
        "    sns.boxplot(x=i, data=mob_price_df, color=\"tomato\")\n",
        "\n",
        "    # Increment the counter\n",
        "    c = c + 1\n",
        "\n",
        "# Adjust layout for better spacing\n",
        "plt.tight_layout(pad=0.4, w_pad=0.5, h_pad=5.0)\n",
        "\n",
        "# Show the plot\n",
        "plt.show()"
      ],
      "metadata": {
        "id": "kuRf4wtuphqN"
      },
      "execution_count": null,
      "outputs": []
    },
    {
      "cell_type": "markdown",
      "source": [
        "##### 1. Why did you pick the specific chart?"
      ],
      "metadata": {
        "id": "bbFf2-_FphqN"
      }
    },
    {
      "cell_type": "markdown",
      "source": [
        "I picked boxplots to visually represent the distribution of numerical variables in a dataset. Boxplots provide a concise summary of key statistics, help identify outliers, allow easy comparison between variables, are space-efficient, and contribute to overall readability."
      ],
      "metadata": {
        "id": "loh7H2nzphqN"
      }
    },
    {
      "cell_type": "markdown",
      "source": [
        "##### 2. What is/are the insight(s) found from the chart?"
      ],
      "metadata": {
        "id": "_ouA3fa0phqN"
      }
    },
    {
      "cell_type": "markdown",
      "source": [
        "\n",
        "The chart reveals that, overall, there are no significant outliers in most of the numerical variables. However, there is an exception in the 'fc' column, where significant outliers are observed. This suggests that the distribution of values in the 'fc' column deviates from the norm, with some data points being notably different from the majority."
      ],
      "metadata": {
        "id": "VECbqPI7phqN"
      }
    },
    {
      "cell_type": "markdown",
      "source": [
        "##### 3. Will the gained insights help creating a positive business impact?\n",
        "Are there any insights that lead to negative growth? Justify with specific reason."
      ],
      "metadata": {
        "id": "Seke61FWphqN"
      }
    },
    {
      "cell_type": "markdown",
      "source": [
        "**Positive Impact:**\n",
        "\n",
        "* The identification of outliers in the 'fc' column can lead to a refinement of business strategy by uncovering valuable insights into customer behavior or operational improvements.\n",
        "\n",
        "**Potential Negative Impact:**\n",
        "\n",
        "* Outliers may indicate data quality issues or errors, risking biased analyses and potentially leading to suboptimal business decisions. Addressing these issues is crucial to ensure accurate and reliable insights."
      ],
      "metadata": {
        "id": "DW4_bGpfphqN"
      }
    },
    {
      "cell_type": "markdown",
      "source": [
        "#### Chart - 4: The distribution of Categorical Columns (Boxplots) to check outliers"
      ],
      "metadata": {
        "id": "PIIx-8_IphqN"
      }
    },
    {
      "cell_type": "code",
      "source": [
        "# Visualizing the distribution of Categorical Columns (Boxplots) to check outliers\n",
        "# Set up the figure with a specified size\n",
        "fig = plt.figure(figsize=(12, 20))\n",
        "\n",
        "# Counter for subplot position\n",
        "c = 1\n",
        "\n",
        "# Iterate over categorical columns to create subplots\n",
        "for i in categorical_variables:\n",
        "    plt.subplot(10, 4, c)\n",
        "\n",
        "    # Set plot title\n",
        "    plt.title('Distribution of {}'.format(i))\n",
        "\n",
        "    # Create a boxplot for the current categoricall column\n",
        "    sns.boxplot(x=i, data=mob_price_df, color=\"green\")\n",
        "\n",
        "    # Increment the counter\n",
        "    c = c + 1\n",
        "\n",
        "# Adjust layout for better spacing\n",
        "plt.tight_layout(pad=0.4, w_pad=0.5, h_pad=5.0)\n",
        "\n",
        "# Show the plot\n",
        "plt.show()"
      ],
      "metadata": {
        "id": "lqAIGUfyphqO"
      },
      "execution_count": null,
      "outputs": []
    },
    {
      "cell_type": "markdown",
      "source": [
        "##### 1. Why did you pick the specific chart?"
      ],
      "metadata": {
        "id": "t27r6nlMphqO"
      }
    },
    {
      "cell_type": "markdown",
      "source": [
        "I chose boxplots to visualize the distribution of categorical columns. While boxplots are traditionally used for numerical data, they can help identify outliers or variations in categorical data. The visualization allows for a quick comparison of different categorical variables, and the inclusion of titles enhances interpretability."
      ],
      "metadata": {
        "id": "VqBS3kjFSQnv"
      }
    },
    {
      "cell_type": "markdown",
      "source": [
        "##### 2. What is/are the insight(s) found from the chart?"
      ],
      "metadata": {
        "id": "r2jJGEOYphqO"
      }
    },
    {
      "cell_type": "markdown",
      "source": [
        "There are no outliers in any of the categorical columns"
      ],
      "metadata": {
        "id": "Po6ZPi4hphqO"
      }
    },
    {
      "cell_type": "markdown",
      "source": [
        "### Bivariate Analysis (B):"
      ],
      "metadata": {
        "id": "_4HO0TPn2X7N"
      }
    },
    {
      "cell_type": "markdown",
      "source": [
        "#### Chart - 5: Box plots for 'price_range' against numeric variables"
      ],
      "metadata": {
        "id": "EM7whBJCYoAo"
      }
    },
    {
      "cell_type": "code",
      "source": [
        "# Numeric Variables\n",
        "numeric_variables = ['battery_power', 'clock_speed', 'fc', 'int_memory', 'mobile_wt', 'pc',\n",
        "                     'px_height', 'px_width', 'ram', 'sc_h', 'sc_w', 'talk_time']\n",
        "\n",
        "# Create subplots for box plots\n",
        "plt.figure(figsize=(18, 12))\n",
        "for i, variable in enumerate(numeric_variables, 1):\n",
        "    plt.subplot(3, 4, i)\n",
        "    sns.boxplot(data=mob_price_df, x='price_range', y=variable)\n",
        "    plt.title(f'Box Plot - {variable} vs Price Range')\n",
        "\n",
        "plt.tight_layout()\n",
        "plt.show()"
      ],
      "metadata": {
        "id": "t6GMdE67YoAp"
      },
      "execution_count": null,
      "outputs": []
    },
    {
      "cell_type": "markdown",
      "source": [
        "##### 1. Why did you pick the specific chart?"
      ],
      "metadata": {
        "id": "fge-S5ZAYoAp"
      }
    },
    {
      "cell_type": "markdown",
      "source": [
        "I chose box plots for their ability to provide a clear comparison of the distribution of numeric variables across different price ranges. Box plots summarize central tendency, spread, and identify outliers effectively. They are robust to skewed data and offer insights into the variability between price ranges."
      ],
      "metadata": {
        "id": "5dBItgRVYoAp"
      }
    },
    {
      "cell_type": "markdown",
      "source": [
        "##### 2. What is/are the insight(s) found from the chart?"
      ],
      "metadata": {
        "id": "85gYPyotYoAp"
      }
    },
    {
      "cell_type": "markdown",
      "source": [
        "1. Most numeric variables show a uniform distribution across price ranges, offering diverse options for customers.\n",
        "2. The left-skewed 'ram' vs 'price_range' suggests higher RAM is associated with lower-priced devices, indicating a potential cost-effective option.\n",
        "3. Outliers in 'fc' vs 'price_range' imply premium devices with exceptional front camera specifications, potentially commanding higher prices."
      ],
      "metadata": {
        "id": "4jstXR6OYoAp"
      }
    },
    {
      "cell_type": "markdown",
      "source": [
        "##### 3. Will the gained insights help creating a positive business impact?\n",
        "Are there any insights that lead to negative growth? Justify with specific reason."
      ],
      "metadata": {
        "id": "RoGjAbkUYoAp"
      }
    },
    {
      "cell_type": "markdown",
      "source": [
        "**Potential Positive Impact:**\n",
        "\n",
        "1. Diverse Options: Uniform distribution provides diverse options, enhancing customer satisfaction.\n",
        "2. Cost-Effective RAM Devices: Left-skewed 'ram' suggests cost-effective options with higher RAM, appealing to budget-conscious customers.\n",
        "3. Premium Devices: Outliers in 'fc' indicate a market for premium devices, potentially increasing revenue from higher-priced products.\n",
        "\n",
        "**Potential Negative Impact:**\n",
        "\n",
        "1. Loss of Revenue for High RAM Devices: Left-skewed 'ram' may lead to missed revenue if offering higher RAM in lower-priced devices does not align with market demand.\n",
        "2. Focus on Premium Devices: Overemphasis on premium devices risks limiting market reach, leading to negative growth if market demand for such features is limited.\n",
        "\n",
        "**Justification:**\n",
        "\n",
        "* Positive impact arises from strategic opportunities, while negative impact may occur if product strategies are not aligned with actual market demand. A balanced approach is crucial for success."
      ],
      "metadata": {
        "id": "zfJ8IqMcYoAp"
      }
    },
    {
      "cell_type": "markdown",
      "source": [
        "#### Chart - 6: Count plots for categorical variables"
      ],
      "metadata": {
        "id": "4Of9eVA-YrdM"
      }
    },
    {
      "cell_type": "code",
      "source": [
        "# Categorical Variables\n",
        "categorical_variables = ['blue', 'dual_sim', 'four_g', 'three_g', 'touch_screen', 'wifi']\n",
        "\n",
        "# Create subplots for count plots\n",
        "plt.figure(figsize=(15, 8))\n",
        "for i, variable in enumerate(categorical_variables, 1):\n",
        "    plt.subplot(2, 3, i)\n",
        "    sns.countplot(data=mob_price_df, x=variable, hue='price_range')\n",
        "    plt.title(f'Count Plot - {variable} vs Price Range')\n",
        "\n",
        "plt.tight_layout()\n",
        "plt.show()"
      ],
      "metadata": {
        "id": "irlUoxc8YrdO"
      },
      "execution_count": null,
      "outputs": []
    },
    {
      "cell_type": "markdown",
      "source": [
        "##### 1. Why did you pick the specific chart?"
      ],
      "metadata": {
        "id": "iky9q4vBYrdO"
      }
    },
    {
      "cell_type": "markdown",
      "source": [
        "I chose count plots for their effectiveness in comparing the distribution of categorical variables against 'price_range'. They provide a clear representation of category counts, support multiple comparisons, and facilitate easy interpretation of relationships between categorical variables and the target variable."
      ],
      "metadata": {
        "id": "aJRCwT6DYrdO"
      }
    },
    {
      "cell_type": "markdown",
      "source": [
        "##### 2. What is/are the insight(s) found from the chart?"
      ],
      "metadata": {
        "id": "F6T5p64dYrdO"
      }
    },
    {
      "cell_type": "markdown",
      "source": [
        "Most count charts show a uniform distribution of price ranges for binary categorical variables, indicating balance.\n",
        "An exception is the 'three_g' count chart, which reveals an imbalance with a higher frequency of 0 (no 3G) in the lower range and a higher frequency of 1 (3G) in the higher range."
      ],
      "metadata": {
        "id": "Xx8WAJvtYrdO"
      }
    },
    {
      "cell_type": "markdown",
      "source": [
        "##### 3. Will the gained insights help creating a positive business impact?\n",
        "Are there any insights that lead to negative growth? Justify with specific reason."
      ],
      "metadata": {
        "id": "y-Ehk30pYrdP"
      }
    },
    {
      "cell_type": "markdown",
      "source": [
        "**Potential Positive Impact:**\n",
        "\n",
        "1. Balanced binary features across price ranges enhance customer satisfaction.\n",
        "2. Insight on 3G capability being more frequent in higher price ranges presents an opportunity to market and price 3G-capable devices as premium products.\n",
        "\n",
        "**Potential Negative Impact:**\n",
        "\n",
        "1. Imbalance in 3G feature distribution may lead to negative growth if customer preference for 3G capability in higher-priced devices is not addressed.\n",
        "\n",
        "**Justification:**\n",
        "\n",
        "* Aligning product strategies with customer preferences can lead to increased sales and revenue.\n",
        "* Ignoring the observed trend in 3G capability may result in missed market opportunities and negative growth."
      ],
      "metadata": {
        "id": "jLNxxz7MYrdP"
      }
    },
    {
      "cell_type": "markdown",
      "source": [
        "#### Chart - 7: Pie chart for 3G And 4G Connectivity"
      ],
      "metadata": {
        "id": "bamQiAODYuh1"
      }
    },
    {
      "cell_type": "code",
      "source": [
        "binary_features = [ 'four_g', 'three_g']\n",
        "for dataset in binary_features:\n",
        "  fig, (ax1, ax2) = plt.subplots(ncols = 2, figsize = (16, 8))\n",
        "\n",
        "  palette_color =sns.color_palette('rocket_r')\n",
        "  mob_price_df[dataset].value_counts().plot.pie (autopct='%1.1f%%', ax = ax1,colors=palette_color, shadow=True,labeldistance=None)\n",
        "  ax1.set_title('Distribution by price range')\n",
        "  ax1.legend(['Support', 'Does not Support'])\n",
        "  sns.countplot(x = dataset, hue = 'price_range', data = mob_price_df, ax = ax2, color = 'red')\n",
        "  ax2.set_title('Distribution by price range')\n",
        "  ax2.set_xlabel(dataset)\n",
        "  ax2.legend(['Low Cost', 'Medium Cost', 'High Cost', 'Very High Cost'])\n",
        "  ax2.set_xticklabels(['Does not Support', 'Support'])"
      ],
      "metadata": {
        "id": "TIJwrbroYuh3"
      },
      "execution_count": null,
      "outputs": []
    },
    {
      "cell_type": "markdown",
      "source": [
        "##### 1. Why did you pick the specific chart?"
      ],
      "metadata": {
        "id": "QHF8YVU7Yuh3"
      }
    },
    {
      "cell_type": "markdown",
      "source": [
        "The pie chart is chosen to display the overall distribution of binary categories ('Support' and 'Does not Support'). It provides a quick visual overview. The count plot is selected for comparing binary categories against different price ranges, offering insights into their distribution. The 'rocket_r' color palette is used for clear distinction, and legends/labels enhance interpretability."
      ],
      "metadata": {
        "id": "dcxuIMRPYuh3"
      }
    },
    {
      "cell_type": "markdown",
      "source": [
        "##### 2. What is/are the insight(s) found from the chart?"
      ],
      "metadata": {
        "id": "GwzvFGzlYuh3"
      }
    },
    {
      "cell_type": "markdown",
      "source": [
        "**4G Support:**\n",
        "\n",
        "* The pie chart for 'four_g' indicates a relatively balanced distribution, with 52.1% supporting 4G and 47.9% not supporting. This suggests a significant portion of devices in the dataset support 4G, but there is also a notable presence of devices that do not.\n",
        "\n",
        "**3G Support:**\n",
        "\n",
        "* The pie chart for 'three_g' shows a more pronounced distribution, with 76.1% supporting 3G and 23.9% not supporting. The majority of devices in the dataset support 3G, indicating its widespread availability among the sampled mobile devices."
      ],
      "metadata": {
        "id": "uyqkiB8YYuh3"
      }
    },
    {
      "cell_type": "markdown",
      "source": [
        "##### 3. Will the gained insights help creating a positive business impact?\n",
        "Are there any insights that lead to negative growth? Justify with specific reason."
      ],
      "metadata": {
        "id": "qYpmQ266Yuh3"
      }
    },
    {
      "cell_type": "markdown",
      "source": [
        "**Positive Impact:**\n",
        "\n",
        "1. Balanced 4G Distribution: Flexibility to cater to both 4G and non-4G markets, addressing diverse customer preferences.\n",
        "2. Dominant 3G Support: Opportunity to optimize services for widespread 3G, potentially leading to increased sales.\n",
        "\n",
        "**Negative Growth Consideration:**\n",
        "\n",
        "1. Limited 4G Adoption: Potential negative growth if there is unmet demand for 4G in regions where it is essential.\n",
        "2. Shift Towards 5G: Risk of negative growth if the dataset does not consider 5G, and the market is rapidly transitioning to this advanced standard.\n",
        "\n",
        "**Justification:**\n",
        "\n",
        "* Insights allow tailoring offerings to diverse connectivity preferences, but potential negative growth may arise from unmet demand for advanced standards or industry shifts toward technologies like 5G. Businesses should balance current market needs with future trends.\n",
        "\n",
        "\n",
        "\n",
        "\n",
        "\n"
      ],
      "metadata": {
        "id": "_WtzZ_hCYuh4"
      }
    },
    {
      "cell_type": "markdown",
      "source": [
        "### Multivariate Analysis:"
      ],
      "metadata": {
        "id": "5KPWq_Cb6_B3"
      }
    },
    {
      "cell_type": "markdown",
      "source": [
        "#### Chart - 8: 3D plots to visualize interactions among three variables (ram, battery_power, px_height)"
      ],
      "metadata": {
        "id": "BZR9WyysphqO"
      }
    },
    {
      "cell_type": "code",
      "source": [
        "from mpl_toolkits.mplot3d import Axes3D\n",
        "\n",
        "# Select three numerical variables for the 3D plot\n",
        "selected_3d_variables = ['ram', 'battery_power', 'px_height']\n",
        "\n",
        "# Create a 3D scatter plot\n",
        "fig = plt.figure(figsize=(10, 8))\n",
        "ax = fig.add_subplot(111, projection='3d')\n",
        "ax.scatter(mob_price_df[selected_3d_variables[0]],\n",
        "           mob_price_df[selected_3d_variables[1]],\n",
        "           mob_price_df[selected_3d_variables[2]],\n",
        "           c='blue', marker='o')\n",
        "\n",
        "# Set axis labels\n",
        "ax.set_xlabel(selected_3d_variables[0])\n",
        "ax.set_ylabel(selected_3d_variables[1])\n",
        "ax.set_zlabel(selected_3d_variables[2])\n",
        "\n",
        "# Show the plot\n",
        "plt.show()\n"
      ],
      "metadata": {
        "id": "TdPTWpAVphqO"
      },
      "execution_count": null,
      "outputs": []
    },
    {
      "cell_type": "markdown",
      "source": [
        "##### 1. Why did you pick the specific chart?"
      ],
      "metadata": {
        "id": "jj7wYXLtphqO"
      }
    },
    {
      "cell_type": "markdown",
      "source": [
        "The 3D scatter plot was chosen to visually explore interactions among three specific variables ('ram', 'battery_power', and 'px_height') in the mob_price_df dataset. This type of chart allows for the simultaneous examination of multivariate relationships, providing insights into patterns and dependencies among the selected variables in a three-dimensional space."
      ],
      "metadata": {
        "id": "Ob8u6rCTphqO"
      }
    },
    {
      "cell_type": "markdown",
      "source": [
        "##### 2. What is/are the insight(s) found from the chart?"
      ],
      "metadata": {
        "id": "eZrbJ2SmphqO"
      }
    },
    {
      "cell_type": "markdown",
      "source": [
        "The even distribution of dots at the down side of the 3D scatter plot suggests consistent screen pixel heights among devices. Within this range, there is limited variation in RAM and battery power, implying a potential lack of strong linear correlation. The pattern indicates homogeneity within a subgroup of devices and facilitates the identification of potential outliers with unique feature combinations."
      ],
      "metadata": {
        "id": "mZtgC_hjphqO"
      }
    },
    {
      "cell_type": "markdown",
      "source": [
        "##### 3. Will the gained insights help creating a positive business impact?\n",
        "Are there any insights that lead to negative growth? Justify with specific reason."
      ],
      "metadata": {
        "id": "rFu4xreNphqO"
      }
    },
    {
      "cell_type": "markdown",
      "source": [
        "**Positive Impact:**\n",
        "\n",
        "* Consistent Features: Insights suggest a market segment valuing consistency; targeted strategies can enhance satisfaction.\n",
        "* Homogeneous Subgroup: Identifying a niche market with specific preferences allows tailored products/services for increased market share.\n",
        "* Outlier Detection: Recognizing unique products helps adapt strategies to capitalize on emerging trends.\n",
        "\n",
        "**Negative Growth Considerations:**\n",
        "\n",
        "* Limited Variation: Limited diversity in RAM and battery power may require product portfolio diversification.\n",
        "* Potential Lack of Correlation: Difficulty in predicting preferences based on identified features may challenge optimization strategies.\n",
        "* Overlooking Heterogeneous Segments: Focusing on homogeneous subgroups may lead to missed opportunities in diverse market segments.\n",
        "\n",
        "In summary, adapting to positive insights while addressing potential challenges is crucial for sustained business growth."
      ],
      "metadata": {
        "id": "ey_0qi68phqO"
      }
    },
    {
      "cell_type": "markdown",
      "source": [
        "#### Chart - 9: 3D plots to visualize interactions among three variables (ram, battery_power, px_width)"
      ],
      "metadata": {
        "id": "YJ55k-q6phqO"
      }
    },
    {
      "cell_type": "code",
      "source": [
        "from mpl_toolkits.mplot3d import Axes3D\n",
        "\n",
        "# Select three numerical variables for the 3D plot\n",
        "selected_3d_variables = ['ram', 'battery_power', 'px_width']\n",
        "\n",
        "# Create a 3D scatter plot\n",
        "fig = plt.figure(figsize=(10, 8))\n",
        "ax = fig.add_subplot(111, projection='3d')\n",
        "ax.scatter(mob_price_df[selected_3d_variables[0]],\n",
        "           mob_price_df[selected_3d_variables[1]],\n",
        "           mob_price_df[selected_3d_variables[2]],\n",
        "           c='green', marker='o')\n",
        "\n",
        "# Set axis labels\n",
        "ax.set_xlabel(selected_3d_variables[0])\n",
        "ax.set_ylabel(selected_3d_variables[1])\n",
        "ax.set_zlabel(selected_3d_variables[2])\n",
        "\n",
        "# Show the plot\n",
        "plt.show()\n"
      ],
      "metadata": {
        "id": "gG9Jxrit8FK_"
      },
      "execution_count": null,
      "outputs": []
    },
    {
      "cell_type": "markdown",
      "source": [
        "##### 1. Why did you pick the specific chart?"
      ],
      "metadata": {
        "id": "gCFgpxoyphqP"
      }
    },
    {
      "cell_type": "markdown",
      "source": [
        "\n",
        "The 3D scatter plot was chosen to visualize interactions among the selected numerical variables ('ram', 'battery_power', and 'px_width') in the mob_price_df dataset. This chart enables a simultaneous examination of multivariate relationships and facilitates a comparative analysis of RAM, battery power, and screen pixel width in a three-dimensional space."
      ],
      "metadata": {
        "id": "TVxDimi2phqP"
      }
    },
    {
      "cell_type": "markdown",
      "source": [
        "##### 2. What is/are the insight(s) found from the chart?"
      ],
      "metadata": {
        "id": "OVtJsKN_phqQ"
      }
    },
    {
      "cell_type": "markdown",
      "source": [
        "The even distribution of dots across the entire 3D scatter plot suggests:\n",
        "\n",
        "1. **Uniform Variation:** Devices exhibit a diverse range of values for RAM, battery power, and screen pixel width.\n",
        "2. **Lack of Clear Patterns:** No distinct clusters or patterns indicate a lack of clear segmentation based on these variables.\n",
        "3. **Potential Independence:** Changes in one variable may not be strongly correlated with changes in the other two.\n",
        "4. **Diverse Device Characteristics:** The chart reflects a diverse set of devices with various combinations of features.\n",
        "5. **No Dominant Segment:** Absence of a concentrated region implies no dominant or prevalent segment of devices based on these three features."
      ],
      "metadata": {
        "id": "ngGi97qjphqQ"
      }
    },
    {
      "cell_type": "markdown",
      "source": [
        "##### 3. Will the gained insights help creating a positive business impact?\n",
        "Are there any insights that lead to negative growth? Justify with specific reason."
      ],
      "metadata": {
        "id": "lssrdh5qphqQ"
      }
    },
    {
      "cell_type": "markdown",
      "source": [
        "\n",
        "**Positive Impact:**\n",
        "\n",
        "* **Diverse Market Understanding:** Helps tailor products to a broad range of consumer preferences.\n",
        "* **Flexibility in Marketing:** Allows versatile marketing approaches adaptable to a diverse audience.\n",
        "\n",
        "**Negative Growth Considerations:**\n",
        "\n",
        "* D**ifficulty in Targeting Segments:** Challenges in targeting specific consumer segments may impact market penetration.\n",
        "* **Product Cannibalization Risk:** Even distribution increases the risk of internal competition, potentially leading to product cannibalization.\n",
        "* **Limited Competitive Advantage:** Lack of clear patterns may make it challenging to establish a distinct competitive advantage based on specific device features."
      ],
      "metadata": {
        "id": "tBpY5ekJphqQ"
      }
    },
    {
      "cell_type": "markdown",
      "source": [
        "#### Chart - 14 - Correlation Heatmap"
      ],
      "metadata": {
        "id": "NC_X3p0fY2L0"
      }
    },
    {
      "cell_type": "code",
      "source": [
        "# Selecting all numeric variables\n",
        "numeric_variables = mob_price_df.select_dtypes(include='number')\n",
        "\n",
        "# Calculating the correlation matrix\n",
        "correlation_matrix = numeric_variables.corr()\n",
        "\n",
        "# Creating a heatmap for the correlation matrix\n",
        "plt.figure(figsize=(18, 10))\n",
        "sns.heatmap(correlation_matrix, annot=True, cmap='coolwarm', fmt=\".2f\", linewidths=.5)\n",
        "plt.title('Correlation Matrix for Numeric Variables')\n",
        "plt.show()"
      ],
      "metadata": {
        "id": "xyC9zolEZNRQ"
      },
      "execution_count": null,
      "outputs": []
    },
    {
      "cell_type": "markdown",
      "source": [
        "##### 1. Why did you pick the specific chart?"
      ],
      "metadata": {
        "id": "UV0SzAkaZNRQ"
      }
    },
    {
      "cell_type": "markdown",
      "source": [
        "\n",
        "A correlation matrix with a heatmap was chosen because it provides a concise and visually interpretable summary of relationships between multiple numeric variables. The heatmap's color representation facilitates the identification of strong positive or negative correlations, aiding in the understanding of variable interactions and potential multicollinearity in predictive modeling."
      ],
      "metadata": {
        "id": "DVPuT8LYZNRQ"
      }
    },
    {
      "cell_type": "markdown",
      "source": [
        "##### 2. What is/are the insight(s) found from the chart?"
      ],
      "metadata": {
        "id": "YPEH6qLeZNRQ"
      }
    },
    {
      "cell_type": "markdown",
      "source": [
        "**1. Strong Positive Correlation:**\n",
        "\n",
        "* 'ram' has a strong positive correlation with 'price_range,' suggesting that higher RAM is associated with higher price ranges.\n",
        "\n",
        "**2. Moderate Positive Correlations:**\n",
        "\n",
        "* 'px_height' and 'px_width' are moderately positively correlated.\n",
        "* 'sc_h' and 'sc_w' (screen height and width) show a moderate positive correlation.\n",
        "\n",
        "**3. Other Correlations:**\n",
        "\n",
        "* Weak or negligible correlations are observed for 'battery_power' and 'clock_speed.'\n",
        "* Positive correlation between 'four_g' and 'three_g.'\n",
        "\n",
        "**4. Inverse Correlations:**\n",
        "\n",
        "* Negative correlation between 'three_g' and 'talk_time,' indicating devices with 3G may have slightly lower talk times.\n",
        "\n",
        "**5. Multicollinearity Warning:**\n",
        "\n",
        "* 'pc' and 'fc' exhibit a strong positive correlation, suggesting potential multicollinearity, which can impact predictive model stability."
      ],
      "metadata": {
        "id": "bfSqtnDqZNRR"
      }
    },
    {
      "cell_type": "markdown",
      "source": [
        "#### Chart - 15 - Pair Plot"
      ],
      "metadata": {
        "id": "q29F0dvdveiT"
      }
    },
    {
      "cell_type": "code",
      "source": [
        "# Creating a scatter plot matrix\n",
        "sns.pairplot(mob_price_df[numerical_variables])\n",
        "\n",
        "# Show the plot\n",
        "plt.show()"
      ],
      "metadata": {
        "id": "o58-TEIhveiU"
      },
      "execution_count": null,
      "outputs": []
    },
    {
      "cell_type": "markdown",
      "source": [
        "##### 1. Why did you pick the specific chart?"
      ],
      "metadata": {
        "id": "EXh0U9oCveiU"
      }
    },
    {
      "cell_type": "markdown",
      "source": [
        "The scatter plot matrix is chosen for its ability to visually explore multivariate relationships between numerical variables in the mob_price_df dataset. It allows quick identification of patterns, correlations, and outliers, making it a comprehensive and efficient visualization for understanding the dataset's numeric features."
      ],
      "metadata": {
        "id": "eMmPjTByveiU"
      }
    },
    {
      "cell_type": "markdown",
      "source": [
        "## ***5. Hypothesis Testing***"
      ],
      "metadata": {
        "id": "g-ATYxFrGrvw"
      }
    },
    {
      "cell_type": "markdown",
      "source": [
        "### Based on your chart experiments, define three hypothetical statements from the dataset. In the next three questions, perform hypothesis testing to obtain final conclusion about the statements through your code and statistical testing."
      ],
      "metadata": {
        "id": "Yfr_Vlr8HBkt"
      }
    },
    {
      "cell_type": "markdown",
      "source": [
        "Answer Here."
      ],
      "metadata": {
        "id": "-7MS06SUHkB-"
      }
    },
    {
      "cell_type": "markdown",
      "source": [
        "### Hypothetical Statement - 1"
      ],
      "metadata": {
        "id": "8yEUt7NnHlrM"
      }
    },
    {
      "cell_type": "markdown",
      "source": [
        "#### 1. State Your research hypothesis as a null hypothesis and alternate hypothesis."
      ],
      "metadata": {
        "id": "tEA2Xm5dHt1r"
      }
    },
    {
      "cell_type": "markdown",
      "source": [
        "Answer Here."
      ],
      "metadata": {
        "id": "HI9ZP0laH0D-"
      }
    },
    {
      "cell_type": "markdown",
      "source": [
        "#### 2. Perform an appropriate statistical test."
      ],
      "metadata": {
        "id": "I79__PHVH19G"
      }
    },
    {
      "cell_type": "code",
      "source": [
        "# Perform Statistical Test to obtain P-Value"
      ],
      "metadata": {
        "id": "oZrfquKtyian"
      },
      "execution_count": null,
      "outputs": []
    },
    {
      "cell_type": "markdown",
      "source": [
        "##### Which statistical test have you done to obtain P-Value?"
      ],
      "metadata": {
        "id": "Ou-I18pAyIpj"
      }
    },
    {
      "cell_type": "markdown",
      "source": [
        "Answer Here."
      ],
      "metadata": {
        "id": "s2U0kk00ygSB"
      }
    },
    {
      "cell_type": "markdown",
      "source": [
        "##### Why did you choose the specific statistical test?"
      ],
      "metadata": {
        "id": "fF3858GYyt-u"
      }
    },
    {
      "cell_type": "markdown",
      "source": [
        "Answer Here."
      ],
      "metadata": {
        "id": "HO4K0gP5y3B4"
      }
    },
    {
      "cell_type": "markdown",
      "source": [
        "### Hypothetical Statement - 2"
      ],
      "metadata": {
        "id": "4_0_7-oCpUZd"
      }
    },
    {
      "cell_type": "markdown",
      "source": [
        "#### 1. State Your research hypothesis as a null hypothesis and alternate hypothesis."
      ],
      "metadata": {
        "id": "hwyV_J3ipUZe"
      }
    },
    {
      "cell_type": "markdown",
      "source": [
        "Answer Here."
      ],
      "metadata": {
        "id": "FnpLGJ-4pUZe"
      }
    },
    {
      "cell_type": "markdown",
      "source": [
        "#### 2. Perform an appropriate statistical test."
      ],
      "metadata": {
        "id": "3yB-zSqbpUZe"
      }
    },
    {
      "cell_type": "code",
      "source": [
        "# Perform Statistical Test to obtain P-Value"
      ],
      "metadata": {
        "id": "sWxdNTXNpUZe"
      },
      "execution_count": null,
      "outputs": []
    },
    {
      "cell_type": "markdown",
      "source": [
        "##### Which statistical test have you done to obtain P-Value?"
      ],
      "metadata": {
        "id": "dEUvejAfpUZe"
      }
    },
    {
      "cell_type": "markdown",
      "source": [
        "Answer Here."
      ],
      "metadata": {
        "id": "oLDrPz7HpUZf"
      }
    },
    {
      "cell_type": "markdown",
      "source": [
        "##### Why did you choose the specific statistical test?"
      ],
      "metadata": {
        "id": "Fd15vwWVpUZf"
      }
    },
    {
      "cell_type": "markdown",
      "source": [
        "Answer Here."
      ],
      "metadata": {
        "id": "4xOGYyiBpUZf"
      }
    },
    {
      "cell_type": "markdown",
      "source": [
        "### Hypothetical Statement - 3"
      ],
      "metadata": {
        "id": "bn_IUdTipZyH"
      }
    },
    {
      "cell_type": "markdown",
      "source": [
        "#### 1. State Your research hypothesis as a null hypothesis and alternate hypothesis."
      ],
      "metadata": {
        "id": "49K5P_iCpZyH"
      }
    },
    {
      "cell_type": "markdown",
      "source": [
        "Answer Here."
      ],
      "metadata": {
        "id": "7gWI5rT9pZyH"
      }
    },
    {
      "cell_type": "markdown",
      "source": [
        "#### 2. Perform an appropriate statistical test."
      ],
      "metadata": {
        "id": "Nff-vKELpZyI"
      }
    },
    {
      "cell_type": "code",
      "source": [
        "# Perform Statistical Test to obtain P-Value"
      ],
      "metadata": {
        "id": "s6AnJQjtpZyI"
      },
      "execution_count": null,
      "outputs": []
    },
    {
      "cell_type": "markdown",
      "source": [
        "##### Which statistical test have you done to obtain P-Value?"
      ],
      "metadata": {
        "id": "kLW572S8pZyI"
      }
    },
    {
      "cell_type": "markdown",
      "source": [
        "Answer Here."
      ],
      "metadata": {
        "id": "ytWJ8v15pZyI"
      }
    },
    {
      "cell_type": "markdown",
      "source": [
        "##### Why did you choose the specific statistical test?"
      ],
      "metadata": {
        "id": "dWbDXHzopZyI"
      }
    },
    {
      "cell_type": "markdown",
      "source": [
        "Answer Here."
      ],
      "metadata": {
        "id": "M99G98V6pZyI"
      }
    },
    {
      "cell_type": "markdown",
      "source": [
        "## ***6. Feature Engineering & Data Pre-processing***"
      ],
      "metadata": {
        "id": "yLjJCtPM0KBk"
      }
    },
    {
      "cell_type": "markdown",
      "source": [
        "### 1. Handling Missing Values"
      ],
      "metadata": {
        "id": "xiyOF9F70UgQ"
      }
    },
    {
      "cell_type": "code",
      "source": [
        "# Handling Missing Values & Missing Value Imputation"
      ],
      "metadata": {
        "id": "iRsAHk1K0fpS"
      },
      "execution_count": null,
      "outputs": []
    },
    {
      "cell_type": "markdown",
      "source": [
        "#### What all missing value imputation techniques have you used and why did you use those techniques?"
      ],
      "metadata": {
        "id": "7wuGOrhz0itI"
      }
    },
    {
      "cell_type": "markdown",
      "source": [
        "Answer Here."
      ],
      "metadata": {
        "id": "1ixusLtI0pqI"
      }
    },
    {
      "cell_type": "markdown",
      "source": [
        "### 2. Handling Outliers"
      ],
      "metadata": {
        "id": "id1riN9m0vUs"
      }
    },
    {
      "cell_type": "code",
      "source": [
        "# Handling Outliers & Outlier treatments"
      ],
      "metadata": {
        "id": "M6w2CzZf04JK"
      },
      "execution_count": null,
      "outputs": []
    },
    {
      "cell_type": "markdown",
      "source": [
        "##### What all outlier treatment techniques have you used and why did you use those techniques?"
      ],
      "metadata": {
        "id": "578E2V7j08f6"
      }
    },
    {
      "cell_type": "markdown",
      "source": [
        "Answer Here."
      ],
      "metadata": {
        "id": "uGZz5OrT1HH-"
      }
    },
    {
      "cell_type": "markdown",
      "source": [
        "### 3. Categorical Encoding"
      ],
      "metadata": {
        "id": "89xtkJwZ18nB"
      }
    },
    {
      "cell_type": "code",
      "source": [
        "# Encode your categorical columns"
      ],
      "metadata": {
        "id": "21JmIYMG2hEo"
      },
      "execution_count": null,
      "outputs": []
    },
    {
      "cell_type": "markdown",
      "source": [
        "#### What all categorical encoding techniques have you used & why did you use those techniques?"
      ],
      "metadata": {
        "id": "67NQN5KX2AMe"
      }
    },
    {
      "cell_type": "markdown",
      "source": [
        "Answer Here."
      ],
      "metadata": {
        "id": "UDaue5h32n_G"
      }
    },
    {
      "cell_type": "markdown",
      "source": [
        "### 4. Textual Data Preprocessing\n",
        "(It's mandatory for textual dataset i.e., NLP, Sentiment Analysis, Text Clustering etc.)"
      ],
      "metadata": {
        "id": "Iwf50b-R2tYG"
      }
    },
    {
      "cell_type": "markdown",
      "source": [
        "#### 1. Expand Contraction"
      ],
      "metadata": {
        "id": "GMQiZwjn3iu7"
      }
    },
    {
      "cell_type": "code",
      "source": [
        "# Expand Contraction"
      ],
      "metadata": {
        "id": "PTouz10C3oNN"
      },
      "execution_count": null,
      "outputs": []
    },
    {
      "cell_type": "markdown",
      "source": [
        "#### 2. Lower Casing"
      ],
      "metadata": {
        "id": "WVIkgGqN3qsr"
      }
    },
    {
      "cell_type": "code",
      "source": [
        "# Lower Casing"
      ],
      "metadata": {
        "id": "88JnJ1jN3w7j"
      },
      "execution_count": null,
      "outputs": []
    },
    {
      "cell_type": "markdown",
      "source": [
        "#### 3. Removing Punctuations"
      ],
      "metadata": {
        "id": "XkPnILGE3zoT"
      }
    },
    {
      "cell_type": "code",
      "source": [
        "# Remove Punctuations"
      ],
      "metadata": {
        "id": "vqbBqNaA33c0"
      },
      "execution_count": null,
      "outputs": []
    },
    {
      "cell_type": "markdown",
      "source": [
        "#### 4. Removing URLs & Removing words and digits contain digits."
      ],
      "metadata": {
        "id": "Hlsf0x5436Go"
      }
    },
    {
      "cell_type": "code",
      "source": [
        "# Remove URLs & Remove words and digits contain digits"
      ],
      "metadata": {
        "id": "2sxKgKxu4Ip3"
      },
      "execution_count": null,
      "outputs": []
    },
    {
      "cell_type": "markdown",
      "source": [
        "#### 5. Removing Stopwords & Removing White spaces"
      ],
      "metadata": {
        "id": "mT9DMSJo4nBL"
      }
    },
    {
      "cell_type": "code",
      "source": [
        "# Remove Stopwords"
      ],
      "metadata": {
        "id": "T2LSJh154s8W"
      },
      "execution_count": null,
      "outputs": []
    },
    {
      "cell_type": "code",
      "source": [
        "# Remove White spaces"
      ],
      "metadata": {
        "id": "EgLJGffy4vm0"
      },
      "execution_count": null,
      "outputs": []
    },
    {
      "cell_type": "markdown",
      "source": [
        "#### 6. Rephrase Text"
      ],
      "metadata": {
        "id": "c49ITxTc407N"
      }
    },
    {
      "cell_type": "code",
      "source": [
        "# Rephrase Text"
      ],
      "metadata": {
        "id": "foqY80Qu48N2"
      },
      "execution_count": null,
      "outputs": []
    },
    {
      "cell_type": "markdown",
      "source": [
        "#### 7. Tokenization"
      ],
      "metadata": {
        "id": "OeJFEK0N496M"
      }
    },
    {
      "cell_type": "code",
      "source": [
        "# Tokenization"
      ],
      "metadata": {
        "id": "ijx1rUOS5CUU"
      },
      "execution_count": null,
      "outputs": []
    },
    {
      "cell_type": "markdown",
      "source": [
        "#### 8. Text Normalization"
      ],
      "metadata": {
        "id": "9ExmJH0g5HBk"
      }
    },
    {
      "cell_type": "code",
      "source": [
        "# Normalizing Text (i.e., Stemming, Lemmatization etc.)"
      ],
      "metadata": {
        "id": "AIJ1a-Zc5PY8"
      },
      "execution_count": null,
      "outputs": []
    },
    {
      "cell_type": "markdown",
      "source": [
        "##### Which text normalization technique have you used and why?"
      ],
      "metadata": {
        "id": "cJNqERVU536h"
      }
    },
    {
      "cell_type": "markdown",
      "source": [
        "Answer Here."
      ],
      "metadata": {
        "id": "Z9jKVxE06BC1"
      }
    },
    {
      "cell_type": "markdown",
      "source": [
        "#### 9. Part of speech tagging"
      ],
      "metadata": {
        "id": "k5UmGsbsOxih"
      }
    },
    {
      "cell_type": "code",
      "source": [
        "# POS Taging"
      ],
      "metadata": {
        "id": "btT3ZJBAO6Ik"
      },
      "execution_count": null,
      "outputs": []
    },
    {
      "cell_type": "markdown",
      "source": [
        "#### 10. Text Vectorization"
      ],
      "metadata": {
        "id": "T0VqWOYE6DLQ"
      }
    },
    {
      "cell_type": "code",
      "source": [
        "# Vectorizing Text"
      ],
      "metadata": {
        "id": "yBRtdhth6JDE"
      },
      "execution_count": null,
      "outputs": []
    },
    {
      "cell_type": "markdown",
      "source": [
        "##### Which text vectorization technique have you used and why?"
      ],
      "metadata": {
        "id": "qBMux9mC6MCf"
      }
    },
    {
      "cell_type": "markdown",
      "source": [
        "Answer Here."
      ],
      "metadata": {
        "id": "su2EnbCh6UKQ"
      }
    },
    {
      "cell_type": "markdown",
      "source": [
        "### 4. Feature Manipulation & Selection"
      ],
      "metadata": {
        "id": "-oLEiFgy-5Pf"
      }
    },
    {
      "cell_type": "markdown",
      "source": [
        "#### 1. Feature Manipulation"
      ],
      "metadata": {
        "id": "C74aWNz2AliB"
      }
    },
    {
      "cell_type": "code",
      "source": [
        "# Manipulate Features to minimize feature correlation and create new features"
      ],
      "metadata": {
        "id": "h1qC4yhBApWC"
      },
      "execution_count": null,
      "outputs": []
    },
    {
      "cell_type": "markdown",
      "source": [
        "#### 2. Feature Selection"
      ],
      "metadata": {
        "id": "2DejudWSA-a0"
      }
    },
    {
      "cell_type": "code",
      "source": [
        "# Select your features wisely to avoid overfitting"
      ],
      "metadata": {
        "id": "YLhe8UmaBCEE"
      },
      "execution_count": null,
      "outputs": []
    },
    {
      "cell_type": "markdown",
      "source": [
        "##### What all feature selection methods have you used  and why?"
      ],
      "metadata": {
        "id": "pEMng2IbBLp7"
      }
    },
    {
      "cell_type": "markdown",
      "source": [
        "Answer Here."
      ],
      "metadata": {
        "id": "rb2Lh6Z8BgGs"
      }
    },
    {
      "cell_type": "markdown",
      "source": [
        "##### Which all features you found important and why?"
      ],
      "metadata": {
        "id": "rAdphbQ9Bhjc"
      }
    },
    {
      "cell_type": "markdown",
      "source": [
        "Answer Here."
      ],
      "metadata": {
        "id": "fGgaEstsBnaf"
      }
    },
    {
      "cell_type": "markdown",
      "source": [
        "### 5. Data Transformation"
      ],
      "metadata": {
        "id": "TNVZ9zx19K6k"
      }
    },
    {
      "cell_type": "markdown",
      "source": [
        "#### Do you think that your data needs to be transformed? If yes, which transformation have you used. Explain Why?"
      ],
      "metadata": {
        "id": "nqoHp30x9hH9"
      }
    },
    {
      "cell_type": "code",
      "source": [
        "# Transform Your data"
      ],
      "metadata": {
        "id": "I6quWQ1T9rtH"
      },
      "execution_count": null,
      "outputs": []
    },
    {
      "cell_type": "markdown",
      "source": [
        "### 6. Data Scaling"
      ],
      "metadata": {
        "id": "rMDnDkt2B6du"
      }
    },
    {
      "cell_type": "code",
      "source": [
        "# Scaling your data"
      ],
      "metadata": {
        "id": "dL9LWpySC6x_"
      },
      "execution_count": null,
      "outputs": []
    },
    {
      "cell_type": "markdown",
      "source": [
        "##### Which method have you used to scale you data and why?"
      ],
      "metadata": {
        "id": "yiiVWRdJDDil"
      }
    },
    {
      "cell_type": "markdown",
      "source": [
        "### 7. Dimesionality Reduction"
      ],
      "metadata": {
        "id": "1UUpS68QDMuG"
      }
    },
    {
      "cell_type": "markdown",
      "source": [
        "##### Do you think that dimensionality reduction is needed? Explain Why?"
      ],
      "metadata": {
        "id": "kexQrXU-DjzY"
      }
    },
    {
      "cell_type": "markdown",
      "source": [
        "Answer Here."
      ],
      "metadata": {
        "id": "GGRlBsSGDtTQ"
      }
    },
    {
      "cell_type": "code",
      "source": [
        "# DImensionality Reduction (If needed)"
      ],
      "metadata": {
        "id": "kQfvxBBHDvCa"
      },
      "execution_count": null,
      "outputs": []
    },
    {
      "cell_type": "markdown",
      "source": [
        "##### Which dimensionality reduction technique have you used and why? (If dimensionality reduction done on dataset.)"
      ],
      "metadata": {
        "id": "T5CmagL3EC8N"
      }
    },
    {
      "cell_type": "markdown",
      "source": [
        "Answer Here."
      ],
      "metadata": {
        "id": "ZKr75IDuEM7t"
      }
    },
    {
      "cell_type": "markdown",
      "source": [
        "### 8. Data Splitting"
      ],
      "metadata": {
        "id": "BhH2vgX9EjGr"
      }
    },
    {
      "cell_type": "code",
      "source": [
        "# Split your data to train and test. Choose Splitting ratio wisely."
      ],
      "metadata": {
        "id": "0CTyd2UwEyNM"
      },
      "execution_count": null,
      "outputs": []
    },
    {
      "cell_type": "markdown",
      "source": [
        "##### What data splitting ratio have you used and why?"
      ],
      "metadata": {
        "id": "qjKvONjwE8ra"
      }
    },
    {
      "cell_type": "markdown",
      "source": [
        "Answer Here."
      ],
      "metadata": {
        "id": "Y2lJ8cobFDb_"
      }
    },
    {
      "cell_type": "markdown",
      "source": [
        "### 9. Handling Imbalanced Dataset"
      ],
      "metadata": {
        "id": "P1XJ9OREExlT"
      }
    },
    {
      "cell_type": "markdown",
      "source": [
        "##### Do you think the dataset is imbalanced? Explain Why."
      ],
      "metadata": {
        "id": "VFOzZv6IFROw"
      }
    },
    {
      "cell_type": "markdown",
      "source": [
        "Answer Here."
      ],
      "metadata": {
        "id": "GeKDIv7pFgcC"
      }
    },
    {
      "cell_type": "code",
      "source": [
        "# Handling Imbalanced Dataset (If needed)"
      ],
      "metadata": {
        "id": "nQsRhhZLFiDs"
      },
      "execution_count": null,
      "outputs": []
    },
    {
      "cell_type": "markdown",
      "source": [
        "##### What technique did you use to handle the imbalance dataset and why? (If needed to be balanced)"
      ],
      "metadata": {
        "id": "TIqpNgepFxVj"
      }
    },
    {
      "cell_type": "markdown",
      "source": [
        "Answer Here."
      ],
      "metadata": {
        "id": "qbet1HwdGDTz"
      }
    },
    {
      "cell_type": "markdown",
      "source": [
        "## ***7. ML Model Implementation***"
      ],
      "metadata": {
        "id": "VfCC591jGiD4"
      }
    },
    {
      "cell_type": "markdown",
      "source": [
        "### ML Model - 1"
      ],
      "metadata": {
        "id": "OB4l2ZhMeS1U"
      }
    },
    {
      "cell_type": "code",
      "source": [
        "# ML Model - 1 Implementation\n",
        "\n",
        "# Fit the Algorithm\n",
        "\n",
        "# Predict on the model"
      ],
      "metadata": {
        "id": "7ebyywQieS1U"
      },
      "execution_count": null,
      "outputs": []
    },
    {
      "cell_type": "markdown",
      "source": [
        "#### 1. Explain the ML Model used and it's performance using Evaluation metric Score Chart."
      ],
      "metadata": {
        "id": "ArJBuiUVfxKd"
      }
    },
    {
      "cell_type": "code",
      "source": [
        "# Visualizing evaluation Metric Score chart"
      ],
      "metadata": {
        "id": "rqD5ZohzfxKe"
      },
      "execution_count": null,
      "outputs": []
    },
    {
      "cell_type": "markdown",
      "source": [
        "#### 2. Cross- Validation & Hyperparameter Tuning"
      ],
      "metadata": {
        "id": "4qY1EAkEfxKe"
      }
    },
    {
      "cell_type": "code",
      "source": [
        "# ML Model - 1 Implementation with hyperparameter optimization techniques (i.e., GridSearch CV, RandomSearch CV, Bayesian Optimization etc.)\n",
        "\n",
        "# Fit the Algorithm\n",
        "\n",
        "# Predict on the model"
      ],
      "metadata": {
        "id": "Dy61ujd6fxKe"
      },
      "execution_count": null,
      "outputs": []
    },
    {
      "cell_type": "markdown",
      "source": [
        "##### Which hyperparameter optimization technique have you used and why?"
      ],
      "metadata": {
        "id": "PiV4Ypx8fxKe"
      }
    },
    {
      "cell_type": "markdown",
      "source": [
        "Answer Here."
      ],
      "metadata": {
        "id": "negyGRa7fxKf"
      }
    },
    {
      "cell_type": "markdown",
      "source": [
        "##### Have you seen any improvement? Note down the improvement with updates Evaluation metric Score Chart."
      ],
      "metadata": {
        "id": "TfvqoZmBfxKf"
      }
    },
    {
      "cell_type": "markdown",
      "source": [
        "Answer Here."
      ],
      "metadata": {
        "id": "OaLui8CcfxKf"
      }
    },
    {
      "cell_type": "markdown",
      "source": [
        "### ML Model - 2"
      ],
      "metadata": {
        "id": "dJ2tPlVmpsJ0"
      }
    },
    {
      "cell_type": "markdown",
      "source": [
        "#### 1. Explain the ML Model used and it's performance using Evaluation metric Score Chart."
      ],
      "metadata": {
        "id": "JWYfwnehpsJ1"
      }
    },
    {
      "cell_type": "code",
      "source": [
        "# Visualizing evaluation Metric Score chart"
      ],
      "metadata": {
        "id": "yEl-hgQWpsJ1"
      },
      "execution_count": null,
      "outputs": []
    },
    {
      "cell_type": "markdown",
      "source": [
        "#### 2. Cross- Validation & Hyperparameter Tuning"
      ],
      "metadata": {
        "id": "-jK_YjpMpsJ2"
      }
    },
    {
      "cell_type": "code",
      "source": [
        "# ML Model - 1 Implementation with hyperparameter optimization techniques (i.e., GridSearch CV, RandomSearch CV, Bayesian Optimization etc.)\n",
        "\n",
        "# Fit the Algorithm\n",
        "\n",
        "# Predict on the model"
      ],
      "metadata": {
        "id": "Dn0EOfS6psJ2"
      },
      "execution_count": null,
      "outputs": []
    },
    {
      "cell_type": "markdown",
      "source": [
        "##### Which hyperparameter optimization technique have you used and why?"
      ],
      "metadata": {
        "id": "HAih1iBOpsJ2"
      }
    },
    {
      "cell_type": "markdown",
      "source": [
        "Answer Here."
      ],
      "metadata": {
        "id": "9kBgjYcdpsJ2"
      }
    },
    {
      "cell_type": "markdown",
      "source": [
        "##### Have you seen any improvement? Note down the improvement with updates Evaluation metric Score Chart."
      ],
      "metadata": {
        "id": "zVGeBEFhpsJ2"
      }
    },
    {
      "cell_type": "markdown",
      "source": [
        "Answer Here."
      ],
      "metadata": {
        "id": "74yRdG6UpsJ3"
      }
    },
    {
      "cell_type": "markdown",
      "source": [
        "#### 3. Explain each evaluation metric's indication towards business and the business impact pf the ML model used."
      ],
      "metadata": {
        "id": "bmKjuQ-FpsJ3"
      }
    },
    {
      "cell_type": "markdown",
      "source": [
        "Answer Here."
      ],
      "metadata": {
        "id": "BDKtOrBQpsJ3"
      }
    },
    {
      "cell_type": "markdown",
      "source": [
        "### ML Model - 3"
      ],
      "metadata": {
        "id": "Fze-IPXLpx6K"
      }
    },
    {
      "cell_type": "code",
      "source": [
        "# ML Model - 3 Implementation\n",
        "\n",
        "# Fit the Algorithm\n",
        "\n",
        "# Predict on the model"
      ],
      "metadata": {
        "id": "FFrSXAtrpx6M"
      },
      "execution_count": null,
      "outputs": []
    },
    {
      "cell_type": "markdown",
      "source": [
        "#### 1. Explain the ML Model used and it's performance using Evaluation metric Score Chart."
      ],
      "metadata": {
        "id": "7AN1z2sKpx6M"
      }
    },
    {
      "cell_type": "code",
      "source": [
        "# Visualizing evaluation Metric Score chart"
      ],
      "metadata": {
        "id": "xIY4lxxGpx6M"
      },
      "execution_count": null,
      "outputs": []
    },
    {
      "cell_type": "markdown",
      "source": [
        "#### 2. Cross- Validation & Hyperparameter Tuning"
      ],
      "metadata": {
        "id": "9PIHJqyupx6M"
      }
    },
    {
      "cell_type": "code",
      "source": [
        "# ML Model - 3 Implementation with hyperparameter optimization techniques (i.e., GridSearch CV, RandomSearch CV, Bayesian Optimization etc.)\n",
        "\n",
        "# Fit the Algorithm\n",
        "\n",
        "# Predict on the model"
      ],
      "metadata": {
        "id": "eSVXuaSKpx6M"
      },
      "execution_count": null,
      "outputs": []
    },
    {
      "cell_type": "markdown",
      "source": [
        "##### Which hyperparameter optimization technique have you used and why?"
      ],
      "metadata": {
        "id": "_-qAgymDpx6N"
      }
    },
    {
      "cell_type": "markdown",
      "source": [
        "Answer Here."
      ],
      "metadata": {
        "id": "lQMffxkwpx6N"
      }
    },
    {
      "cell_type": "markdown",
      "source": [
        "##### Have you seen any improvement? Note down the improvement with updates Evaluation metric Score Chart."
      ],
      "metadata": {
        "id": "Z-hykwinpx6N"
      }
    },
    {
      "cell_type": "markdown",
      "source": [
        "Answer Here."
      ],
      "metadata": {
        "id": "MzVzZC6opx6N"
      }
    },
    {
      "cell_type": "markdown",
      "source": [
        "### 1. Which Evaluation metrics did you consider for a positive business impact and why?"
      ],
      "metadata": {
        "id": "h_CCil-SKHpo"
      }
    },
    {
      "cell_type": "markdown",
      "source": [
        "Answer Here."
      ],
      "metadata": {
        "id": "jHVz9hHDKFms"
      }
    },
    {
      "cell_type": "markdown",
      "source": [
        "### 2. Which ML model did you choose from the above created models as your final prediction model and why?"
      ],
      "metadata": {
        "id": "cBFFvTBNJzUa"
      }
    },
    {
      "cell_type": "markdown",
      "source": [
        "Answer Here."
      ],
      "metadata": {
        "id": "6ksF5Q1LKTVm"
      }
    },
    {
      "cell_type": "markdown",
      "source": [
        "### 3. Explain the model which you have used and the feature importance using any model explainability tool?"
      ],
      "metadata": {
        "id": "HvGl1hHyA_VK"
      }
    },
    {
      "cell_type": "markdown",
      "source": [
        "Answer Here."
      ],
      "metadata": {
        "id": "YnvVTiIxBL-C"
      }
    },
    {
      "cell_type": "markdown",
      "source": [
        "## ***8.*** ***Future Work (Optional)***"
      ],
      "metadata": {
        "id": "EyNgTHvd2WFk"
      }
    },
    {
      "cell_type": "markdown",
      "source": [
        "### 1. Save the best performing ml model in a pickle file or joblib file format for deployment process.\n"
      ],
      "metadata": {
        "id": "KH5McJBi2d8v"
      }
    },
    {
      "cell_type": "code",
      "source": [
        "# Save the File"
      ],
      "metadata": {
        "id": "bQIANRl32f4J"
      },
      "execution_count": null,
      "outputs": []
    },
    {
      "cell_type": "markdown",
      "source": [
        "### 2. Again Load the saved model file and try to predict unseen data for a sanity check.\n"
      ],
      "metadata": {
        "id": "iW_Lq9qf2h6X"
      }
    },
    {
      "cell_type": "code",
      "source": [
        "# Load the File and predict unseen data."
      ],
      "metadata": {
        "id": "oEXk9ydD2nVC"
      },
      "execution_count": null,
      "outputs": []
    },
    {
      "cell_type": "markdown",
      "source": [
        "### ***Congrats! Your model is successfully created and ready for deployment on a live server for a real user interaction !!!***"
      ],
      "metadata": {
        "id": "-Kee-DAl2viO"
      }
    },
    {
      "cell_type": "markdown",
      "source": [
        "# **Conclusion**"
      ],
      "metadata": {
        "id": "gCX9965dhzqZ"
      }
    },
    {
      "cell_type": "markdown",
      "source": [
        "Write the conclusion here."
      ],
      "metadata": {
        "id": "Fjb1IsQkh3yE"
      }
    },
    {
      "cell_type": "markdown",
      "source": [
        "### ***Hurrah! You have successfully completed your Machine Learning Capstone Project !!!***"
      ],
      "metadata": {
        "id": "gIfDvo9L0UH2"
      }
    }
  ]
}