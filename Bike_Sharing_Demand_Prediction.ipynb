{
  "nbformat": 4,
  "nbformat_minor": 0,
  "metadata": {
    "colab": {
      "private_outputs": true,
      "provenance": [],
      "collapsed_sections": [
        "mDgbUHAGgjLW",
        "dJ2tPlVmpsJ0",
        "Fze-IPXLpx6K",
        "dhwM1Xp8yABT",
        "-H0RpjffbgbP"
      ],
      "include_colab_link": true
    },
    "kernelspec": {
      "name": "python3",
      "display_name": "Python 3"
    },
    "language_info": {
      "name": "python"
    }
  },
  "cells": [
    {
      "cell_type": "markdown",
      "metadata": {
        "id": "view-in-github",
        "colab_type": "text"
      },
      "source": [
        "<a href=\"https://colab.research.google.com/github/JatinKrRana/AlmaBetter-Capstone_Project_1/blob/main/Bike_Sharing_Demand_Prediction.ipynb\" target=\"_parent\"><img src=\"https://colab.research.google.com/assets/colab-badge.svg\" alt=\"Open In Colab\"/></a>"
      ]
    },
    {
      "cell_type": "markdown",
      "source": [
        "# **Project Name**    -  Bike Sharing Demand Prediction\n",
        "\n"
      ],
      "metadata": {
        "id": "vncDsAP0Gaoa"
      }
    },
    {
      "cell_type": "markdown",
      "source": [
        "##### **Project Type**    - Regression\n",
        "##### **Contribution**    - Individual\n"
      ],
      "metadata": {
        "id": "beRrZCGUAJYm"
      }
    },
    {
      "cell_type": "markdown",
      "source": [
        "# **Project Summary -**"
      ],
      "metadata": {
        "id": "FJNUwmbgGyua"
      }
    },
    {
      "cell_type": "markdown",
      "source": [
        "# **Bike Sharing Demand Prediction using Machine Learning**\n",
        "## **Introduction**\n",
        "\n",
        "The **Bike Sharing Demand Prediction** project aims to develop a machine learning regression model that accurately forecasts the demand for bike rentals in Seoul, South Korea. This project utilizes the SeoulBikeData dataset, which contains valuable information about bike rentals, weather conditions, and temporal factors. The goal is to build a robust predictive model that can assist bike rental services in efficiently managing their inventory and meeting customer demand.\n",
        "\n",
        "## **Dataset Overview**\n",
        "\n",
        "The SeoulBikeData dataset comprises data collected over a period of time, with features such as date, hour, temperature, humidity, wind speed, and more. These features are crucial in understanding the underlying patterns and factors influencing bike rental demand. The dataset will be preprocessed to handle missing values, outliers, and perform feature engineering to extract meaningful information.\n",
        "\n",
        "## **Methodology**\n",
        "\n",
        "### Data Preprocessing\n",
        "\n",
        "The first step is to clean and prepare the data for model training. This involves handling missing values, encoding categorical variables, and scaling numerical features. Additionally, outliers will be identified and addressed to prevent them from adversely affecting model performance.\n",
        "\n",
        "### Feature Engineering\n",
        "\n",
        "Feature engineering plays a crucial role in improving the predictive power of the model. New features such as day of the week, time of day, and weather indicators will be created to capture temporal and environmental patterns.\n",
        "\n",
        "### Model Selection and Training\n",
        "\n",
        "Several regression algorithms, such as Linear Regression, Random Forest, and Gradient Boosting, will be considered for this project. Each model will be trained and evaluated using techniques like cross-validation to ensure robustness and avoid overfitting.\n",
        "\n",
        "### Model Evaluation\n",
        "\n",
        "The performance of the models will be assessed using appropriate evaluation metrics like Mean Absolute Error (MAE), Mean Squared Error (MSE), and R-squared (R²) to gauge their accuracy in predicting bike rental demand.\n",
        "\n",
        "## **Expected Outcomes**\n",
        "\n",
        "Upon successful completion of this project, we anticipate achieving a reliable regression model that accurately predicts bike rental demand in Seoul. The insights gained from this model will empower bike rental services to make data-driven decisions about inventory management, pricing strategies, and resource allocation.\n",
        "\n",
        "## **Impact and Future Work**\n",
        "\n",
        "The implementation of an accurate demand prediction model has the potential to significantly benefit bike rental services. By optimizing resource allocation, they can reduce operational costs and improve customer satisfaction. Furthermore, this project lays the foundation for future enhancements, including real-time prediction capabilities and integration with additional data sources for a more comprehensive analysis.\n",
        "\n",
        "In conclusion, the Bike Sharing Demand Prediction project aims to create a valuable tool for the bike rental industry in Seoul, enabling them to make informed decisions and enhance their services. Through careful data analysis, feature engineering, and model selection, we anticipate delivering a robust solution that contributes to the efficiency and success of bike rental businesses."
      ],
      "metadata": {
        "id": "F6v_1wHtG2nS"
      }
    },
    {
      "cell_type": "markdown",
      "source": [
        "# **GitHub Link -**"
      ],
      "metadata": {
        "id": "w6K7xa23Elo4"
      }
    },
    {
      "cell_type": "markdown",
      "source": [
        "https://github.com/JatinKrRana/AlmaBetter-Capstone_Project_1/blob/main/Bike_Sharing_Demand_Prediction.ipynb"
      ],
      "metadata": {
        "id": "h1o69JH3Eqqn"
      }
    },
    {
      "cell_type": "markdown",
      "source": [
        "# **Problem Statement**\n"
      ],
      "metadata": {
        "id": "yQaldy8SH6Dl"
      }
    },
    {
      "cell_type": "markdown",
      "source": [
        "The main objective of this project is to build a regression model that accurately predicts the number of bikes that will be rented on a given day and time in Seoul. This prediction will be based on features such as date, weather conditions, and other temporal factors. The model's performance will be evaluated based on metrics like Mean Absolute Error (MAE), Root Mean Squared Error (RMSE), and R-squared value.\n"
      ],
      "metadata": {
        "id": "DpeJGUA3kjGy"
      }
    },
    {
      "cell_type": "markdown",
      "source": [
        "# **General Guidelines** : -  "
      ],
      "metadata": {
        "id": "mDgbUHAGgjLW"
      }
    },
    {
      "cell_type": "markdown",
      "source": [
        "1.   Well-structured, formatted, and commented code is required.\n",
        "2.   Exception Handling, Production Grade Code & Deployment Ready Code will be a plus. Those students will be awarded some additional credits.\n",
        "     \n",
        "     The additional credits will have advantages over other students during Star Student selection.\n",
        "       \n",
        "             [ Note: - Deployment Ready Code is defined as, the whole .ipynb notebook should be executable in one go\n",
        "                       without a single error logged. ]\n",
        "\n",
        "3.   Each and every logic should have proper comments.\n",
        "4. You may add as many number of charts you want. Make Sure for each and every chart the following format should be answered.\n",
        "        \n",
        "\n",
        "```\n",
        "# Chart visualization code\n",
        "```\n",
        "            \n",
        "\n",
        "*   Why did you pick the specific chart?\n",
        "*   What is/are the insight(s) found from the chart?\n",
        "* Will the gained insights help creating a positive business impact?\n",
        "Are there any insights that lead to negative growth? Justify with specific reason.\n",
        "\n",
        "5. You have to create at least 15 logical & meaningful charts having important insights.\n",
        "\n",
        "\n",
        "[ Hints : - Do the Vizualization in  a structured way while following \"UBM\" Rule.\n",
        "\n",
        "U - Univariate Analysis,\n",
        "\n",
        "B - Bivariate Analysis (Numerical - Categorical, Numerical - Numerical, Categorical - Categorical)\n",
        "\n",
        "M - Multivariate Analysis\n",
        " ]\n",
        "\n",
        "\n",
        "\n",
        "\n",
        "\n",
        "6. You may add more ml algorithms for model creation. Make sure for each and every algorithm, the following format should be answered.\n",
        "\n",
        "\n",
        "*   Explain the ML Model used and it's performance using Evaluation metric Score Chart.\n",
        "\n",
        "\n",
        "*   Cross- Validation & Hyperparameter Tuning\n",
        "\n",
        "*   Have you seen any improvement? Note down the improvement with updates Evaluation metric Score Chart.\n",
        "\n",
        "*   Explain each evaluation metric's indication towards business and the business impact pf the ML model used.\n",
        "\n",
        "\n",
        "\n",
        "\n",
        "\n",
        "\n",
        "\n",
        "\n",
        "\n",
        "\n",
        "\n",
        "\n",
        "\n",
        "\n",
        "\n",
        "\n",
        "\n",
        "\n"
      ],
      "metadata": {
        "id": "ZrxVaUj-hHfC"
      }
    },
    {
      "cell_type": "markdown",
      "source": [
        "# ***Let's Begin !***"
      ],
      "metadata": {
        "id": "O_i_v8NEhb9l"
      }
    },
    {
      "cell_type": "markdown",
      "source": [
        "## ***1. Know Your Data***"
      ],
      "metadata": {
        "id": "HhfV-JJviCcP"
      }
    },
    {
      "cell_type": "markdown",
      "source": [
        "### Import Libraries"
      ],
      "metadata": {
        "id": "Y3lxredqlCYt"
      }
    },
    {
      "cell_type": "code",
      "source": [
        "# Import Libraries\n",
        "import numpy as np\n",
        "import pandas as pd\n",
        "import matplotlib.pyplot as plt\n",
        "import seaborn as sns\n",
        "\n",
        "from statsmodels.stats.outliers_influence import variance_inflation_factor\n",
        "from sklearn.model_selection import train_test_split\n",
        "from sklearn.linear_model import Ridge, Lasso\n",
        "from sklearn.linear_model import LinearRegression\n",
        "from sklearn.preprocessing import MinMaxScaler\n",
        "from sklearn.preprocessing import StandardScaler\n",
        "from sklearn.metrics import mean_squared_error, r2_score, mean_absolute_error\n",
        "from sklearn.model_selection import cross_val_score\n",
        "from sklearn.ensemble import RandomForestRegressor\n",
        "from sklearn.ensemble import GradientBoostingRegressor\n",
        "from sklearn.model_selection import GridSearchCV\n",
        "from statsmodels.stats.outliers_influence import variance_inflation_factor\n",
        "import datetime as dt\n",
        "import warnings\n",
        "warnings.filterwarnings('ignore')"
      ],
      "metadata": {
        "id": "M8Vqi-pPk-HR"
      },
      "execution_count": null,
      "outputs": []
    },
    {
      "cell_type": "markdown",
      "source": [
        "### Dataset Loading"
      ],
      "metadata": {
        "id": "3RnN4peoiCZX"
      }
    },
    {
      "cell_type": "code",
      "source": [
        "# Load Dataset\n",
        "from google.colab import drive\n",
        "drive.mount('/content/drive')\n",
        "\n",
        "seoul_bike_df = pd.read_csv(\"/content/drive/MyDrive/SeoulBikeData.csv\", encoding='ISO-8859-1')"
      ],
      "metadata": {
        "id": "4CkvbW_SlZ_R"
      },
      "execution_count": null,
      "outputs": []
    },
    {
      "cell_type": "markdown",
      "source": [
        "### Dataset First View"
      ],
      "metadata": {
        "id": "x71ZqKXriCWQ"
      }
    },
    {
      "cell_type": "code",
      "source": [
        "# Dataset First Look\n",
        "seoul_bike_df.head()"
      ],
      "metadata": {
        "id": "LWNFOSvLl09H"
      },
      "execution_count": null,
      "outputs": []
    },
    {
      "cell_type": "markdown",
      "source": [
        "### Dataset Rows & Columns count"
      ],
      "metadata": {
        "id": "7hBIi_osiCS2"
      }
    },
    {
      "cell_type": "code",
      "source": [
        "# Dataset Rows & Columns count\n",
        "seoul_bike_df_rows = seoul_bike_df.shape[0]\n",
        "seoul_bike_df_columns = seoul_bike_df.shape[1]\n",
        "\n",
        "print(f\"Number of rows in seoul_bike_df is {seoul_bike_df_rows} and columns is {seoul_bike_df_columns}.\")"
      ],
      "metadata": {
        "id": "Kllu7SJgmLij"
      },
      "execution_count": null,
      "outputs": []
    },
    {
      "cell_type": "markdown",
      "source": [
        "### Dataset Information"
      ],
      "metadata": {
        "id": "JlHwYmJAmNHm"
      }
    },
    {
      "cell_type": "code",
      "source": [
        "# Dataset Info\n",
        "seoul_bike_df.info()"
      ],
      "metadata": {
        "id": "e9hRXRi6meOf"
      },
      "execution_count": null,
      "outputs": []
    },
    {
      "cell_type": "markdown",
      "source": [
        "#### Duplicate Values"
      ],
      "metadata": {
        "id": "35m5QtbWiB9F"
      }
    },
    {
      "cell_type": "code",
      "source": [
        "# Dataset Duplicate Value Count\n",
        "def duplicate_value_count(data):\n",
        "  list1 = []\n",
        "  duplicate_values = 0\n",
        "  for i in data:\n",
        "    if i in list1:\n",
        "      duplicate_values += 1\n",
        "    else:\n",
        "      list1.append(i)\n",
        "  return duplicate_values"
      ],
      "metadata": {
        "id": "1sLdpKYkmox0"
      },
      "execution_count": null,
      "outputs": []
    },
    {
      "cell_type": "code",
      "source": [
        "columns = [\n",
        "    \"Date\",\n",
        "    \"Rented Bike Count\",\n",
        "    \"Hour\",\n",
        "    \"Temperature(°C)\",\n",
        "    \"Humidity(%)\",\n",
        "    \"Wind speed (m/s)\",\n",
        "    \"Visibility (10m)\",\n",
        "    \"Dew point temperature(°C)\",\n",
        "    \"Solar Radiation (MJ/m2)\",\n",
        "    \"Rainfall(mm)\",\n",
        "    \"Snowfall (cm)\",\n",
        "    \"Seasons\",\n",
        "    \"Holiday\",\n",
        "    \"Functioning Day\"\n",
        "]\n",
        "\n",
        "for column in columns:\n",
        "    print(f\"Number of duplicate values in '{column}' column is {seoul_bike_df[column].duplicated().sum()}.\")\n"
      ],
      "metadata": {
        "id": "bRqZsfdiMM56"
      },
      "execution_count": null,
      "outputs": []
    },
    {
      "cell_type": "markdown",
      "source": [
        "#### Missing Values/Null Values"
      ],
      "metadata": {
        "id": "PoPl-ycgm1ru"
      }
    },
    {
      "cell_type": "code",
      "source": [
        "# Missing Values/Null Values Count\n",
        "null_value_count_1 = seoul_bike_df.isnull().sum().sum()\n",
        "print(f\"Number of null values in the seoul_bike dataframe is {null_value_count_1}.\")"
      ],
      "metadata": {
        "id": "GgHWkxvamxVg"
      },
      "execution_count": null,
      "outputs": []
    },
    {
      "cell_type": "code",
      "source": [
        "bool_df_1 = seoul_bike_df.isnull()\n",
        "column_name_list_1 = list(seoul_bike_df.columns)\n",
        "null_value_list_1 = []\n",
        "\n",
        "for i in column_name_list_1:\n",
        "    null_value = (bool_df_1[i] == True).sum()\n",
        "    null_value_list_1.append(null_value)\n",
        "\n",
        "seoul_bike_null_value_count_df = pd.DataFrame({'Column Name': column_name_list_1, 'Null Value Count': null_value_list_1})\n",
        "print(seoul_bike_null_value_count_df)"
      ],
      "metadata": {
        "id": "3q5wnI3om9sJ"
      },
      "execution_count": null,
      "outputs": []
    },
    {
      "cell_type": "markdown",
      "source": [
        "### What did you know about your dataset?"
      ],
      "metadata": {
        "id": "H0kj-8xxnORC"
      }
    },
    {
      "cell_type": "markdown",
      "source": [
        "1. **General Information:**\n",
        "\n",
        "* The dataset has 8,760 rows and 14 columns.\n",
        "The columns represent various attributes of the data.\n",
        "\n",
        "2. **Column Information:**\n",
        "\n",
        "* The columns have a mix of data types, including int64, float64, and object.\n",
        "* The 'Date' column is of type object, which usually indicates that it might need to be converted to a datetime format for date-related operations.\n",
        "\n",
        "3. **Duplicate Values:**\n",
        "\n",
        "* Many columns seem to have a significant number of duplicate values. This suggests that there may be repeated data points or measurements.\n",
        "\n",
        "4. **Null Values:**\n",
        "\n",
        "* There are no null values in the dataset, which means all cells in the dataset have some value.\n",
        "\n",
        "5. **Column Specifics:**\n",
        "\n",
        "* 'Hour', 'Humidity(%)', 'Visibility (10m)', 'Rainfall(mm)', and 'Snowfall (cm)' are likely discrete variables, as they have integer values.\n",
        "* 'Temperature(°C)', 'Wind speed (m/s)', 'Dew point temperature(°C)', and 'Solar Radiation (MJ/m2)' are likely continuous variables, as they have floating-point values.\n",
        "* 'Seasons', 'Holiday', and 'Functioning Day' are categorical variables, as they have string (object) values."
      ],
      "metadata": {
        "id": "gfoNAAC-nUe_"
      }
    },
    {
      "cell_type": "markdown",
      "source": [
        "## ***2. Understanding Your Variables***"
      ],
      "metadata": {
        "id": "nA9Y7ga8ng1Z"
      }
    },
    {
      "cell_type": "code",
      "source": [
        "# Dataset Columns\n",
        "pd.DataFrame(seoul_bike_df.columns,columns = ['Variables of Seoul Bike DataFrame'])"
      ],
      "metadata": {
        "id": "j7xfkqrt5Ag5"
      },
      "execution_count": null,
      "outputs": []
    },
    {
      "cell_type": "code",
      "source": [
        "# Dataset Describe\n",
        "seoul_bike_df.describe()"
      ],
      "metadata": {
        "id": "DnOaZdaE5Q5t"
      },
      "execution_count": null,
      "outputs": []
    },
    {
      "cell_type": "markdown",
      "source": [
        "### Variables Description"
      ],
      "metadata": {
        "id": "PBTbrJXOngz2"
      }
    },
    {
      "cell_type": "markdown",
      "source": [
        "1. **Date:** This column contains the date on which the data was recorded. It is a temporal variable that provides a timeline for the bike rental data.\n",
        "\n",
        "2. **Rented Bike Count:** This column records the number of bikes that were rented at a specific date and time. It is a numerical variable indicating the demand for bikes.\n",
        "\n",
        "3. **Hour:** This column represents the specific hour of the day when the bike rental data was recorded. It is a temporal variable that further refines the time of rental.\n",
        "\n",
        "4. **Temperature (°C):** This column provides the temperature in degrees Celsius at the time of recording. It is a numerical variable indicating the weather condition.\n",
        "\n",
        "5. **Humidity (%):** This column indicates the relative humidity at the time of recording, expressed as a percentage. It provides information about the moisture content in the air.\n",
        "\n",
        "6. **Wind Speed (m/s):** This column records the wind speed in meters per second at the time of recording. It is a numerical variable indicating the strength of the wind.\n",
        "\n",
        "7. **Visibility (10m):** This column represents the visibility in meters. It indicates how far one can clearly see in the prevailing weather conditions.\n",
        "\n",
        "8. **Dew Point Temperature (°C):** This column provides the dew point temperature in degrees Celsius. It is a measure of atmospheric moisture and can influence human comfort.\n",
        "\n",
        "9. **Solar Radiation (MJ/m2):** This column likely contains data on solar radiation measured in mega joules per square meter. It indicates the amount of solar energy received at the location.\n",
        "\n",
        "10. **Rainfall (mm):** This column records the amount of rainfall in millimeters at the time of recording. It provides information about precipitation.\n",
        "\n",
        "11. **Snowfall (cm):** This column records the amount of snowfall in centimeters at the time of recording. It provides information about snow accumulation.\n",
        "\n",
        "12. **Seasons:** This column likely categorizes the season at the time of recording (e.g., Spring, Summer, Fall, Winter). It is a categorical variable indicating the time of year.\n",
        "\n",
        "13. **Holiday:** This column likely indicates whether the recorded date was a holiday or not. It is a binary variable (Yes/No) indicating the holiday status.\n",
        "\n",
        "14. **Functioning Day:** This column likely indicates whether the day was a functioning (working) day or not. It is a binary variable (Yes/No) indicating the operational status of the day, which might be relevant for bike rentals."
      ],
      "metadata": {
        "id": "aJV4KIxSnxay"
      }
    },
    {
      "cell_type": "markdown",
      "source": [
        "### Check Unique Values for each variable."
      ],
      "metadata": {
        "id": "u3PMJOP6ngxN"
      }
    },
    {
      "cell_type": "code",
      "source": [
        "seoul_bike_df.nunique()"
      ],
      "metadata": {
        "id": "1J8gCLHyW7Bo"
      },
      "execution_count": null,
      "outputs": []
    },
    {
      "cell_type": "code",
      "source": [
        "# Check Unique Values for each variable.\n",
        "variable_list = list(seoul_bike_df.columns)\n",
        "\n",
        "def check_unique_values(variable):\n",
        "  unique_values = seoul_bike_df[variable].unique()\n",
        "  return unique_values"
      ],
      "metadata": {
        "id": "zms12Yq5n-jE"
      },
      "execution_count": null,
      "outputs": []
    },
    {
      "cell_type": "code",
      "source": [
        "pd.DataFrame(check_unique_values(variable_list[11]),columns = ['Unique Seasons'])"
      ],
      "metadata": {
        "id": "3XB70JRRb50i"
      },
      "execution_count": null,
      "outputs": []
    },
    {
      "cell_type": "code",
      "source": [
        "pd.DataFrame(check_unique_values(variable_list[12]),columns = ['Unique Holyday'])"
      ],
      "metadata": {
        "id": "w3y1OL1nb5uS"
      },
      "execution_count": null,
      "outputs": []
    },
    {
      "cell_type": "code",
      "source": [
        "pd.DataFrame(check_unique_values(variable_list[13]),columns = ['Unique Functioning Day'])"
      ],
      "metadata": {
        "id": "XJdMeGhHb5pE"
      },
      "execution_count": null,
      "outputs": []
    },
    {
      "cell_type": "code",
      "source": [
        "seoul_bike_df['Functioning Day'].value_counts()"
      ],
      "metadata": {
        "id": "MYpq4orLwBKK"
      },
      "execution_count": null,
      "outputs": []
    },
    {
      "cell_type": "code",
      "source": [
        "seoul_bike_df.shape"
      ],
      "metadata": {
        "id": "0vd70mt73BW3"
      },
      "execution_count": null,
      "outputs": []
    },
    {
      "cell_type": "markdown",
      "source": [
        "## 3. ***Data Wrangling***"
      ],
      "metadata": {
        "id": "dauF4eBmngu3"
      }
    },
    {
      "cell_type": "markdown",
      "source": [
        "### **Data Cleaning**"
      ],
      "metadata": {
        "id": "bKJF3rekwFvQ"
      }
    },
    {
      "cell_type": "markdown",
      "source": [
        "**1. Converting Date Column:**"
      ],
      "metadata": {
        "id": "xi_qpfVgha3l"
      }
    },
    {
      "cell_type": "code",
      "source": [
        "# Converting 'Date' columns to datetime data type\n",
        "seoul_bike_df['Date'] = pd.to_datetime(seoul_bike_df['Date'])\n",
        "\n",
        "# Extracting day and month from the date column and making new column each\n",
        "seoul_bike_df['Day Name'] = seoul_bike_df['Date'].dt.day_name()\n",
        "seoul_bike_df['Month'] = seoul_bike_df['Date'].dt.month"
      ],
      "metadata": {
        "id": "kK8c3p_JjK9W"
      },
      "execution_count": null,
      "outputs": []
    },
    {
      "cell_type": "markdown",
      "source": [
        "**2. Separating the dataset into numerical and categorical dataset:**"
      ],
      "metadata": {
        "id": "Qc30gYSFqn45"
      }
    },
    {
      "cell_type": "code",
      "source": [
        "# Initializing empty lists for numerical and categorical columns\n",
        "numerical_columns = []\n",
        "categorical_columns = []\n",
        "\n",
        "# Iterating through columns\n",
        "for column in seoul_bike_df.columns:\n",
        "    if column != 'Date':  # Exclude 'Date' column\n",
        "        if seoul_bike_df[column].dtype == 'int64' or seoul_bike_df[column].dtype == 'float64':\n",
        "            numerical_columns.append(column)\n",
        "        else:\n",
        "            categorical_columns.append(column)\n",
        "\n",
        "# Creating separate datasets\n",
        "numerical_data = seoul_bike_df[numerical_columns]\n",
        "categorical_data = seoul_bike_df[categorical_columns]\n"
      ],
      "metadata": {
        "id": "JNEiP2PZmdeB"
      },
      "execution_count": null,
      "outputs": []
    },
    {
      "cell_type": "markdown",
      "source": [
        "### **Data Analysis**"
      ],
      "metadata": {
        "id": "KCJTU4b8hpOV"
      }
    },
    {
      "cell_type": "markdown",
      "source": [
        "**1. Descriptive Statistics:**"
      ],
      "metadata": {
        "id": "HjFEjQmlNYHw"
      }
    },
    {
      "cell_type": "code",
      "source": [
        "# Calculate summary statistics\n",
        "summary_stats = seoul_bike_df.describe()\n",
        "summary_stats"
      ],
      "metadata": {
        "id": "-DqgkbKHg6ag"
      },
      "execution_count": null,
      "outputs": []
    },
    {
      "cell_type": "markdown",
      "source": [
        "**2. Time Series Analysis:**"
      ],
      "metadata": {
        "id": "wwvjucJQKCxf"
      }
    },
    {
      "cell_type": "code",
      "source": [
        "# Calculate the Rented Bike Count Over Time\n",
        "seoul_bike_df.set_index('Date', inplace=True)\n",
        "daily_rented_count = seoul_bike_df['Rented Bike Count'].resample('D').sum()\n",
        "daily_rented_count"
      ],
      "metadata": {
        "id": "uT40QKaShLSM"
      },
      "execution_count": null,
      "outputs": []
    },
    {
      "cell_type": "markdown",
      "source": [
        "**3. Hourly Distribution:**"
      ],
      "metadata": {
        "id": "rOXW01e8KKnA"
      }
    },
    {
      "cell_type": "code",
      "source": [
        "# Calculating the average rented bike count for each hour\n",
        "hourly_rented_count = seoul_bike_df.groupby('Hour')['Rented Bike Count'].mean()\n",
        "hourly_rented_count"
      ],
      "metadata": {
        "id": "H_XZNJ-Ad9rt"
      },
      "execution_count": null,
      "outputs": []
    },
    {
      "cell_type": "markdown",
      "source": [
        "**4. Seasonal Analysis:**"
      ],
      "metadata": {
        "id": "IthmIWHJKUQl"
      }
    },
    {
      "cell_type": "code",
      "source": [
        "# Calculating the total rented bike count for each season\n",
        "seasonal_rented_count = seoul_bike_df.groupby('Seasons')['Rented Bike Count'].sum()\n",
        "seasonal_rented_count"
      ],
      "metadata": {
        "id": "q6ctaMVHToUm"
      },
      "execution_count": null,
      "outputs": []
    },
    {
      "cell_type": "markdown",
      "source": [
        "**5. Holiday vs. Non-Holiday Analysis:**"
      ],
      "metadata": {
        "id": "9ESYMZIyKp1F"
      }
    },
    {
      "cell_type": "code",
      "source": [
        "# Grouping the data by 'Holiday' and calculating the total rented bike count for each category\n",
        "holiday_rented_count = seoul_bike_df.groupby('Holiday')['Rented Bike Count'].sum()\n",
        "holiday_rented_count"
      ],
      "metadata": {
        "id": "RLZBgVBJToR6"
      },
      "execution_count": null,
      "outputs": []
    },
    {
      "cell_type": "markdown",
      "source": [
        "**6.  Functioning Day Analysis:**"
      ],
      "metadata": {
        "id": "U73aZnt9KzRN"
      }
    },
    {
      "cell_type": "code",
      "source": [
        "# Group the data by 'Functioning Day' and calculate the total rented bike count for each category\n",
        "functioning_day_rented_count = seoul_bike_df.groupby('Functioning Day')['Rented Bike Count'].sum()\n",
        "functioning_day_rented_count"
      ],
      "metadata": {
        "id": "pr2ShNBgToO6"
      },
      "execution_count": null,
      "outputs": []
    },
    {
      "cell_type": "markdown",
      "source": [
        "**7. Correlation Analysis:**"
      ],
      "metadata": {
        "id": "oMLrsIAmK5aM"
      }
    },
    {
      "cell_type": "code",
      "source": [
        "# Calculate the correlation matrix\n",
        "correlation_matrix = seoul_bike_df.corr()\n",
        "\n",
        "# Display the correlation matrix\n",
        "print(correlation_matrix)"
      ],
      "metadata": {
        "id": "G1GtU6fUd9hY"
      },
      "execution_count": null,
      "outputs": []
    },
    {
      "cell_type": "markdown",
      "source": [
        "### What all manipulations have you done and insights you found?"
      ],
      "metadata": {
        "id": "MSa1f5Uengrz"
      }
    },
    {
      "cell_type": "markdown",
      "source": [
        "Here are all manipulations I've done and insights I found:-\n",
        "\n",
        "1. **Descriptive Statistics:**\n",
        "\n",
        "* The dataset contains 8,760 data points.\n",
        "* The \"Rented Bike Count\" variable has a mean of 704.60 bikes, with a minimum of 0 bikes and a maximum of 3,556 bikes.\n",
        "* The \"Hour\" variable has values ranging from 0 to 23.\n",
        "* Other variables, including temperature, humidity, wind speed, visibility, dew point temperature, solar radiation, rainfall, and snowfall, also have descriptive statistics.\n",
        "\n",
        "2. **Time Series Analysis:**\n",
        "\n",
        "* The time series data shows the \"Rented Bike Count\" over a period of time from 2017-01-12 to 2018-12-11.\n",
        "\n",
        "3. **Hourly Distribution:**\n",
        "\n",
        "* The hourly distribution of \"Rented Bike Count\" shows variations in bike rentals throughout the day, with a peak around 18:00 (6:00 PM) and a trough around 3:00 (3:00 AM).\n",
        "\n",
        "4. **Seasonal Analysis:**\n",
        "\n",
        "* The dataset is categorized into four seasons: Autumn, Spring, Summer, and Winter.\n",
        "* The highest total bike rentals are in Summer, while Winter has the lowest total bike rentals.\n",
        "\n",
        "5. **Holiday vs. Non-Holiday Analysis:**\n",
        "\n",
        "* The data is categorized into \"Holiday\" and \"No Holiday\" periods.\n",
        "* There are significantly more bike rentals on \"No Holiday\" days compared to \"Holiday\" days.\n",
        "\n",
        "6. **Functioning Day Analysis:**\n",
        "\n",
        "* The data is categorized into \"No\" and \"Yes\" for functioning days.\n",
        "* There are many more bike rentals on \"Yes\" (functioning) days than on \"No\" days.\n",
        "\n",
        "7. **Correlation Analysis:**\n",
        "\n",
        "* The correlation matrix shows the relationships between variables.\n",
        "* \"Rented Bike Count\" is positively correlated with temperature, dew point temperature, and solar radiation.\n",
        "* It is negatively correlated with humidity, wind speed, and rainfall.\n",
        "* Some variables, like visibility and snowfall, have weaker correlations with bike rentals."
      ],
      "metadata": {
        "id": "LbyXE7I1olp8"
      }
    },
    {
      "cell_type": "markdown",
      "source": [
        "## ***4. Data Vizualization, Storytelling & Experimenting with charts : Understand the relationships between variables***"
      ],
      "metadata": {
        "id": "GF8Ens_Soomf"
      }
    },
    {
      "cell_type": "markdown",
      "source": [
        "#### Chart - 1   Rented Bike Count Over Time"
      ],
      "metadata": {
        "id": "0wOQAZs5pc--"
      }
    },
    {
      "cell_type": "code",
      "source": [
        "# Line plot of Bike Rentals over Time\n",
        "plt.figure(figsize=(12, 6))\n",
        "sns.lineplot(x='Date', y='Rented Bike Count', data=seoul_bike_df)\n",
        "plt.title('Bike Rentals over Time')\n",
        "plt.xticks(rotation=45)\n",
        "plt.show()"
      ],
      "metadata": {
        "id": "7v_ESjsspbW7"
      },
      "execution_count": null,
      "outputs": []
    },
    {
      "cell_type": "markdown",
      "source": [
        "##### 1. Why did you pick the specific chart?"
      ],
      "metadata": {
        "id": "K5QZ13OEpz2H"
      }
    },
    {
      "cell_type": "markdown",
      "source": [
        "\n",
        "A line plot was chosen because it's ideal for visualizing trends over time. It's especially effective for continuous data like bike rentals. Line plots make it easy to interpret how the variable changes continuously, making it a suitable choice for displaying bike rental trends over dates."
      ],
      "metadata": {
        "id": "XESiWehPqBRc"
      }
    },
    {
      "cell_type": "markdown",
      "source": [
        "##### 2. What is/are the insight(s) found from the chart?"
      ],
      "metadata": {
        "id": "lQ7QKXXCp7Bj"
      }
    },
    {
      "cell_type": "markdown",
      "source": [
        "Insights:-\n",
        "\n",
        "In 2017, the rented bike count remained relatively stable and consistent, fluctuating between approximately 100 and 500 bikes throughout the year. This suggests a consistent level of demand during that period.\n",
        "\n",
        "In 2018, there is more variability in rented bike counts. The values range from 0 to 1750, indicating a wider range of demand. This suggests that there were periods of very low demand (possibly off-peak hours or days) as well as times of high demand.\n",
        "\n",
        "The change in distribution from a narrow range in 2017 to a wider range in 2018 indicates a potential shift in bike usage patterns. This could be due to various factors, such as increased popularity, changes in operating hours, or shifts in user behavior."
      ],
      "metadata": {
        "id": "C_j1G7yiqdRP"
      }
    },
    {
      "cell_type": "markdown",
      "source": [
        "##### 3. Will the gained insights help creating a positive business impact?\n",
        "Are there any insights that lead to negative growth? Justify with specific reason."
      ],
      "metadata": {
        "id": "448CDAPjqfQr"
      }
    },
    {
      "cell_type": "markdown",
      "source": [
        "Positive Business Impact:\n",
        "\n",
        "1. Understanding the usage patterns over time allows the business to allocate resources more effectively. For example, they can deploy more bikes during peak hours and reduce resources during off-peak times, potentially leading to cost savings and improved customer satisfaction.\n",
        "\n",
        "2. Knowing when and where demand is highest allows for more targeted marketing efforts. For example, promotions and advertisements can be tailored to times of higher demand to attract more users.\n",
        "\n",
        "3. Recognizing seasonal variations can help the business prepare for surges in demand (e.g., during summer months) by ensuring there are enough bikes available. This can lead to higher customer satisfaction and retention.\n",
        "\n",
        "Potential Negative Impact:\n",
        "\n",
        "1. The wider range of bike rentals in 2018 suggests more variability in demand, which can be challenging to manage. Allocating resources optimally during periods of high and low demand might be more complex, potentially leading to operational inefficiencies.\n",
        "\n",
        "2. With higher usage and potential seasonal variations, there might be increased wear and tear on the bikes. This could result in higher maintenance and repair costs for the business.\n",
        "\n",
        "3. Overestimation or Underestimation of Demand: If the business misjudges the level of demand during specific periods, it could lead to either a surplus of bikes (which may not be profitable) or a shortage (resulting in customer dissatisfaction)."
      ],
      "metadata": {
        "id": "3cspy4FjqxJW"
      }
    },
    {
      "cell_type": "markdown",
      "source": [
        "#### Chart - 2   Average Rented Bike Count by Hour"
      ],
      "metadata": {
        "id": "KSlN3yHqYklG"
      }
    },
    {
      "cell_type": "code",
      "source": [
        "# Plot the distribution of rented bike counts by hour\n",
        "plt.figure(figsize=(10, 6))\n",
        "plt.bar(hourly_rented_count.index, hourly_rented_count, color='skyblue')\n",
        "plt.title('Average Rented Bike Count by Hour')\n",
        "plt.xlabel('Hour')\n",
        "plt.ylabel('Average Rented Bike Count')\n",
        "plt.xticks(hourly_rented_count.index)\n",
        "plt.grid(axis='y')\n",
        "plt.show()"
      ],
      "metadata": {
        "id": "R4YgtaqtYklH"
      },
      "execution_count": null,
      "outputs": []
    },
    {
      "cell_type": "markdown",
      "source": [
        "##### 1. Why did you pick the specific chart?"
      ],
      "metadata": {
        "id": "t6dVpIINYklI"
      }
    },
    {
      "cell_type": "markdown",
      "source": [
        "A bar plot was chosen to compare the average rented bike count across different hours. It's effective for visualizing discrete data and allows for easy comparison between categories. The height of each bar directly represents the value it represents, making it straightforward for viewers to understand. This type of plot is suitable for frequency distributions, which is applicable in this case."
      ],
      "metadata": {
        "id": "5aaW0BYyYklI"
      }
    },
    {
      "cell_type": "markdown",
      "source": [
        "##### 2. What is/are the insight(s) found from the chart?"
      ],
      "metadata": {
        "id": "ijmpgYnKYklI"
      }
    },
    {
      "cell_type": "markdown",
      "source": [
        "**Insights:-**\n",
        "\n",
        "**Peak Hours of Demand:**\n",
        "\n",
        "Hours 8 (8:00 AM) and 17 (5:00 PM) have the highest average rented bike counts. This suggests that these are peak hours when people are likely using bikes for commuting or other purposes.\n",
        "\n",
        "**Early Morning and Late Night Usage:**\n",
        "\n",
        "Hours 3 (3:00 AM) and 4 (4:00 AM) have significantly lower average bike counts. This indicates low demand during these early morning hours, which is expected.\n",
        "\n",
        "**Evening and Night Usage:**\n",
        "\n",
        "Hours 18 (6:00 PM) to 23 (11:00 PM) still have relatively high bike counts. This suggests that people are using bikes for leisure or other activities during the evening and night.\n",
        "\n",
        "**Midday Usage:**\n",
        "\n",
        "Hours 11 (11:00 AM) to 15 (3:00 PM) also show relatively high average bike counts. This could indicate usage during lunch breaks or for short trips during midday.\n",
        "\n",
        "**Afternoon Usage:**\n",
        "\n",
        "Hours 16 (4:00 PM) and 17 (5:00 PM) also show strong demand, potentially indicating people using bikes for afternoon activities or commuting back home."
      ],
      "metadata": {
        "id": "PSx9atu2YklI"
      }
    },
    {
      "cell_type": "markdown",
      "source": [
        "##### 3. Will the gained insights help creating a positive business impact?\n",
        "Are there any insights that lead to negative growth? Justify with specific reason."
      ],
      "metadata": {
        "id": "-JiQyfWJYklI"
      }
    },
    {
      "cell_type": "markdown",
      "source": [
        "Positive Business Impact:\n",
        "\n",
        "1. **Optimized Resource Allocation:** Knowing the peak hours of demand (8 AM and 5 PM) allows the business to allocate more bikes and staff during those times, ensuring they meet customer needs efficiently.\n",
        "\n",
        "2. **Enhanced Customer Experience:** By having enough bikes available during high-demand hours, the business can reduce wait times and improve the overall customer experience, potentially leading to higher customer satisfaction and retention.\n",
        "\n",
        "3. **Marketing Campaign Optimization:** The insights can be used to target marketing efforts more effectively. For instance, the business can run promotions or advertisements during times of lower demand to encourage usage.\n",
        "\n",
        "4. **Service Expansion Planning:** Recognizing the demand patterns helps in planning for service expansion. For instance, if there's a consistently high demand during off-peak hours, the business might consider extending operating hours.\n",
        "\n",
        "Potential Negative Impact:\n",
        "\n",
        "1. **Maintenance and Repair Challenges:** With high usage during peak hours, there might be more wear and tear on the bikes. This could lead to increased maintenance and repair costs, potentially impacting profitability.\n",
        "\n",
        "2. **Overestimation or Underestimation of Demand:** If the business overestimates or underestimates demand during specific periods, it could lead to either a surplus of bikes (which may not be profitable) or a shortage (resulting in customer dissatisfaction).\n",
        "\n",
        "3. **Weather Dependency:** If demand is highly correlated with specific weather conditions (e.g., sunny days), the business may be vulnerable to unexpected weather changes, potentially impacting profitability.\n",
        "\n",
        "Overall, while the insights provide valuable information for optimizing operations and improving customer experience, there are potential challenges such as maintenance costs and weather-dependent demand fluctuations that need to be managed. It's crucial for the business to use these insights strategically and adapt their strategies to mitigate potential negative impacts and maximize positive outcomes.\n",
        "\n",
        "\n",
        "\n",
        "\n",
        "\n"
      ],
      "metadata": {
        "id": "BcBbebzrYklV"
      }
    },
    {
      "cell_type": "markdown",
      "source": [
        "#### Chart - 3 Total Rented Bike Count by Season"
      ],
      "metadata": {
        "id": "EM7whBJCYoAo"
      }
    },
    {
      "cell_type": "code",
      "source": [
        "# Create a bar chart to visualize bike rentals by season\n",
        "plt.figure(figsize=(8, 6))\n",
        "plt.bar(seasonal_rented_count.index, seasonal_rented_count, color='green')\n",
        "plt.title('Total Rented Bike Count by Season')\n",
        "plt.xlabel('Season')\n",
        "plt.ylabel('Total Rented Bike Count')\n",
        "plt.xticks(rotation=45)\n",
        "plt.grid(axis='y')\n",
        "plt.show()"
      ],
      "metadata": {
        "id": "t6GMdE67YoAp"
      },
      "execution_count": null,
      "outputs": []
    },
    {
      "cell_type": "markdown",
      "source": [
        "##### 1. Why did you pick the specific chart?"
      ],
      "metadata": {
        "id": "fge-S5ZAYoAp"
      }
    },
    {
      "cell_type": "markdown",
      "source": [
        "A bar plot was chosen to compare the total rented bike count across different seasons. It's effective for visualizing discrete data and allows for easy comparison between categories. The height of each bar directly represents the value it represents, making it straightforward for viewers to understand. This type of plot is suitable for frequency distributions, which is applicable in this case."
      ],
      "metadata": {
        "id": "5dBItgRVYoAp"
      }
    },
    {
      "cell_type": "markdown",
      "source": [
        "##### 2. What is/are the insight(s) found from the chart?"
      ],
      "metadata": {
        "id": "85gYPyotYoAp"
      }
    },
    {
      "cell_type": "markdown",
      "source": [
        "Insights:-\n",
        "\n",
        "1. Summer has the highest total rented bike count, indicating it's the peak season for bike rentals. This could be due to favorable weather conditions and more outdoor activities.\n",
        "\n",
        "\n",
        "2. Autumn follows closely behind Summer in terms of bike rentals, suggesting that the demand for bikes remains relatively high as the weather transitions into cooler temperatures.\n",
        "\n",
        "\n",
        "3. Spring also has a substantial total rented bike count, indicating that it's a popular season for bike rentals. The mild weather in Spring likely encourages outdoor activities.\n",
        "Winter has the Lowest Demand:\n",
        "\n",
        "4. Winter shows the lowest total rented bike count. This is expected, as colder weather and potential adverse conditions may discourage bike usage during this season"
      ],
      "metadata": {
        "id": "4jstXR6OYoAp"
      }
    },
    {
      "cell_type": "markdown",
      "source": [
        "##### 3. Will the gained insights help creating a positive business impact?\n",
        "Are there any insights that lead to negative growth? Justify with specific reason."
      ],
      "metadata": {
        "id": "RoGjAbkUYoAp"
      }
    },
    {
      "cell_type": "markdown",
      "source": [
        "Positive Business Impact:\n",
        "\n",
        "1. **Optimized Resource Allocation:** Understanding seasonal variations allows the business to allocate resources more efficiently. For example, during peak seasons like Summer and Autumn, they can deploy more bikes and staff to meet higher demand.\n",
        "\n",
        "2. **Marketing Campaign Optimization:** Tailoring marketing efforts to different seasons can lead to higher customer acquisition and retention rates. For instance, running promotions during the high-demand seasons can attract more users.\n",
        "\n",
        "3. **Improved Customer Experience:** Having enough bikes available during peak seasons can reduce wait times and enhance the overall customer experience, potentially leading to higher customer satisfaction and retention.\n",
        "\n",
        "4. **Seasonal Pricing Strategies:** The insights can inform seasonal pricing adjustments. For example, the business may consider offering discounts during off-peak seasons to stimulate demand.\n",
        "\n",
        "Potential Negative Impact:\n",
        "\n",
        "1. **Resource Overallocation or Underallocation:** If the business misjudges the level of demand during specific seasons, it could lead to either a surplus of bikes (which may not be profitable) or a shortage (resulting in customer dissatisfaction).\n",
        "\n",
        "2. **Weather Dependency:** If demand is highly correlated with specific weather conditions (e.g., low demand in Winter due to cold weather), the business may be vulnerable to unexpected weather changes, potentially impacting profitability.\n",
        "\n",
        "3. **Maintenance and Storage Challenges:** During high-demand seasons, there may be more wear and tear on the bikes, leading to increased maintenance and repair costs. Additionally, finding adequate storage space for additional bikes during peak seasons may be a challenge.\n",
        "\n",
        "4. **Potential for Seasonal Staffing Fluctuations:** To match seasonal demand, the business may need to hire additional staff during peak seasons. However, this may lead to challenges in staff scheduling and management.\n",
        "\n",
        "Overall, while the insights provide valuable information for optimizing operations and marketing strategies, there are potential challenges such as maintenance costs, weather-dependent demand fluctuations, and resource allocation that need to be managed. It's crucial for the business to use these insights strategically and adapt their strategies to mitigate potential negative impacts and maximize positive outcomes.\n",
        "\n",
        "\n",
        "\n",
        "\n",
        "\n"
      ],
      "metadata": {
        "id": "zfJ8IqMcYoAp"
      }
    },
    {
      "cell_type": "markdown",
      "source": [
        "#### Chart - 4 Total Rented Bike Count on Holidays vs. Regular Days"
      ],
      "metadata": {
        "id": "bamQiAODYuh1"
      }
    },
    {
      "cell_type": "code",
      "source": [
        "# Create a bar chart to visualize bike rentals on holidays vs. regular days\n",
        "plt.figure(figsize=(8, 6))\n",
        "plt.bar(holiday_rented_count.index, holiday_rented_count, color=['blue', 'green'])\n",
        "plt.title('Total Rented Bike Count on Holidays vs. Regular Days')\n",
        "plt.xlabel('Holiday')\n",
        "plt.ylabel('Total Rented Bike Count')\n",
        "plt.xticks([0, 1], ['Regular Day', 'Holiday'])\n",
        "plt.grid(axis='y')\n",
        "plt.show()"
      ],
      "metadata": {
        "id": "TIJwrbroYuh3"
      },
      "execution_count": null,
      "outputs": []
    },
    {
      "cell_type": "markdown",
      "source": [
        "##### 1. Why did you pick the specific chart?"
      ],
      "metadata": {
        "id": "QHF8YVU7Yuh3"
      }
    },
    {
      "cell_type": "markdown",
      "source": [
        "A grouped bar plot was chosen to compare bike rentals on regular days versus holidays. This type of plot is effective for visually comparing two categories side by side. It's suitable for categorical data and allows for easy interpretation and clear differentiation between the two groups. Given that we're comparing only two categories (regular days and holidays), a grouped bar plot is a straightforward and effective choice."
      ],
      "metadata": {
        "id": "dcxuIMRPYuh3"
      }
    },
    {
      "cell_type": "markdown",
      "source": [
        "##### 2. What is/are the insight(s) found from the chart?"
      ],
      "metadata": {
        "id": "GwzvFGzlYuh3"
      }
    },
    {
      "cell_type": "markdown",
      "source": [
        "Insights:-\n",
        "\n",
        "1. The total rented bike count on non-holidays (\"No Holiday\") is significantly higher compared to holidays. This indicates that people tend to use rented bikes more on regular, non-holiday days.\n",
        "\n",
        "\n",
        "2. The data suggests that holidays may not significantly impact bike rental demand. This could indicate that factors like weather, day of the week, or other seasonal patterns might have a stronger influence on bike rental behavior."
      ],
      "metadata": {
        "id": "uyqkiB8YYuh3"
      }
    },
    {
      "cell_type": "markdown",
      "source": [
        "##### 3. Will the gained insights help creating a positive business impact?\n",
        "Are there any insights that lead to negative growth? Justify with specific reason."
      ],
      "metadata": {
        "id": "qYpmQ266Yuh3"
      }
    },
    {
      "cell_type": "markdown",
      "source": [
        "Positive Business Impact:\n",
        "\n",
        "1. **Optimized Resource Allocation:** The insight that bike rentals are significantly higher on non-holiday days suggests that allocating more resources (such as bikes and staff) on regular days can help meet the increased demand. This can lead to improved customer satisfaction and potentially higher profits.\n",
        "\n",
        "2. **Tailored Marketing Strategies:** Recognizing the difference in rental patterns between holidays and regular days allows for the implementation of tailored marketing strategies. Special promotions or events can be organized on holidays to boost rentals, while focused efforts on regular days can maximize profitability.\n",
        "\n",
        "Potential Negative Impact:\n",
        "\n",
        "1. **Potential for Overallocation on Holidays:** If the business misjudges the level of demand on holidays and allocates too many resources, it could lead to a surplus of bikes and staff, which may not be profitable and could result in unnecessary costs.\n",
        "\n",
        "2. **Weather Dependency:** If bike rental demand is highly dependent on weather conditions, particularly on holidays, the business may be vulnerable to unexpected weather changes. Poor weather on holidays could lead to lower rentals and potentially impact profitability.\n",
        "\n",
        "Overall, while the gained insights offer valuable opportunities for optimizing operations and marketing strategies, there are potential challenges such as overallocation on holidays and weather-dependent demand fluctuations that need to be carefully managed. The business should use these insights strategically and adapt their strategies to mitigate potential negative impacts and maximize positive outcomes.\n",
        "\n",
        "\n",
        "\n",
        "\n",
        "\n"
      ],
      "metadata": {
        "id": "_WtzZ_hCYuh4"
      }
    },
    {
      "cell_type": "markdown",
      "source": [
        "#### Chart - 5 The relationship between weather features and rented bike count"
      ],
      "metadata": {
        "id": "4Of9eVA-YrdM"
      }
    },
    {
      "cell_type": "code",
      "source": [
        "# Create scatter plots to visualize the relationship between weather features and rented bike count\n",
        "plt.figure(figsize=(12, 8))\n",
        "\n",
        "plt.subplot(2, 2, 1)\n",
        "plt.scatter(seoul_bike_df['Temperature(°C)'], seoul_bike_df['Rented Bike Count'], color='blue', alpha=0.5)\n",
        "plt.title('Temperature vs Rented Bike Count')\n",
        "plt.xlabel('Temperature(°C)')\n",
        "plt.ylabel('Rented Bike Count')\n",
        "\n",
        "plt.subplot(2, 2, 2)\n",
        "plt.scatter(seoul_bike_df['Humidity(%)'], seoul_bike_df['Rented Bike Count'], color='green', alpha=0.5)\n",
        "plt.title('Humidity vs Rented Bike Count')\n",
        "plt.xlabel('Humidity(%)')\n",
        "plt.ylabel('Rented Bike Count')\n",
        "\n",
        "plt.subplot(2, 2, 3)\n",
        "plt.scatter(seoul_bike_df['Wind speed (m/s)'], seoul_bike_df['Rented Bike Count'], color='red', alpha=0.5)\n",
        "plt.title('Wind Speed vs Rented Bike Count')\n",
        "plt.xlabel('Wind Speed (m/s)')\n",
        "plt.ylabel('Rented Bike Count')\n",
        "\n",
        "plt.subplot(2, 2, 4)\n",
        "plt.scatter(seoul_bike_df['Visibility (10m)'], seoul_bike_df['Rented Bike Count'], color='purple', alpha=0.5)\n",
        "plt.title('Visibility vs Rented Bike Count')\n",
        "plt.xlabel('Visibility (10m)')\n",
        "plt.ylabel('Rented Bike Count')\n",
        "\n",
        "plt.tight_layout()\n",
        "plt.show()"
      ],
      "metadata": {
        "id": "irlUoxc8YrdO"
      },
      "execution_count": null,
      "outputs": []
    },
    {
      "cell_type": "markdown",
      "source": [
        "##### 1. Why did you pick the specific chart?"
      ],
      "metadata": {
        "id": "iky9q4vBYrdO"
      }
    },
    {
      "cell_type": "markdown",
      "source": [
        "\n",
        "Scatter plots were chosen to visualize the relationship between weather features (temperature, humidity, wind speed, visibility) and rented bike count. They are ideal for examining associations between continuous variables, allowing for the identification of patterns, outliers, and trends in the data. This type of plot is well-suited for exploring how weather conditions may influence bike rentals."
      ],
      "metadata": {
        "id": "aJRCwT6DYrdO"
      }
    },
    {
      "cell_type": "markdown",
      "source": [
        "##### 2. What is/are the insight(s) found from the chart?"
      ],
      "metadata": {
        "id": "F6T5p64dYrdO"
      }
    },
    {
      "cell_type": "markdown",
      "source": [
        "**Insights:-**\n",
        "\n",
        "1. In the first chart, a left-skewed distribution indicates that on days with higher temperatures, there tends to be a higher concentration of rented bikes. This suggests that warmer weather may lead to increased bike rentals.\n",
        "\n",
        "2. The second chart, displaying a normal distribution, suggests that there may not be a strong linear relationship between humidity and rented bike count. Bike rentals appear to be relatively evenly distributed across different humidity levels.\n",
        "\n",
        "3. In the third chart, a right-skewed distribution indicates that on days with lower wind speeds, there is a higher concentration of rented bikes. This suggests that calmer wind conditions may be more favorable for bike rentals.\n",
        "\n",
        "4. The fourth chart, showing a left-skewed distribution, suggests that days with higher visibility tend to have a higher concentration of rented bikes. This implies that clearer visibility may be associated with increased bike rentals.\n",
        "\n",
        "**Overall Insights:**\n",
        "\n",
        "Weather conditions such as temperature, wind speed, and visibility seem to have noticeable impacts on bike rental counts.\n",
        "\n",
        "Humidity, while important for comfort, may not have a significant linear correlation with bike rentals."
      ],
      "metadata": {
        "id": "Xx8WAJvtYrdO"
      }
    },
    {
      "cell_type": "markdown",
      "source": [
        "##### 3. Will the gained insights help creating a positive business impact?\n",
        "Are there any insights that lead to negative growth? Justify with specific reason."
      ],
      "metadata": {
        "id": "y-Ehk30pYrdP"
      }
    },
    {
      "cell_type": "markdown",
      "source": [
        "Positive Business Impact:\n",
        "\n",
        "1. **Optimized Operations Based on Weather:** Understanding the impact of weather conditions on bike rentals allows the business to optimize operations. They can adjust bike deployment, staff scheduling, and maintenance efforts based on forecasted weather conditions. For example, on days with clear visibility and favorable temperatures, they can allocate more resources.\n",
        "\n",
        "2. **Tailored Marketing and Promotions:** The insights can guide marketing efforts. For instance, the business can run promotions or advertisements during days with ideal weather conditions to attract more users. This targeted approach can lead to increased rentals and potentially higher profits.\n",
        "\n",
        "Potential Negative Impact:\n",
        "\n",
        "1. **Dependency on Weather Conditions:** The business is highly dependent on weather conditions for demand. Unpredictable or adverse weather could lead to fluctuations in rental counts. For example, sudden rain or storms could lead to a significant drop in bike rentals.\n",
        "\n",
        "2. **Risk of Over-Optimization:** Relying heavily on weather data for resource allocation and marketing may lead to over-optimization. If forecasts are inaccurate or if the business becomes too reactive to short-term weather changes, it could result in inefficient resource allocation and unnecessary costs.\n",
        "\n",
        "3. **Impact on Maintenance Costs:** Adjusting resources based on weather conditions may lead to varying levels of wear and tear on the bikes. For example, bikes might see more wear during periods of high demand in favorable weather. This could increase maintenance and repair costs.\n",
        "\n",
        "Overall, while the gained insights offer opportunities for optimizing operations and marketing strategies, there are potential risks associated with the dependency on weather conditions and the need for careful resource allocation. The business should use these insights judiciously, considering long-term trends and potential seasonal adjustments, to mitigate potential negative impacts and maximize positive outcomes.\n",
        "\n",
        "\n",
        "\n",
        "\n",
        "\n"
      ],
      "metadata": {
        "id": "jLNxxz7MYrdP"
      }
    },
    {
      "cell_type": "markdown",
      "source": [
        "#### Chart - 6 Total Rented Bike Count on Functioning vs. Non-Functioning Days"
      ],
      "metadata": {
        "id": "OH-pJp9IphqM"
      }
    },
    {
      "cell_type": "code",
      "source": [
        "# Create a bar chart to visualize bike rentals on functioning vs. non-functioning days\n",
        "plt.figure(figsize=(8, 6))\n",
        "plt.bar(functioning_day_rented_count.index, functioning_day_rented_count, color=['purple', 'orange'])\n",
        "plt.title('Total Rented Bike Count on Functioning vs. Non-Functioning Days')\n",
        "plt.xlabel('Functioning Day')\n",
        "plt.ylabel('Total Rented Bike Count')\n",
        "plt.xticks([0, 1], ['Non-Functioning Day', 'Functioning Day'])\n",
        "plt.grid(axis='y')\n",
        "plt.show()"
      ],
      "metadata": {
        "id": "kuRf4wtuphqN"
      },
      "execution_count": null,
      "outputs": []
    },
    {
      "cell_type": "markdown",
      "source": [
        "##### 1. Why did you pick the specific chart?"
      ],
      "metadata": {
        "id": "bbFf2-_FphqN"
      }
    },
    {
      "cell_type": "markdown",
      "source": [
        "A bar chart was chosen for comparing bike rentals on functioning and non-functioning days due to its suitability for visualizing categorical data. It provides a clear and easy-to-interpret representation of the total rented bike count in each category. Given that there are only two distinct categories to compare, a bar chart effectively highlights the differences."
      ],
      "metadata": {
        "id": "loh7H2nzphqN"
      }
    },
    {
      "cell_type": "markdown",
      "source": [
        "##### 2. What is/are the insight(s) found from the chart?"
      ],
      "metadata": {
        "id": "_ouA3fa0phqN"
      }
    },
    {
      "cell_type": "markdown",
      "source": [
        "The insight derived from this data is that on non-functioning days (indicated by \"No\" in the 'Functioning Day' column), there were zero rented bikes. However, on functioning days (indicated by \"Yes\" in the 'Functioning Day' column), there were a total of 6,172,314 rented bikes. This suggests a significant disparity in bike rentals based on the functioning status of the service. It's crucial for the bike rental service to ensure operational functionality on days with high demand to capitalize on the potential for rentals."
      ],
      "metadata": {
        "id": "VECbqPI7phqN"
      }
    },
    {
      "cell_type": "markdown",
      "source": [
        "##### 3. Will the gained insights help creating a positive business impact?\n",
        "Are there any insights that lead to negative growth? Justify with specific reason."
      ],
      "metadata": {
        "id": "Seke61FWphqN"
      }
    },
    {
      "cell_type": "markdown",
      "source": [
        "Yes, the gained insights can indeed lead to a positive business impact.\n",
        "\n",
        "**Positive Impact:**\n",
        "\n",
        "Operational Efficiency: Understanding the substantial difference in bike rentals between functioning and non-functioning days emphasizes the importance of maintaining operational functionality. This insight can lead to better resource allocation and staffing, ensuring the business is well-prepared to meet high demand on functioning days.\n",
        "\n",
        "**Negative Growth:**\n",
        "\n",
        "Loss of Potential Revenue: The insight that there were zero rentals on non-functioning days indicates a missed revenue opportunity. If there are days marked as non-functioning due to maintenance or other reasons, it's crucial to minimize them or find alternatives to keep operations running smoothly. Otherwise, the business could face negative growth due to lost revenue.\n",
        "\n",
        "Overall, optimizing operational efficiency and minimizing non-functioning days can lead to positive growth for the bike rental business.\n",
        "\n",
        "\n",
        "\n",
        "\n",
        "\n"
      ],
      "metadata": {
        "id": "DW4_bGpfphqN"
      }
    },
    {
      "cell_type": "markdown",
      "source": [
        "#### Chart - 7 Solar Radiation vs Temperature"
      ],
      "metadata": {
        "id": "PIIx-8_IphqN"
      }
    },
    {
      "cell_type": "code",
      "source": [
        "# Scatter plot to visualize the relationship between solar radiation and temperature\n",
        "plt.figure(figsize=(8, 6))\n",
        "plt.scatter(seoul_bike_df['Solar Radiation (MJ/m2)'], seoul_bike_df['Temperature(°C)'], color='blue', alpha=0.5)\n",
        "plt.title('Solar Radiation vs Temperature')\n",
        "plt.xlabel('Solar Radiation (MJ/m2)')\n",
        "plt.ylabel('Temperature(°C)')\n",
        "plt.grid(True)\n",
        "plt.show()"
      ],
      "metadata": {
        "id": "lqAIGUfyphqO"
      },
      "execution_count": null,
      "outputs": []
    },
    {
      "cell_type": "markdown",
      "source": [
        "##### 1. Why did you pick the specific chart?"
      ],
      "metadata": {
        "id": "t27r6nlMphqO"
      }
    },
    {
      "cell_type": "markdown",
      "source": [
        "A scatter plot was chosen to visualize the relationship between solar radiation and temperature because both variables are continuous. This type of plot allows for the observation of any patterns or trends in the data, helps identify outliers, and provides a clear and intuitive representation of the relationship between the variables."
      ],
      "metadata": {
        "id": "iv6ro40sphqO"
      }
    },
    {
      "cell_type": "markdown",
      "source": [
        "##### 2. What is/are the insight(s) found from the chart?"
      ],
      "metadata": {
        "id": "r2jJGEOYphqO"
      }
    },
    {
      "cell_type": "markdown",
      "source": [
        "Following are the insights that I found from the chart:-\n",
        "1. Most data points have low solar radiation levels (0.0 to 0.5 on x-axis).\n",
        "2. Higher solar radiation corresponds to higher temperatures.\n",
        "3. Instances with high solar radiation are less common.\n",
        "\n",
        "This suggests that the dataset primarily consists of moderate temperatures with lower solar radiation levels. Higher solar radiation is associated with warmer temperatures, but such instances are less frequent."
      ],
      "metadata": {
        "id": "Po6ZPi4hphqO"
      }
    },
    {
      "cell_type": "markdown",
      "source": [
        "##### 3. Will the gained insights help creating a positive business impact?\n",
        "Are there any insights that lead to negative growth? Justify with specific reason."
      ],
      "metadata": {
        "id": "tVKnX586ll9t"
      }
    },
    {
      "cell_type": "markdown",
      "source": [
        "The gained insights can potentially lead to a positive business impact:\n",
        "\n",
        "***Positive Impact:***\n",
        "\n",
        "Optimized Resource Allocation:-\n",
        "\n",
        " Understanding that the dataset primarily consists of instances with moderate temperatures and lower solar radiation levels allows the business to allocate resources efficiently. For example, they can plan for an appropriate number of bikes available during these typical conditions.\n",
        "\n",
        "Forecasting Accuracy:-\n",
        "\n",
        " Recognizing the positive relationship between solar radiation and temperature enables the business to refine demand forecasting models. This can lead to more accurate predictions and better preparation for variations in demand based on environmental factors.\n",
        "\n",
        "***Negative Growth:***\n",
        "\n",
        "Risk of Underestimation:-\n",
        "\n",
        " If the business relies solely on historical data from the provided dataset, they may underestimate demand during periods of higher solar radiation and warmer temperatures. This could lead to a shortage of available bikes and potentially dissatisfied customers.\n",
        "\n",
        "Potential Missed Revenue Opportunities:-\n",
        "\n",
        " Instances with higher solar radiation levels are less common in the dataset. If the business doesn't account for scenarios with increased solar radiation and corresponding higher temperatures, they may miss out on potential revenue opportunities during such conditions."
      ],
      "metadata": {
        "id": "elETz-0-ll94"
      }
    },
    {
      "cell_type": "markdown",
      "source": [
        "#### Chart - 8 The relationship between rainfall, snowfall, and rented bike count"
      ],
      "metadata": {
        "id": "BZR9WyysphqO"
      }
    },
    {
      "cell_type": "code",
      "source": [
        "# Scatter plot to visualize the relationship between rainfall, snowfall, and rented bike count\n",
        "plt.figure(figsize=(10, 6))\n",
        "\n",
        "plt.subplot(1, 2, 1)\n",
        "plt.scatter(seoul_bike_df['Rainfall(mm)'], seoul_bike_df['Rented Bike Count'], color='blue', alpha=0.5)\n",
        "plt.title('Rainfall vs Rented Bike Count')\n",
        "plt.xlabel('Rainfall(mm)')\n",
        "plt.ylabel('Rented Bike Count')\n",
        "\n",
        "plt.subplot(1, 2, 2)\n",
        "plt.scatter(seoul_bike_df['Snowfall (cm)'], seoul_bike_df['Rented Bike Count'], color='green', alpha=0.5)\n",
        "plt.title('Snowfall vs Rented Bike Count')\n",
        "plt.xlabel('Snowfall (cm)')\n",
        "plt.ylabel('Rented Bike Count')\n",
        "\n",
        "plt.tight_layout()\n",
        "plt.show()"
      ],
      "metadata": {
        "id": "TdPTWpAVphqO"
      },
      "execution_count": null,
      "outputs": []
    },
    {
      "cell_type": "markdown",
      "source": [
        "##### 1. Why did you pick the specific chart?"
      ],
      "metadata": {
        "id": "jj7wYXLtphqO"
      }
    },
    {
      "cell_type": "markdown",
      "source": [
        "Scatter plots were chosen as they effectively display the relationship between continuous variables like rainfall, snowfall, and bike rentals. They enable easy detection of patterns, outliers, and correlations. Additionally, separate plots for rainfall and snowfall allow for a clear comparison of their impact on bike rentals. Overall, scatter plots are a versatile tool for understanding how weather conditions influence rental demand."
      ],
      "metadata": {
        "id": "Ob8u6rCTphqO"
      }
    },
    {
      "cell_type": "markdown",
      "source": [
        "##### 2. What is/are the insight(s) found from the chart?"
      ],
      "metadata": {
        "id": "eZrbJ2SmphqO"
      }
    },
    {
      "cell_type": "markdown",
      "source": [
        "The insights:-\n",
        "\n",
        "The chart indicates that bike rentals are heavily impacted by weather conditions, specifically rainfall and snowfall. The majority of data points for both variables are clustered around 0 on the x-axis, signifying that bikes are predominantly rented on days with very low or no rainfall and snowfall. This suggests that customers are less inclined to rent bikes on days with significant precipitation or snowfall. Understanding this trend is crucial for the business to anticipate fluctuations in demand based on weather conditions."
      ],
      "metadata": {
        "id": "mZtgC_hjphqO"
      }
    },
    {
      "cell_type": "markdown",
      "source": [
        "##### 3. Will the gained insights help creating a positive business impact?\n",
        "Are there any insights that lead to negative growth? Justify with specific reason."
      ],
      "metadata": {
        "id": "rFu4xreNphqO"
      }
    },
    {
      "cell_type": "markdown",
      "source": [
        "Positive Impact:\n",
        "\n",
        "1. Understanding that bike rentals are heavily influenced by low or no rainfall and snowfall allows the business to optimize resource allocation. They can focus their efforts and resources on days with favorable weather conditions, potentially leading to higher utilization rates.\n",
        "\n",
        "Negative Growth Potential:\n",
        "\n",
        "1. The data indicates that bike rentals significantly decrease on days with substantial rainfall or snowfall. This could result in reduced revenue during inclement weather, potentially leading to negative growth.\n",
        "\n",
        "2. The business might miss out on revenue opportunities during days with higher rainfall or snowfall. This could lead to underutilization of resources and a potential negative impact on overall growth.\n",
        "\n",
        "Overall, while the business can benefit from understanding the weather impact on rentals for operational efficiency, there is potential for negative growth due to reduced demand on rainy or snowy days. This highlights the importance of considering strategies to mitigate the impact of adverse weather conditions on bike rentals."
      ],
      "metadata": {
        "id": "ey_0qi68phqO"
      }
    },
    {
      "cell_type": "markdown",
      "source": [
        "#### Chart - 9 The relationship between temperature and humidity"
      ],
      "metadata": {
        "id": "YJ55k-q6phqO"
      }
    },
    {
      "cell_type": "code",
      "source": [
        "# Scatter plot to visualize the relationship between temperature and humidity\n",
        "plt.figure(figsize=(8, 6))\n",
        "plt.scatter(seoul_bike_df['Temperature(°C)'], seoul_bike_df['Humidity(%)'], color='purple', alpha=0.5)\n",
        "plt.title('Temperature vs Humidity')\n",
        "plt.xlabel('Temperature(°C)')\n",
        "plt.ylabel('Humidity(%)')\n",
        "plt.grid(True)\n",
        "plt.show()\n"
      ],
      "metadata": {
        "id": "B2aS4O1ophqO"
      },
      "execution_count": null,
      "outputs": []
    },
    {
      "cell_type": "markdown",
      "source": [
        "##### 1. Why did you pick the specific chart?"
      ],
      "metadata": {
        "id": "gCFgpxoyphqP"
      }
    },
    {
      "cell_type": "markdown",
      "source": [
        "A scatter plot was chosen for temperature vs humidity analysis because both variables are continuous. This type of plot allows for easy identification of patterns, outliers, and correlation between the two factors."
      ],
      "metadata": {
        "id": "TVxDimi2phqP"
      }
    },
    {
      "cell_type": "markdown",
      "source": [
        "##### 2. What is/are the insight(s) found from the chart?"
      ],
      "metadata": {
        "id": "OVtJsKN_phqQ"
      }
    },
    {
      "cell_type": "markdown",
      "source": [
        "1. The majority of data points are clustered in the middle of the chart, indicating a concentration of observations around a specific range of temperature and humidity values.\n",
        "\n",
        "2. The cluster suggests that the dataset primarily consists of instances with moderate temperature and humidity levels. This means that extreme values for either variable are less common in the dataset.\n",
        "\n",
        "3. The central cluster may represent conditions that are generally considered comfortable for outdoor activities, which could include bike rentals. This insight implies that moderate weather conditions may be more conducive to higher bike rental demand.\n",
        "\n",
        "Overall, the chart suggests that the dataset predominantly contains instances with moderate levels of temperature and humidity, potentially indicating a comfort zone for outdoor activities like bike rentals. This information is valuable for understanding the environmental conditions that influence bike rental demand."
      ],
      "metadata": {
        "id": "ngGi97qjphqQ"
      }
    },
    {
      "cell_type": "markdown",
      "source": [
        "##### 3. Will the gained insights help creating a positive business impact?\n",
        "Are there any insights that lead to negative growth? Justify with specific reason."
      ],
      "metadata": {
        "id": "lssrdh5qphqQ"
      }
    },
    {
      "cell_type": "markdown",
      "source": [
        "The gained insights from the analysis of temperature and humidity can have several implications for the bike rental business:\n",
        "\n",
        "**Positive Impact:**\n",
        "\n",
        "1. Optimized Operations: Understanding that the dataset primarily consists of instances with moderate temperature and humidity levels can help the business optimize operations. They can focus resources on days with these favorable conditions, potentially leading to higher utilization rates.\n",
        "\n",
        "2. Customer Comfort: The insight that the dataset represents moderate weather conditions suggests that customers are likely to be comfortable during bike rentals. This could enhance their overall experience and lead to positive feedback and repeat business.\n",
        "\n",
        "**Negative Growth Potential:**\n",
        "\n",
        "1. Potential Weather Sensitivity: The analysis doesn't account for extreme weather conditions. If the business doesn't have strategies in place to address extreme temperatures or humidity levels, it could lead to reduced demand on days with less favorable conditions, potentially resulting in negative growth.\n",
        "\n",
        "2. Limited Insight into Extreme Weather: The analysis may not provide sufficient insight into how bike rentals are affected by extremely high or low temperatures and humidity levels. If the business doesn't prepare for these conditions, it could lead to missed revenue opportunities and negative growth.\n",
        "\n",
        "Overall, while the insights about moderate weather conditions are positive, there is potential for negative growth if the business doesn't have strategies in place to address extreme weather conditions. This highlights the importance of considering a broader range of weather scenarios in their operational planning.\n",
        "\n",
        "\n",
        "\n",
        "\n",
        "\n"
      ],
      "metadata": {
        "id": "tBpY5ekJphqQ"
      }
    },
    {
      "cell_type": "markdown",
      "source": [
        "#### Chart - 10 Dew Point Temperature vs Rented Bike Count"
      ],
      "metadata": {
        "id": "U2RJ9gkRphqQ"
      }
    },
    {
      "cell_type": "code",
      "source": [
        "# Scatter plot to visualize the relationship between dew point temperature and rented bike count\n",
        "plt.figure(figsize=(8, 6))\n",
        "plt.scatter(seoul_bike_df['Dew point temperature(°C)'], seoul_bike_df['Rented Bike Count'], color='orange', alpha=0.5)\n",
        "plt.title('Dew Point Temperature vs Rented Bike Count')\n",
        "plt.xlabel('Dew Point Temperature(°C)')\n",
        "plt.ylabel('Rented Bike Count')\n",
        "plt.grid(True)\n",
        "plt.show()"
      ],
      "metadata": {
        "id": "GM7a4YP4phqQ"
      },
      "execution_count": null,
      "outputs": []
    },
    {
      "cell_type": "markdown",
      "source": [
        "##### 1. Why did you pick the specific chart?"
      ],
      "metadata": {
        "id": "1M8mcRywphqQ"
      }
    },
    {
      "cell_type": "markdown",
      "source": [
        "\n",
        "A scatter plot was chosen because it effectively displays the relationship between dew point temperature and bike rentals, both of which are continuous variables. This type of plot allows for easy identification of patterns, outliers, and correlation between the two factors."
      ],
      "metadata": {
        "id": "8agQvks0phqQ"
      }
    },
    {
      "cell_type": "markdown",
      "source": [
        "##### 2. What is/are the insight(s) found from the chart?"
      ],
      "metadata": {
        "id": "tgIPom80phqQ"
      }
    },
    {
      "cell_type": "markdown",
      "source": [
        "The left-skewed distribution indicates that a significant portion of instances have lower dew point temperatures. This suggests that there are more instances with lower dew point temperatures compared to higher values.\n",
        "\n",
        "The left-skewed distribution may imply that lower dew point temperatures are more common on days when bike rentals occur. This could mean that customers are more inclined to rent bikes on days with lower dew point temperatures.\n",
        "\n",
        "Lower dew point temperatures generally indicate more comfortable and less humid conditions. This insight suggests that customers may find it more pleasant to engage in outdoor activities like bike rentals on days with lower humidity levels."
      ],
      "metadata": {
        "id": "Qp13pnNzphqQ"
      }
    },
    {
      "cell_type": "markdown",
      "source": [
        "##### 3. Will the gained insights help creating a positive business impact?\n",
        "Are there any insights that lead to negative growth? Justify with specific reason."
      ],
      "metadata": {
        "id": "JMzcOPDDphqR"
      }
    },
    {
      "cell_type": "markdown",
      "source": [
        "The gained insights regarding the relationship between dew point temperature and bike rentals have several implications for the business:\n",
        "\n",
        "**Positive Impact:**\n",
        "\n",
        "1. Optimized Operations: Understanding that lower dew point temperatures may be associated with higher bike rentals can help the business optimize operations. They can allocate resources and staff accordingly, with a focus on days with more favorable conditions.\n",
        "\n",
        "2. Customer Comfort: The insight that lower dew point temperatures are linked to more comfortable conditions suggests that customers are likely to have a more enjoyable experience during bike rentals. This can lead to positive customer feedback and potentially increase repeat business.\n",
        "\n",
        "**Negative Growth Potential:**\n",
        "\n",
        "1. Potential Weather Sensitivity: While lower dew point temperatures may be associated with higher rentals, the analysis does not account for extreme weather conditions. If the business is not prepared for days with extremely low dew point temperatures, it could lead to reduced demand and negative growth.\n",
        "\n",
        "2. Limited Insight into Extreme Conditions: The analysis may not provide sufficient insight into how bike rentals are affected by extremely high dew point temperatures. If the business does not have strategies in place for addressing these conditions, it could lead to missed revenue opportunities and negative growth.\n",
        "\n",
        "Overall, the insights about the relationship between dew point temperature and bike rentals offer potential positive impacts by allowing the business to optimize operations and enhance customer comfort. However, it's important to consider a broader range of weather scenarios to ensure preparedness for all conditions and avoid potential negative growth."
      ],
      "metadata": {
        "id": "R4Ka1PC2phqR"
      }
    },
    {
      "cell_type": "markdown",
      "source": [
        "#### Chart - 11 Temperature vs. Rented Bike Count"
      ],
      "metadata": {
        "id": "x-EpHcCOp1ci"
      }
    },
    {
      "cell_type": "code",
      "source": [
        "# Scatter plot of Temperature vs. Rented Bike Count\n",
        "plt.figure(figsize=(10, 6))\n",
        "sns.scatterplot(x='Temperature(°C)', y='Rented Bike Count', data=seoul_bike_df)\n",
        "plt.title('Temperature vs. Rented Bike Count')\n",
        "plt.show()"
      ],
      "metadata": {
        "id": "mAQTIvtqp1cj"
      },
      "execution_count": null,
      "outputs": []
    },
    {
      "cell_type": "markdown",
      "source": [
        "##### 1. Why did you pick the specific chart?"
      ],
      "metadata": {
        "id": "X_VqEhTip1ck"
      }
    },
    {
      "cell_type": "markdown",
      "source": [
        "The scatter plot of Temperature vs. Rented Bike Count was chosen because it helps visually explore if there's a correlation between temperature and the number of rented bikes. It's suitable for analyzing two continuous variables, and can reveal trends, patterns, and potential outliers in the data. If a clear trend is observed, it may lead to further quantitative analysis like regression modeling."
      ],
      "metadata": {
        "id": "-vsMzt_np1ck"
      }
    },
    {
      "cell_type": "markdown",
      "source": [
        "##### 2. What is/are the insight(s) found from the chart?"
      ],
      "metadata": {
        "id": "8zGJKyg5p1ck"
      }
    },
    {
      "cell_type": "markdown",
      "source": [
        "Insights:-\n",
        "1. The majority of bike rentals tend to occur on warmer days. As temperature increases, there is a higher likelihood of more bikes being rented.\n",
        "\n",
        "2. On colder days, the number of rented bikes decreases. This indicates that people are less inclined to rent bikes when the temperature is lower.\n",
        "\n",
        "3. The left-skewed distribution may suggest a non-linear relationship between temperature and bike rentals. It's possible that there's a threshold temperature beyond which additional warmth does not significantly impact bike rentals.\n",
        "\n",
        "4. Depending on the location, this pattern may reflect seasonal trends. For example, in colder climates, bike rentals may be more prevalent during warmer months.\n",
        "\n",
        "Overall, the left-skewed distribution indicates a strong relationship between temperature and bike rentals, with warmer temperatures generally associated with higher rental counts."
      ],
      "metadata": {
        "id": "ZYdMsrqVp1ck"
      }
    },
    {
      "cell_type": "markdown",
      "source": [
        "##### 3. Will the gained insights help creating a positive business impact?\n",
        "Are there any insights that lead to negative growth? Justify with specific reason."
      ],
      "metadata": {
        "id": "PVzmfK_Ep1ck"
      }
    },
    {
      "cell_type": "markdown",
      "source": [
        "The insights gained from the scatter plot of Temperature vs. Rented Bike Count can potentially have a positive business impact, but there are also insights that may lead to negative growth. Here's the analysis:\n",
        "\n",
        "**Positive Business Impact:**\n",
        "\n",
        "1. Optimal Resource Allocation: Understanding that bike rentals are higher on warmer days allows for better resource allocation. More bikes, staff, and marketing efforts can be directed towards those times, potentially increasing revenue.\n",
        "\n",
        "2. Marketing Strategies: The data suggests that marketing efforts promoting bike rentals could be more effective during warmer periods. Seasonal campaigns focused on warm weather could attract more customers.\n",
        "\n",
        "3. Customer Experience: Knowing that customers prefer renting bikes in pleasant weather, providing additional amenities like water stations, shaded areas, or events tied to good weather could enhance the overall experience.\n",
        "\n",
        "**Negative Growth Potential:**\n",
        "\n",
        "1. Off-Peak Seasons: During colder periods, the demand for bike rentals significantly drops. This could lead to overstaffing or excess inventory of bikes, resulting in increased operational costs without corresponding revenue.\n",
        "\n",
        "2. Maintenance Costs: Colder weather may require additional maintenance efforts to ensure the bikes are in good condition. This includes addressing issues like rust or other weather-related wear and tear.\n",
        "\n",
        "3. Weather Dependency: The business may become highly dependent on weather conditions. Adverse or unexpected weather patterns could lead to significant fluctuations in revenue, making the business more susceptible to economic risks.\n",
        "\n",
        "4. Limited Expansion Opportunities: If the business is located in a region with predominantly cold weather, there may be limitations on the scale or growth potential of the bike rental service.\n",
        "\n",
        "In summary, while the insights provide valuable information for optimizing operations and marketing strategies, they also highlight the weather dependency of the business. Adverse weather conditions could lead to negative impacts, making it crucial for the business to have contingency plans in place."
      ],
      "metadata": {
        "id": "druuKYZpp1ck"
      }
    },
    {
      "cell_type": "markdown",
      "source": [
        "#### Chart - 12 Box plot of Bike Rentals by Season"
      ],
      "metadata": {
        "id": "n3dbpmDWp1ck"
      }
    },
    {
      "cell_type": "code",
      "source": [
        "# Box plot of Bike Rentals by Season\n",
        "plt.figure(figsize=(10, 6))\n",
        "sns.boxplot(x='Seasons', y='Rented Bike Count', data=seoul_bike_df)\n",
        "plt.title('Bike Rentals by Season')\n",
        "plt.show()"
      ],
      "metadata": {
        "id": "bwevp1tKp1ck"
      },
      "execution_count": null,
      "outputs": []
    },
    {
      "cell_type": "markdown",
      "source": [
        "##### 1. Why did you pick the specific chart?"
      ],
      "metadata": {
        "id": "ylSl6qgtp1ck"
      }
    },
    {
      "cell_type": "markdown",
      "source": [
        "The box plot of Bike Rentals by Season was chosen because it efficiently compares the distribution of rented bikes across different seasons. It helps identify seasonal trends, outliers, and provides a visual representation of variability in rentals within each season. This visualization method is ideal for understanding the impact of seasons on bike rentals."
      ],
      "metadata": {
        "id": "m2xqNkiQp1ck"
      }
    },
    {
      "cell_type": "markdown",
      "source": [
        "##### 2. What is/are the insight(s) found from the chart?"
      ],
      "metadata": {
        "id": "ZWILFDl5p1ck"
      }
    },
    {
      "cell_type": "markdown",
      "source": [
        "The insights from the box plot of Bike Rentals by Season are as follows:\n",
        "\n",
        "1.Seasonal Variations in Rentals:\n",
        "\n",
        "* Summer has the highest median rented bike count, indicating that, on average, more bikes are rented during this season.\n",
        "* Autumn follows with a slightly lower median, suggesting a slightly lower demand compared to summer.\n",
        "* Spring shows a further decrease in median rentals, while Winter has the lowest median, indicating the least demand during this season.\n",
        "\n",
        "2.Outliers:\n",
        "\n",
        "* All seasons have outliers at the upper end, indicating instances of exceptionally high bike rentals. This suggests that there are periods within each season where bike rentals significantly exceed the typical range.\n",
        "\n",
        "3.Consistent Pattern:\n",
        "\n",
        "* The consistent pattern of box heights (Summer > Autumn > Spring > Winter) suggests a recurring seasonal trend in bike rentals. This pattern can guide business planning, resource allocation, and marketing strategies.\n",
        "\n",
        "4.Winter Season Challenges:\n",
        "\n",
        "* The shorter box for the Winter season suggests that bike rentals are generally lower and less variable during this season. This may pose challenges for maintaining profitability and sustaining operations."
      ],
      "metadata": {
        "id": "x-lUsV2mp1ck"
      }
    },
    {
      "cell_type": "markdown",
      "source": [
        "##### 3. Will the gained insights help creating a positive business impact?\n",
        "Are there any insights that lead to negative growth? Justify with specific reason."
      ],
      "metadata": {
        "id": "M7G43BXep1ck"
      }
    },
    {
      "cell_type": "markdown",
      "source": [
        "The gained insights from the box plot of Bike Rentals by Season can have both positive and potentially negative impacts on the business. Here's the analysis:\n",
        "\n",
        "**Positive Business Impact:**\n",
        "\n",
        "1. Understanding seasonal variations allows the business to allocate resources (e.g., bikes, staff) more efficiently. For example, during the summer, more resources can be dedicated to meet the higher demand.\n",
        "\n",
        "2. The insights provide valuable information for targeted marketing efforts. More focus and investment can be directed towards seasons with higher demand (e.g., Summer and Autumn).\n",
        "\n",
        "3. By capitalizing on high-demand seasons (Summer and Autumn), the business can potentially increase revenue by offering promotions, events, or additional services during those periods.\n",
        "\n",
        "**Potential Negative Growth Impact:**\n",
        "\n",
        "1. The business may become heavily reliant on specific seasons for the majority of its revenue. This can lead to financial challenges during off-peak seasons, potentially resulting in negative growth or financial strain.\n",
        "\n",
        "2. The lower demand during the Winter season may lead to underutilized resources and potentially lower profitability. This could impact overall business growth if not managed effectively.\n",
        "\n",
        "3.  While outliers indicate opportunities for high rentals, they may also represent operational challenges. Managing sudden spikes in demand requires additional planning and resources.\n",
        "\n",
        "4. If the business is located in an area with extreme seasonal variations, it may face limitations on expansion or scalability."
      ],
      "metadata": {
        "id": "5wwDJXsLp1cl"
      }
    },
    {
      "cell_type": "markdown",
      "source": [
        "#### Chart - 13 Box plot of each numerical columns"
      ],
      "metadata": {
        "id": "Ag9LCva-p1cl"
      }
    },
    {
      "cell_type": "code",
      "source": [
        "for column in numerical_data.columns:\n",
        "    plt.figure(figsize=(15, 2))\n",
        "    sns.boxplot(x=numerical_data[column])\n",
        "    plt.title(f'Box Plot of {column}')\n",
        "    plt.show()"
      ],
      "metadata": {
        "id": "x1Cqcljsw8mz"
      },
      "execution_count": null,
      "outputs": []
    },
    {
      "cell_type": "markdown",
      "source": [
        "##### 1. Why did you pick the specific chart?"
      ],
      "metadata": {
        "id": "E6MkPsBcp1cl"
      }
    },
    {
      "cell_type": "markdown",
      "source": [
        "I chose the boxplot because it effectively displays the distribution, outliers, and central tendencies of numerical data."
      ],
      "metadata": {
        "id": "V22bRsFWp1cl"
      }
    },
    {
      "cell_type": "markdown",
      "source": [
        "##### 2. What is/are the insight(s) found from the chart?"
      ],
      "metadata": {
        "id": "2cELzS2fp1cl"
      }
    },
    {
      "cell_type": "markdown",
      "source": [
        "Insights:-\n",
        "\n",
        "**1. Rented Bike Count:**\n",
        "\n",
        "* The majority of the rented bike counts are clustered around a median value of approximately 500.\n",
        "* There is a significant number of outliers with counts well above 2400, indicating instances of exceptionally high bike rentals.\n",
        "\n",
        "**2. Wind Speed:**\n",
        "\n",
        "* The median wind speed falls between 1 and 2, suggesting moderate wind conditions on average.\n",
        "* There are some instances of higher wind speeds (outliers), especially after around 4.3.\n",
        "\n",
        "**3. Solar Radiation:**\n",
        "\n",
        "* The median solar radiation is nearly 0.0, indicating that there is typically very little solar radiation in the dataset.\n",
        "* There are a number of outliers with higher solar radiation values, particularly after around 2.3.\n",
        "\n",
        "**4. Rainfall and Snowfall:**\n",
        "\n",
        "* Both rainfall and snowfall have a median value of 0, suggesting that the majority of the data points have no recorded rainfall or snowfall.\n",
        "* However, there are outliers with non-zero values for both variables.\n",
        "\n",
        "**5. Year:**\n",
        "\n",
        "* The majority of the data points fall in the year 2018 (median year).\n",
        "* There is a single outlier representing data from the year 2017."
      ],
      "metadata": {
        "id": "ozQPc2_Ip1cl"
      }
    },
    {
      "cell_type": "markdown",
      "source": [
        "##### 3. Will the gained insights help creating a positive business impact?\n",
        "Are there any insights that lead to negative growth? Justify with specific reason."
      ],
      "metadata": {
        "id": "3MPXvC8up1cl"
      }
    },
    {
      "cell_type": "markdown",
      "source": [
        "**Positive Impact:**\n",
        "\n",
        "* Understanding peak demand periods from rented bike count outliers can lead to increased revenue.\n",
        "* Utilizing weather data (wind speed, solar radiation) allows for operational optimization and safety measures.\n",
        "* Abundance of data from 2018 provides a strong foundation for trend analysis and decision-making.\n",
        "\n",
        "**Potential Negative Impact:**\n",
        "\n",
        "* An outlier in the 'Year' variable (2017) could lead to incorrect trend analysis and strategic decisions.\n",
        "* High solar radiation levels may lead to discomfort for riders, potentially reducing demand.\n",
        "* Outliers in rainfall and snowfall indicate adverse weather conditions, potentially decreasing demand and revenue."
      ],
      "metadata": {
        "id": "GL8l1tdLp1cl"
      }
    },
    {
      "cell_type": "markdown",
      "source": [
        "#### Chart - 14 - Correlation Heatmap"
      ],
      "metadata": {
        "id": "NC_X3p0fY2L0"
      }
    },
    {
      "cell_type": "code",
      "source": [
        "# Generate a heatmap of the correlation matrix\n",
        "plt.figure(figsize=(10, 8))\n",
        "sns.heatmap(correlation_matrix, annot=True, cmap='coolwarm', fmt=\".2f\")\n",
        "plt.title('Correlation Matrix Heatmap')\n",
        "plt.show()"
      ],
      "metadata": {
        "id": "xyC9zolEZNRQ"
      },
      "execution_count": null,
      "outputs": []
    },
    {
      "cell_type": "markdown",
      "source": [
        "##### 1. Why did you pick the specific chart?"
      ],
      "metadata": {
        "id": "UV0SzAkaZNRQ"
      }
    },
    {
      "cell_type": "markdown",
      "source": [
        "The heatmap of the correlation matrix was chosen for its ability to visually represent relationships between numerical variables. It uses color gradients to highlight correlations, providing a quick and precise overview of the data. Annotations within the heatmap display exact correlation values. This visualization method is space-efficient and effective for identifying potential multicollinearity issues in the dataset."
      ],
      "metadata": {
        "id": "DVPuT8LYZNRQ"
      }
    },
    {
      "cell_type": "markdown",
      "source": [
        "##### 2. What is/are the insight(s) found from the chart?"
      ],
      "metadata": {
        "id": "YPEH6qLeZNRQ"
      }
    },
    {
      "cell_type": "markdown",
      "source": [
        "**Insights:-**\n",
        "\n",
        "1. The correlation coefficient between Temperature(°C) and Rented Bike Count is 0.54, indicating a moderately strong positive correlation. This suggests that as the temperature increases, the number of rented bikes tends to increase.\n",
        "\n",
        "2. The correlation coefficient between Hour and Rented Bike Count is 0.41, indicating a moderate positive correlation. This suggests that as the hour of the day increases, the number of rented bikes also tends to increase.\n",
        "\n",
        "3. The correlation coefficient between Humidity(%) and Rented Bike Count is -0.20, indicating a weak negative correlation. This suggests that as humidity increases, the number of rented bikes may tend to decrease slightly.\n",
        "\n",
        "4. The correlation coefficient between Dew point temperature(°C) and Rented Bike Count is 0.38, indicating a moderate positive correlation. This suggests that as the dew point temperature increases, the number of rented bikes tends to increase.\n",
        "\n",
        "5. The correlation coefficient between Solar Radiation (MJ/m2) and Rented Bike Count is 0.26, indicating a moderate positive correlation. This suggests that as solar radiation increases, the number of rented bikes tends to increase.\n",
        "\n",
        "6. The correlation coefficients for Visibility (10m) and Wind speed (m/s) are relatively low (0.20 and 0.12 respectively), indicating weak correlations with the number of rented bikes.\n",
        "\n",
        "7. The correlation coefficients for Rainfall(mm) and Snowfall (cm) are both negative, but their values are close to zero. This suggests a weak negative relationship with the number of rented bikes.\n",
        "\n",
        "8. Hour, Temperature, Dew Point Temperature, and Solar Radiation have the highest positive correlations with Rented Bike Count. These variables may be important predictors in further regression model building.\n",
        "\n",
        "In summary, when building a regression model to predict the number of rented bikes, it would be valuable to include Hour, Temperature, Dew Point Temperature, and Solar Radiation as predictor variables."
      ],
      "metadata": {
        "id": "bfSqtnDqZNRR"
      }
    },
    {
      "cell_type": "markdown",
      "source": [
        "#### Chart - 15 - Pair Plot"
      ],
      "metadata": {
        "id": "q29F0dvdveiT"
      }
    },
    {
      "cell_type": "code",
      "source": [
        "# Select the variables to include in the pair plot\n",
        "variables = ['Rented Bike Count', 'Hour', 'Temperature(°C)', 'Humidity(%)', 'Dew point temperature(°C)', 'Solar Radiation (MJ/m2)']\n",
        "\n",
        "# Create a pair plot\n",
        "sns.pairplot(seoul_bike_df[variables])\n",
        "plt.show()"
      ],
      "metadata": {
        "id": "4qwRX0jlf7xN"
      },
      "execution_count": null,
      "outputs": []
    },
    {
      "cell_type": "markdown",
      "source": [
        "##### 1. Why did you pick the specific chart?"
      ],
      "metadata": {
        "id": "EXh0U9oCveiU"
      }
    },
    {
      "cell_type": "markdown",
      "source": [
        "A pair plot was suggested because it's a versatile tool for exploring relationships between multiple continuous variables. It provides visual insights into patterns, helps identify potential issues like multicollinearity, aids in variable selection for regression models, and gives a quick overview of data distributions. It's a valuable tool for initial data exploration and understanding data relationships."
      ],
      "metadata": {
        "id": "eMmPjTByveiU"
      }
    },
    {
      "cell_type": "markdown",
      "source": [
        "##### 2. What is/are the insight(s) found from the chart?"
      ],
      "metadata": {
        "id": "22aHeOlLveiV"
      }
    },
    {
      "cell_type": "markdown",
      "source": [
        "Insights:-\n",
        "1. **Hour vs. Rented Bike Count:**\n",
        "Left-skewed distribution suggests that during certain hours, there's a higher demand for rented bikes. This could indicate peak usage times.\n",
        "\n",
        "2. **Temperature vs. Rented Bike Count:**\n",
        "Left-skewed distribution implies that as temperature increases, the demand for rented bikes tends to increase. However, there's a limit to this trend, as the distribution is not symmetrical.\n",
        "\n",
        "3. **Dew Point Temperature vs. Rented Bike Count:**\n",
        "Left-skewed distribution suggests that as dew point temperature rises, the demand for rented bikes generally increases. Again, there's a limit to this trend.\n",
        "\n",
        "4. **Humidity vs. Rented Bike Count:**\n",
        "Normal distribution indicates that there's no clear trend between humidity levels and the number of rented bikes. This suggests that humidity might not be a strong predictor on its own.\n",
        "\n",
        "5. **Solar Radiation vs. Rented Bike Count:**\n",
        "Right-skewed distribution implies that as solar radiation increases, the demand for rented bikes tends to increase. This suggests that sunny days might lead to higher bike usage.\n",
        "\n",
        "These insights provide valuable information for modeling the relationship between these variables and the number of rented bikes."
      ],
      "metadata": {
        "id": "uPQ8RGwHveiV"
      }
    },
    {
      "cell_type": "markdown",
      "source": [
        "## ***5. Hypothesis Testing***"
      ],
      "metadata": {
        "id": "g-ATYxFrGrvw"
      }
    },
    {
      "cell_type": "markdown",
      "source": [
        "### Based on your chart experiments, define three hypothetical statements from the dataset. In the next three questions, perform hypothesis testing to obtain final conclusion about the statements through your code and statistical testing."
      ],
      "metadata": {
        "id": "Yfr_Vlr8HBkt"
      }
    },
    {
      "cell_type": "markdown",
      "source": [
        "**Hypothetical Statement 1:** Higher temperatures are associated with an increase in the number of rented bikes.\n",
        "\n",
        "**Hypothetical Statement 2:** Humidity levels have a significant effect on bike rentals.\n",
        "\n",
        "**Hypothetical Statement 3:** There is no significant difference in bike rentals between working days and holidays.\n"
      ],
      "metadata": {
        "id": "-7MS06SUHkB-"
      }
    },
    {
      "cell_type": "markdown",
      "source": [
        "### Hypothetical Statement - 1"
      ],
      "metadata": {
        "id": "8yEUt7NnHlrM"
      }
    },
    {
      "cell_type": "markdown",
      "source": [
        "#### 1. State Your research hypothesis as a null hypothesis and alternate hypothesis."
      ],
      "metadata": {
        "id": "tEA2Xm5dHt1r"
      }
    },
    {
      "cell_type": "markdown",
      "source": [
        "**Null Hypothesis (H0):** Temperature does not significantly impact the number of rented bikes.\n",
        "\n",
        "**Alternative Hypothesis (H1):** Higher temperatures are associated with a significant increase in the number of rented bikes.\n"
      ],
      "metadata": {
        "id": "HI9ZP0laH0D-"
      }
    },
    {
      "cell_type": "markdown",
      "source": [
        "#### 2. Perform an appropriate statistical test."
      ],
      "metadata": {
        "id": "I79__PHVH19G"
      }
    },
    {
      "cell_type": "code",
      "source": [
        "import statsmodels.api as sm\n",
        "\n",
        "# Define variables\n",
        "X = seoul_bike_df['Temperature(°C)']\n",
        "y = seoul_bike_df['Rented Bike Count']\n",
        "\n",
        "# Add a constant to the independent variable (temperature)\n",
        "X = sm.add_constant(X)\n",
        "\n",
        "# Fit the regression model\n",
        "model = sm.OLS(y, X).fit()\n",
        "\n",
        "# Get the summary statistics\n",
        "summary = model.summary()\n",
        "summary"
      ],
      "metadata": {
        "id": "xyC7teri0McA"
      },
      "execution_count": null,
      "outputs": []
    },
    {
      "cell_type": "markdown",
      "source": [
        "**Results:**\n",
        "\n",
        "* The coefficient for Temperature(°C) is approximately 29.08.\n",
        "* The p-value associated with the coefficient is 0.000 (very close to zero).\n",
        "\n",
        "**Conclusion:**\n",
        "\n",
        "Since the p-value is extremely low (p < 0.05), we reject the null hypothesis. This indicates that temperature has a statistically significant impact on the number of rented bikes. Specifically, an increase in temperature is associated with a significant increase in the number of rented bikes.\n",
        "\n",
        "Therefore, we can conclude that higher temperatures are indeed associated with a higher number of rented bikes. This supports Statement 1."
      ],
      "metadata": {
        "id": "QzFKymx-Et2-"
      }
    },
    {
      "cell_type": "markdown",
      "source": [
        "##### Which statistical test have you done to obtain P-Value?"
      ],
      "metadata": {
        "id": "Ou-I18pAyIpj"
      }
    },
    {
      "cell_type": "markdown",
      "source": [
        "I performed a simple linear regression using the Ordinary Least Squares (OLS) method."
      ],
      "metadata": {
        "id": "s2U0kk00ygSB"
      }
    },
    {
      "cell_type": "markdown",
      "source": [
        "##### Why did you choose the specific statistical test?"
      ],
      "metadata": {
        "id": "fF3858GYyt-u"
      }
    },
    {
      "cell_type": "markdown",
      "source": [
        "The t-test for the coefficient of the independent variable is chosen because it's appropriate for assessing the significance of the relationship between Temperature(°C) and Rented Bike Count in a linear regression model. This test is commonly used when estimating parameters in linear regression, assuming certain model assumptions are met."
      ],
      "metadata": {
        "id": "HO4K0gP5y3B4"
      }
    },
    {
      "cell_type": "markdown",
      "source": [
        "### Hypothetical Statement - 2"
      ],
      "metadata": {
        "id": "4_0_7-oCpUZd"
      }
    },
    {
      "cell_type": "markdown",
      "source": [
        "#### 1. State Your research hypothesis as a null hypothesis and alternate hypothesis."
      ],
      "metadata": {
        "id": "hwyV_J3ipUZe"
      }
    },
    {
      "cell_type": "markdown",
      "source": [
        "**Null Hypothesis (H0):** Humidity levels do not significantly impact bike rentals.\n",
        "\n",
        "**Alternative Hypothesis (H1):** Humidity levels have a significant effect on bike rentals.\n"
      ],
      "metadata": {
        "id": "FnpLGJ-4pUZe"
      }
    },
    {
      "cell_type": "markdown",
      "source": [
        "#### 2. Perform an appropriate statistical test."
      ],
      "metadata": {
        "id": "3yB-zSqbpUZe"
      }
    },
    {
      "cell_type": "code",
      "source": [
        "# Define variables\n",
        "X_humidity = seoul_bike_df['Humidity(%)']\n",
        "\n",
        "# Add a constant to the independent variable (humidity)\n",
        "X_humidity = sm.add_constant(X_humidity)\n",
        "\n",
        "# Fit the regression model\n",
        "model_humidity = sm.OLS(y, X_humidity).fit()\n",
        "\n",
        "# Get the summary statistics\n",
        "summary_humidity = model_humidity.summary()\n",
        "summary_humidity"
      ],
      "metadata": {
        "id": "sWxdNTXNpUZe"
      },
      "execution_count": null,
      "outputs": []
    },
    {
      "cell_type": "markdown",
      "source": [
        "**Results:**\n",
        "\n",
        "* The coefficient for Humidity(%) is approximately -6.33.\n",
        "* The p-value associated with the coefficient is 0.000 (very close to zero).\n",
        "\n",
        "**Conclusion:**\n",
        "\n",
        "Since the p-value is extremely low (p < 0.05), we reject the null hypothesis. This indicates that humidity levels have a statistically significant impact on the number of rented bikes. Specifically, an increase in humidity is associated with a significant decrease in the number of rented bikes.\n",
        "\n",
        "Therefore, we can conclude that humidity levels do indeed have a significant effect on bike rentals. This supports Statement 2."
      ],
      "metadata": {
        "id": "6pTjAmMW6HM2"
      }
    },
    {
      "cell_type": "markdown",
      "source": [
        "##### Which statistical test have you done to obtain P-Value?"
      ],
      "metadata": {
        "id": "dEUvejAfpUZe"
      }
    },
    {
      "cell_type": "markdown",
      "source": [
        "I used a t-test for the coefficient of humidity in a linear regression to assess if humidity levels significantly affect bike rentals."
      ],
      "metadata": {
        "id": "oLDrPz7HpUZf"
      }
    },
    {
      "cell_type": "markdown",
      "source": [
        "##### Why did you choose the specific statistical test?"
      ],
      "metadata": {
        "id": "Fd15vwWVpUZf"
      }
    },
    {
      "cell_type": "markdown",
      "source": [
        "The specific statistical test, which is the t-test for the coefficient of the independent variable in a linear regression model, was chosen because it's appropriate for assessing the significance of the relationship between humidity levels and bike rentals. This test is commonly used in regression analysis to determine if a particular independent variable has a statistically significant impact on the dependent variable. It helps in understanding whether humidity levels have a meaningful effect on the number of bike rentals."
      ],
      "metadata": {
        "id": "4xOGYyiBpUZf"
      }
    },
    {
      "cell_type": "markdown",
      "source": [
        "### Hypothetical Statement - 3"
      ],
      "metadata": {
        "id": "bn_IUdTipZyH"
      }
    },
    {
      "cell_type": "markdown",
      "source": [
        "#### 1. State Your research hypothesis as a null hypothesis and alternate hypothesis."
      ],
      "metadata": {
        "id": "49K5P_iCpZyH"
      }
    },
    {
      "cell_type": "markdown",
      "source": [
        "**Null Hypothesis (H0):** There is no significant difference in bike rentals between working days and holidays.\n",
        "\n",
        "**Alternative Hypothesis (H1):** There is a significant difference in bike rentals between working days and holidays."
      ],
      "metadata": {
        "id": "7gWI5rT9pZyH"
      }
    },
    {
      "cell_type": "markdown",
      "source": [
        "#### 2. Perform an appropriate statistical test."
      ],
      "metadata": {
        "id": "Nff-vKELpZyI"
      }
    },
    {
      "cell_type": "code",
      "source": [
        "import scipy.stats as stats\n",
        "\n",
        "# Define variables\n",
        "working_days = seoul_bike_df[seoul_bike_df['Functioning Day'] == 'Yes']['Rented Bike Count']\n",
        "holidays = seoul_bike_df[seoul_bike_df['Functioning Day'] == 'No']['Rented Bike Count']\n",
        "\n",
        "# Perform t-test\n",
        "t_stat, p_value = stats.ttest_ind(working_days, holidays)\n",
        "\n",
        "t_stat, p_value"
      ],
      "metadata": {
        "id": "s6AnJQjtpZyI"
      },
      "execution_count": null,
      "outputs": []
    },
    {
      "cell_type": "markdown",
      "source": [
        "**Results:**\n",
        "\n",
        "* The t-statistic is approximately 19.50.\n",
        "* The p-value is very close to zero (6.73e-83).\n",
        "\n",
        "**Conclusion**:\n",
        "\n",
        "Since the p-value is extremely low (p < 0.05), we reject the null hypothesis. This indicates that there is a significant difference in bike rentals between working days and holidays.\n",
        "\n",
        "Therefore, we can conclude that there is indeed a significant difference in bike rentals between working days and holidays. This supports Statement 3."
      ],
      "metadata": {
        "id": "9nwWRKiy6fR9"
      }
    },
    {
      "cell_type": "markdown",
      "source": [
        "##### Which statistical test have you done to obtain P-Value?"
      ],
      "metadata": {
        "id": "kLW572S8pZyI"
      }
    },
    {
      "cell_type": "markdown",
      "source": [
        "I performed an independent two-sample t-test to compare bike rentals on working days and holidays."
      ],
      "metadata": {
        "id": "ytWJ8v15pZyI"
      }
    },
    {
      "cell_type": "markdown",
      "source": [
        "##### Why did you choose the specific statistical test?"
      ],
      "metadata": {
        "id": "dWbDXHzopZyI"
      }
    },
    {
      "cell_type": "markdown",
      "source": [
        "I choose this test because this test is appropriate for comparing the means of two independent groups (in this case, bike rentals on working days and holidays). It helps determine if there is a significant difference between the two groups."
      ],
      "metadata": {
        "id": "M99G98V6pZyI"
      }
    },
    {
      "cell_type": "markdown",
      "source": [
        "## ***6. Feature Engineering & Data Pre-processing***"
      ],
      "metadata": {
        "id": "yLjJCtPM0KBk"
      }
    },
    {
      "cell_type": "markdown",
      "source": [
        "### 1. Handling Missing Values"
      ],
      "metadata": {
        "id": "xiyOF9F70UgQ"
      }
    },
    {
      "cell_type": "code",
      "source": [
        "# Handling Missing Values & Missing Value Imputation\n",
        "# Check for missing values in each column\n",
        "missing_values = seoul_bike_df.isnull().sum()\n",
        "\n",
        "# Display the number of missing values in each column\n",
        "print(missing_values)"
      ],
      "metadata": {
        "id": "iRsAHk1K0fpS"
      },
      "execution_count": null,
      "outputs": []
    },
    {
      "cell_type": "markdown",
      "source": [
        "#### What all missing value imputation techniques have you used and why did you use those techniques?"
      ],
      "metadata": {
        "id": "7wuGOrhz0itI"
      }
    },
    {
      "cell_type": "markdown",
      "source": [
        "There are no missing values in the dataset so skip this."
      ],
      "metadata": {
        "id": "1ixusLtI0pqI"
      }
    },
    {
      "cell_type": "markdown",
      "source": [
        "### 2. Categorical Encoding"
      ],
      "metadata": {
        "id": "89xtkJwZ18nB"
      }
    },
    {
      "cell_type": "code",
      "source": [
        "# Encode your categorical columns\n",
        "\n",
        "# Creating new feature 'Weekend' by converting weekends and weekdays into 1 and 0 from the Day name column\n",
        "seoul_bike_df['Weekend_weekdays'] = seoul_bike_df['Day Name'].apply(lambda x: 1 if x in ['Sunday','Saturday'] else 0)\n",
        "\n",
        "# Encoding the Holiday feature by replacing 'Holiday' and 'No Holiday' as '1' and '0'\n",
        "seoul_bike_df['Holiday'] = seoul_bike_df['Holiday'].apply(lambda x: 1 if x == 'Holiday' else 0)\n",
        "\n",
        "# Encoding the Functioning Day feature by replacing 'Yes' and 'No' as '1' and '0'\n",
        "seoul_bike_df['Functioning Day'] = seoul_bike_df['Functioning Day'].apply(lambda x: 1 if x == 'Yes' else 0)\n",
        "\n",
        "seoul_bike_df = pd.get_dummies(seoul_bike_df, columns = ['Seasons','Hour'])"
      ],
      "metadata": {
        "id": "21JmIYMG2hEo"
      },
      "execution_count": null,
      "outputs": []
    },
    {
      "cell_type": "code",
      "source": [
        "list(set(seoul_bike_df.describe().columns) - set(['Dew point temperature(°C)', 'Humidity(%)', 'Visibility (10m)']))"
      ],
      "metadata": {
        "id": "uMoQBwCLZYKy"
      },
      "execution_count": null,
      "outputs": []
    },
    {
      "cell_type": "markdown",
      "source": [
        "#### What all categorical encoding techniques have you used & why did you use those techniques?"
      ],
      "metadata": {
        "id": "67NQN5KX2AMe"
      }
    },
    {
      "cell_type": "markdown",
      "source": [
        "I used several categorical encoding techniques:-\n",
        "\n",
        "**1. Binary Encoding for 'Weekend':** The 'Day Name' column is transformed into a binary feature called 'Weekend' where weekends (Saturday and Sunday) are encoded as 1, and weekdays as 0. This is done because weekends may have different patterns in bike rentals compared to weekdays.\n",
        "\n",
        "**2. Binary Encoding for 'Holiday' and 'Functioning Day':** The 'Holiday' and 'Functioning Day' columns are also transformed into binary features. 'Holiday' is encoded as 1 if it's a holiday, and 0 if it's not. Similarly, 'Functioning Day' is encoded as 1 if it's a functioning day and 0 if it's not. These binary encodings make it easier for machine learning algorithms to work with these categorical variables.\n",
        "\n",
        "**3. One-Hot Encoding for 'Seasons' and 'Hour':** The 'Seasons' and 'Hour' columns are one-hot encoded. One-hot encoding is used for categorical variables where there is no ordinal relationship between the categories. It creates binary columns for each category and represents the presence (1) or absence (0) of a category.\n",
        "\n",
        "* 'Seasons' is encoded into four binary columns (e.g., 'Seasons_Spring', 'Seasons_Summer', 'Seasons_Autumn', 'Seasons_Winter') representing the four seasons.\n",
        "\n",
        "* 'Hour' is encoded into multiple binary columns (e.g., 'Hour_0', 'Hour_1', ..., 'Hour_23') to represent each hour of the day."
      ],
      "metadata": {
        "id": "UDaue5h32n_G"
      }
    },
    {
      "cell_type": "markdown",
      "source": [
        "### 3. Feature Manipulation & Selection"
      ],
      "metadata": {
        "id": "-oLEiFgy-5Pf"
      }
    },
    {
      "cell_type": "markdown",
      "source": [
        "#### 1. Feature Manipulation"
      ],
      "metadata": {
        "id": "C74aWNz2AliB"
      }
    },
    {
      "cell_type": "code",
      "source": [
        "# Manipulating Features to minimize feature correlation and creating new features\n",
        "\n",
        "def calculate_vif(variables):\n",
        "\n",
        "    # Calculating the VIF for each predictor variable\n",
        "    vif_data = pd.DataFrame()\n",
        "    vif_data[\"Variable\"] = variables.columns\n",
        "    vif_data[\"VIF\"] = [variance_inflation_factor(variables.values, i) for i in range(variables.shape[1])]\n",
        "\n",
        "    return vif_data"
      ],
      "metadata": {
        "id": "h1qC4yhBApWC"
      },
      "execution_count": null,
      "outputs": []
    },
    {
      "cell_type": "code",
      "source": [
        "calculate_vif(seoul_bike_df[[i for i in seoul_bike_df.describe().columns if i not in ['Rented Bike Count']]])"
      ],
      "metadata": {
        "id": "JsHUUFx96ZgY"
      },
      "execution_count": null,
      "outputs": []
    },
    {
      "cell_type": "code",
      "source": [
        "seoul_bike_df.drop('Dew point temperature(°C)', axis=1, inplace=True)\n",
        "calculate_vif(seoul_bike_df[[i for i in seoul_bike_df.describe().columns if i not in ['Rented Bike Count']]])"
      ],
      "metadata": {
        "id": "_RmlBN-lsu85"
      },
      "execution_count": null,
      "outputs": []
    },
    {
      "cell_type": "code",
      "source": [
        "seoul_bike_df.drop('Temperature(°C)', axis=1, inplace=True)\n",
        "calculate_vif(seoul_bike_df[[i for i in seoul_bike_df.describe().columns if i not in ['Rented Bike Count']]])"
      ],
      "metadata": {
        "id": "rRtySrSuNSVb"
      },
      "execution_count": null,
      "outputs": []
    },
    {
      "cell_type": "markdown",
      "source": [
        "#### 2. Feature Selection"
      ],
      "metadata": {
        "id": "2DejudWSA-a0"
      }
    },
    {
      "cell_type": "code",
      "source": [
        "# Selecting the features\n",
        "features = list(set(seoul_bike_df.describe().columns))\n",
        "features"
      ],
      "metadata": {
        "id": "YLhe8UmaBCEE"
      },
      "execution_count": null,
      "outputs": []
    },
    {
      "cell_type": "markdown",
      "source": [
        "##### What all feature selection methods have you used  and why?"
      ],
      "metadata": {
        "id": "pEMng2IbBLp7"
      }
    },
    {
      "cell_type": "markdown",
      "source": [
        "I used the Variance Inflation Factor (VIF) method to identify and remove highly correlated variables ('Dew point temperature(°C)' and 'Temperature(°C)'). The remaining features were selected based on their potential impact on predicting 'Rented Bike Count'."
      ],
      "metadata": {
        "id": "rb2Lh6Z8BgGs"
      }
    },
    {
      "cell_type": "markdown",
      "source": [
        "##### Which all features you found important and why?"
      ],
      "metadata": {
        "id": "rAdphbQ9Bhjc"
      }
    },
    {
      "cell_type": "markdown",
      "source": [
        "The features that I found important for predicting 'Rented Bike Count' are:\n",
        "\n",
        "1. Solar Radiation (MJ/m2)\n",
        "2. Hour_11\n",
        "3. Hour_18\n",
        "4. Rainfall(mm)\n",
        "5. Seasons_Winter\n",
        "6. Humidity(%)\n",
        "7. Hour_9\n",
        "8. Rented Bike Count\n",
        "9. Hour_6\n",
        "10. Hour_5\n",
        "11. Weekend_weekdays\n",
        "12. Snowfall (cm)\n",
        "13. Holiday\n",
        "14. Hour_1\n",
        "15. Month\n",
        "16. Hour_3\n",
        "17. Hour_14\n",
        "18. Hour_20\n",
        "19. Hour_17\n",
        "20. Seasons_Autumn\n",
        "21. Hour_4\n",
        "22. Hour_0\n",
        "23. Hour_13\n",
        "24. Visibility (10m)\n",
        "25. Hour_7\n",
        "26. Hour_23\n",
        "27. Hour_16\n",
        "28. Seasons_Spring\n",
        "29. Hour_12\n",
        "30. Hour_15\n",
        "31. Hour_10\n",
        "32. Functioning Day\n",
        "33. Wind speed (m/s)\n",
        "34. Hour_21\n",
        "35. Hour_8\n",
        "36. Hour_2\n",
        "37. Hour_22\n",
        "38. Seasons_Summer\n",
        "39. Hour_19\n",
        "\n",
        "These features were considered important because they capture various environmental and temporal factors that likely influence the demand for rented bikes. Factors such as weather conditions, time of day, month, and seasonal variations are known to play a significant role in bike rental patterns."
      ],
      "metadata": {
        "id": "fGgaEstsBnaf"
      }
    },
    {
      "cell_type": "markdown",
      "source": [
        "### 4. Data Splitting"
      ],
      "metadata": {
        "id": "BhH2vgX9EjGr"
      }
    },
    {
      "cell_type": "code",
      "source": [
        "# Selecting independent variables.\n",
        "x_variables = seoul_bike_df[list(set(features) - {'Rented Bike Count'})]\n",
        "\n",
        "# Using square root on dependent variable to normalize the variable.\n",
        "y_variable = np.sqrt(seoul_bike_df['Rented Bike Count'])\n",
        "\n",
        "# Spliting the data to train and test.\n",
        "x_train, x_test, y_train, y_test = train_test_split(x_variables, y_variable, test_size = 0.30, random_state = 0)"
      ],
      "metadata": {
        "id": "0CTyd2UwEyNM"
      },
      "execution_count": null,
      "outputs": []
    },
    {
      "cell_type": "markdown",
      "source": [
        "##### What data splitting ratio have you used and why?"
      ],
      "metadata": {
        "id": "qjKvONjwE8ra"
      }
    },
    {
      "cell_type": "markdown",
      "source": [
        "I've chosen a 70-30 data splitting ratio, allocating 70% for training and 30% for testing. This is a common and balanced approach to ensure enough data for training and reliable evaluation of model performance."
      ],
      "metadata": {
        "id": "Y2lJ8cobFDb_"
      }
    },
    {
      "cell_type": "markdown",
      "source": [
        "### 5. Data Scaling"
      ],
      "metadata": {
        "id": "rMDnDkt2B6du"
      }
    },
    {
      "cell_type": "code",
      "source": [
        "# Scaling the data by using Standardization method\n",
        "scaler = StandardScaler()\n",
        "\n",
        "# Fitting x_train and x_test\n",
        "x_train = scaler.fit_transform(x_train)\n",
        "x_test = scaler.transform(x_test)"
      ],
      "metadata": {
        "id": "dL9LWpySC6x_"
      },
      "execution_count": null,
      "outputs": []
    },
    {
      "cell_type": "markdown",
      "source": [
        "##### Which method have you used to scale you data and why?"
      ],
      "metadata": {
        "id": "yiiVWRdJDDil"
      }
    },
    {
      "cell_type": "markdown",
      "source": [
        "I used Standardization to scale the data. This method transforms the data to have a mean of 0 and a standard deviation of 1. It's beneficial for comparing features with different units or scales, and is less sensitive to outliers compared to other scaling methods."
      ],
      "metadata": {
        "id": "yxoZmdp20xgu"
      }
    },
    {
      "cell_type": "markdown",
      "source": [
        "## ***7. ML Model Implementation***"
      ],
      "metadata": {
        "id": "VfCC591jGiD4"
      }
    },
    {
      "cell_type": "code",
      "source": [
        "# Defining a function to calculate accuracy scores of the models.\n",
        "def calc_accu_score(true, pred):\n",
        "\n",
        "  # Calculate Mean absolute Error\n",
        "  MAE = mean_absolute_error(true, pred)\n",
        "  print(f\"The Mean Absolute Error (MAE) is {MAE}.\")\n",
        "\n",
        "  # Calculate Mean Squared Error\n",
        "  MSE = mean_squared_error(true, pred)\n",
        "  print(f\"The Mean Squared Error (MSE) is {MSE}.\")\n",
        "\n",
        "  # Calculate Root Mean Squared Error\n",
        "  RMSE = np.sqrt(MSE)\n",
        "  print(f\"The Root Mean Squared Error (RMSE) is {RMSE}.\")\n",
        "\n",
        "  # Calculate R2 Score\n",
        "  R2 = r2_score(true, pred)\n",
        "  print(f\"The R2 Score is {R2}.\")"
      ],
      "metadata": {
        "id": "mRSpSXgwlczx"
      },
      "execution_count": null,
      "outputs": []
    },
    {
      "cell_type": "code",
      "source": [
        "# Making an empty dataframe to store all the accuracy scores of each model.\n",
        "score_df = pd.DataFrame({'Model':[],'Mean Absolute Error (MAE)':[],'Mean Squared Error (MSE)':[],'Root Mean Squared Error (RMSE)':[],'R2 Score':[]})\n",
        "\n",
        "# Define a function to append the scores of each model in the dataframe.\n",
        "def store_scores(Model, MAE, MSE, RMSE, R2):\n",
        "  scores = {'Model':Model,'Mean Absolute Error (MAE)':MAE,'Mean Squared Error (MSE)':MSE,'Root Mean Squared Error (RMSE)':RMSE,'R2 Score':[R2]}\n",
        "  global score_df\n",
        "  score_df = score_df.append(scores, ignore_index=True)\n",
        "  return score_df\n"
      ],
      "metadata": {
        "id": "4m9TF62Rlcwt"
      },
      "execution_count": null,
      "outputs": []
    },
    {
      "cell_type": "code",
      "source": [
        "# Defining a function to visualize the linearity of real and predicted data.\n",
        "def reg_scatter(true, pred):\n",
        "  plt.figure(figsize=(10,8))\n",
        "  sns.regplot(x=true, y=pred, scatter_kws={'color':'magenta'},line_kws={'color':'black'})\n",
        "  plt.legend([\"Actual\",\"Predicted\"])\n",
        "  plt.show()"
      ],
      "metadata": {
        "id": "iBhDdLe2lct0"
      },
      "execution_count": null,
      "outputs": []
    },
    {
      "cell_type": "markdown",
      "source": [
        "### ML Model - 1: Linear Regression"
      ],
      "metadata": {
        "id": "OB4l2ZhMeS1U"
      }
    },
    {
      "cell_type": "code",
      "source": [
        "# ML Model - 1 Implementation\n",
        "lin_reg_model = LinearRegression()\n",
        "\n",
        "# Fit the Algorithm\n",
        "reg = lin_reg_model.fit(x_train, y_train)\n",
        "\n",
        "# Predict on the model\n",
        "y_train_pred = reg.predict(x_train)\n",
        "y_test_pred = reg.predict(x_test)\n",
        "\n",
        "# Getting the coefficient and intercept from the model-\n",
        "print(f\"The coefficients of the model is {reg.coef_}\")\n",
        "print(f\"The intercept of the model is {reg.intercept_}\")"
      ],
      "metadata": {
        "id": "7ebyywQieS1U"
      },
      "execution_count": null,
      "outputs": []
    },
    {
      "cell_type": "code",
      "source": [
        "# Getting train and test score\n",
        "print(f\"Linear Regression model train score is :{reg.score(x_train, y_train)}\")\n",
        "print(f\"Linear Regression model test score is :{reg.score(x_test, y_test)}\")\n"
      ],
      "metadata": {
        "id": "yEF-Vi-bLmcK"
      },
      "execution_count": null,
      "outputs": []
    },
    {
      "cell_type": "code",
      "source": [
        "# Calculating model performance score for train data\n",
        "calc_accu_score(y_train, y_train_pred)"
      ],
      "metadata": {
        "id": "cOthIoOJLmZR"
      },
      "execution_count": null,
      "outputs": []
    },
    {
      "cell_type": "code",
      "source": [
        "# Calculating model performance score for test data\n",
        "calc_accu_score(y_test, y_test_pred)"
      ],
      "metadata": {
        "id": "aFcYg1h6LmWP"
      },
      "execution_count": null,
      "outputs": []
    },
    {
      "cell_type": "code",
      "source": [
        "# Visualizing linearity between real and predicted data\n",
        "reg_scatter(y_test, y_test_pred)"
      ],
      "metadata": {
        "id": "-MoAglegOsEr"
      },
      "execution_count": null,
      "outputs": []
    },
    {
      "cell_type": "code",
      "source": [
        "# Putting the score of the test data in the evaluation metric\n",
        "evaluation_metric_score_chart = store_scores('Linear regression',5.232178846510601,43.926539355167655,6.627709963114534,0.7140163621196312)\n",
        "evaluation_metric_score_chart"
      ],
      "metadata": {
        "id": "MoRYpx21bg0I"
      },
      "execution_count": null,
      "outputs": []
    },
    {
      "cell_type": "markdown",
      "source": [
        "#### 1. Explain the ML Model used and it's performance using Evaluation metric Score Chart."
      ],
      "metadata": {
        "id": "ArJBuiUVfxKd"
      }
    },
    {
      "cell_type": "markdown",
      "source": [
        "The model used is **Linear Regression**, which predicts a continuous target variable based on independent variables.\n",
        "\n",
        "The evaluation metrics are:\n",
        "\n",
        "* MAE (Mean Absolute Error): Approximately 5.23, indicating an average prediction error of about 5.23 units.\n",
        "* MSE (Mean Squared Error): Approximately 43.93, suggesting larger discrepancies in prediction errors.\n",
        "* RMSE (Root Mean Squared Error): Approximately 6.63, showing an average error of about 6.63 units.\n",
        "* R2 Score: Approximately 0.71, indicating that around 71% of the variability in the target variable is captured by the model.\n",
        "\n",
        "Overall, the model provides a reasonably good fit to the data, with R2 score indicating a satisfactory level of explained variance."
      ],
      "metadata": {
        "id": "pARBtO1Re3Mw"
      }
    },
    {
      "cell_type": "code",
      "source": [
        "# Visualizing evaluation Metric Score chart\n",
        "# Define the evaluation metrics and their corresponding scores\n",
        "metrics = ['MAE', 'MSE', 'RMSE', 'R2 Score']\n",
        "scores = [5.23, 43.93, 6.63, 0.71]\n",
        "\n",
        "# Create a bar plot\n",
        "plt.figure(figsize=(10, 6))\n",
        "sns.barplot(x=metrics, y=scores, palette='viridis')\n",
        "\n",
        "# Add labels and title\n",
        "plt.xlabel('Metrics')\n",
        "plt.ylabel('Score')\n",
        "plt.title('Model Evaluation Metrics')\n",
        "\n",
        "# Display the plot\n",
        "plt.show()"
      ],
      "metadata": {
        "id": "rqD5ZohzfxKe"
      },
      "execution_count": null,
      "outputs": []
    },
    {
      "cell_type": "markdown",
      "source": [
        "#### 2. Cross- Validation & Hyperparameter Tuning"
      ],
      "metadata": {
        "id": "4qY1EAkEfxKe"
      }
    },
    {
      "cell_type": "code",
      "source": [
        "# Performing 5-fold cross-validation\n",
        "cv_scores = cross_val_score(lin_reg_model, x_train, y_train, cv=5, scoring='neg_mean_squared_error')\n",
        "\n",
        "# Convert negative MSE to positive for interpretation\n",
        "mse_scores = -cv_scores\n",
        "\n",
        "# Calculate the mean and standard deviation of the MSE scores\n",
        "mean_mse = mse_scores.mean()\n",
        "std_mse = mse_scores.std()\n",
        "\n",
        "print(f'Mean MSE: {mean_mse}')\n",
        "print(f'Standard Deviation of MSE: {std_mse}')\n",
        "# Fit the Algorithm\n",
        "\n",
        "# Predict on the model"
      ],
      "metadata": {
        "id": "Dy61ujd6fxKe"
      },
      "execution_count": null,
      "outputs": []
    },
    {
      "cell_type": "markdown",
      "source": [
        "##### Which hyperparameter optimization technique have you used and why?"
      ],
      "metadata": {
        "id": "PiV4Ypx8fxKe"
      }
    },
    {
      "cell_type": "markdown",
      "source": [
        "I performed 5-fold cross-validation to evaluate the performance of a Linear Regression model. However, for Linear Regression, hyperparameter optimization is not applicable because it doesn't have adjustable hyperparameters like other models."
      ],
      "metadata": {
        "id": "negyGRa7fxKf"
      }
    },
    {
      "cell_type": "markdown",
      "source": [
        "### ML Model - 2: Lasso Regression"
      ],
      "metadata": {
        "id": "dJ2tPlVmpsJ0"
      }
    },
    {
      "cell_type": "code",
      "source": [
        "# ML Model - 2 Implementation\n",
        "lasso = Lasso()\n",
        "\n",
        "# Fitting the algorithm\n",
        "lasso.fit(x_train, y_train)\n",
        "\n",
        "# Predicting on the model\n",
        "lasso_y_train_pred = lasso.predict(x_train)\n",
        "lasso_y_test_pred = lasso.predict(x_test)\n",
        "\n",
        "# Finding the coefficients and intercept from the model\n",
        "print(f\"The coefficient of the model is {np.array(lasso.coef_)}\")\n",
        "print(f\"The intercept of the model is {lasso.intercept_}\")"
      ],
      "metadata": {
        "id": "Cnw9YN0c_94Y"
      },
      "execution_count": null,
      "outputs": []
    },
    {
      "cell_type": "code",
      "source": [
        "# Getting train and test score\n",
        "print(f\"Lasso Regression model train score is :{lasso.score(x_train, y_train)}\")\n",
        "print(f\"Lasso Regression model test score is :{lasso.score(x_test, y_test)}\")"
      ],
      "metadata": {
        "id": "yOpCzuGRSSyF"
      },
      "execution_count": null,
      "outputs": []
    },
    {
      "cell_type": "code",
      "source": [
        "# Calculating model performance score for train data\n",
        "calc_accu_score(y_train, lasso_y_train_pred)"
      ],
      "metadata": {
        "id": "IQvi2RUoSSpu"
      },
      "execution_count": null,
      "outputs": []
    },
    {
      "cell_type": "code",
      "source": [
        "# Calculating model performance score for test data\n",
        "calc_accu_score(y_test, lasso_y_test_pred)"
      ],
      "metadata": {
        "id": "o9CdvR6gSSWv"
      },
      "execution_count": null,
      "outputs": []
    },
    {
      "cell_type": "code",
      "source": [
        "# Visualizing linearity between real and predicted data\n",
        "reg_scatter(y_test, lasso_y_test_pred)"
      ],
      "metadata": {
        "id": "_BMhQOqMVF-z"
      },
      "execution_count": null,
      "outputs": []
    },
    {
      "cell_type": "code",
      "source": [
        "# Putting the score of the test data in the evaluation metric\n",
        "store_scores('Lasso regression',6.3095362716925,62.57177463474867,7.91023227438668,0.5926265988315136)\n"
      ],
      "metadata": {
        "id": "uhqplAxVVYNz"
      },
      "execution_count": null,
      "outputs": []
    },
    {
      "cell_type": "markdown",
      "source": [
        "#### 1. Explain the ML Model used and it's performance using Evaluation metric Score Chart."
      ],
      "metadata": {
        "id": "JWYfwnehpsJ1"
      }
    },
    {
      "cell_type": "markdown",
      "source": [
        "The model used is Lasso Regression, a linear regression technique with a penalty term on coefficients (L1 regularization) for feature selection.\n",
        "\n",
        "The evaluation metrics are:\n",
        "\n",
        "* MAE (Mean Absolute Error): About 6.31, indicating an average prediction error of about 6.31 units.\n",
        "* MSE (Mean Squared Error): About 62.57, suggesting larger discrepancies in prediction errors.\n",
        "* RMSE (Root Mean Squared Error): About 7.91, showing an average error of about 7.91 units.\n",
        "* R2 Score: About 0.59, indicating that around 59% of the variability in the target variable is captured by the model.\n",
        "\n",
        "The Lasso Regression model provides a reasonably good fit to the data, with R2 score indicating a moderate level of explained variance."
      ],
      "metadata": {
        "id": "A_yDTrjHZF74"
      }
    },
    {
      "cell_type": "code",
      "source": [
        "# Visualizing evaluation Metric Score chart\n",
        "\n",
        "# Putting the Data\n",
        "models = ['Linear Regression', 'Lasso Regression']\n",
        "mae = [5.23, 6.31]\n",
        "mse = [43.93, 62.57]\n",
        "rmse = [6.63, 7.91]\n",
        "r2 = [0.714, 0.593]\n",
        "\n",
        "x = np.arange(len(models))\n",
        "\n",
        "# Create the figure and axis objects\n",
        "fig, ax1 = plt.subplots(figsize=(10, 6))\n",
        "\n",
        "# Plotting the metrics\n",
        "ax1.bar(x - 0.2, mae, 0.2, label='MAE')\n",
        "ax1.bar(x, mse, 0.2, label='MSE')\n",
        "ax1.bar(x + 0.2, rmse, 0.2, label='RMSE')\n",
        "\n",
        "# Creating a second y-axis\n",
        "ax2 = ax1.twinx()\n",
        "ax2.plot(x, r2, color='orange', marker='o', label='R2 Score')\n",
        "\n",
        "# Setting labels and titles\n",
        "ax1.set_xlabel('Models')\n",
        "ax1.set_ylabel('Error Scores')\n",
        "ax2.set_ylabel('R2 Score')\n",
        "plt.title('Regression Model Evaluation Metrics')\n",
        "\n",
        "# Adding legend\n",
        "ax1.legend(loc='upper left')\n",
        "ax2.legend(loc='upper right')\n",
        "\n",
        "# Setting x-axis ticks and labels\n",
        "plt.xticks(x, models)\n",
        "\n",
        "# Display the plot\n",
        "plt.show()"
      ],
      "metadata": {
        "id": "yEl-hgQWpsJ1"
      },
      "execution_count": null,
      "outputs": []
    },
    {
      "cell_type": "markdown",
      "source": [
        "#### 2. Cross- Validation & Hyperparameter Tuning"
      ],
      "metadata": {
        "id": "-jK_YjpMpsJ2"
      }
    },
    {
      "cell_type": "code",
      "source": [
        "# ML Model - 2 Implementation with hyperparameter optimization technique (GridSearch CV)\n",
        "# Creating the model\n",
        "model = Lasso()\n",
        "\n",
        "# Defining the hyperparameters to tune\n",
        "params = {'alpha': [1e-15, 1e-13, 1e-10, 1e-08, 1e-05, 0.0001, 0.001, 0.01, 0.1, 1, 5, 10, 20, 30, 40, 45, 50, 55, 60, 100],}\n",
        "\n",
        "# Creating the grid search object\n",
        "grid = GridSearchCV(model, params, cv=5)\n",
        "\n",
        "#Fitting the model\n",
        "grid.fit(x_train,y_train)\n",
        "\n",
        "# Printing the best parameters\n",
        "print(\"Best hyperparameters: {}\".format(grid.best_params_))\n",
        "print(\"Best mean cross-validation score: {:.2f}\".format(grid.best_score_))\n"
      ],
      "metadata": {
        "id": "Dn0EOfS6psJ2"
      },
      "execution_count": null,
      "outputs": []
    },
    {
      "cell_type": "code",
      "source": [
        "# Using the tuned hyperparameter\n",
        "lasso = Lasso(alpha = 0.01)\n",
        "\n",
        "# Fitting the Algorithm\n",
        "lasso.fit(x_train, y_train)\n",
        "\n",
        "# Predicting on the model\n",
        "lasso_y_train_pred = lasso.predict(x_train)\n",
        "lasso_y_test_pred = lasso.predict(x_test)\n",
        "\n",
        "# Getting the coefficients and intercept from the model\n",
        "print(f\"The coefficients of the model is: {np.array(lasso.coef_)}\")\n",
        "print(f\"The intercept of the model is: {np.array(lasso.intercept_)}\")"
      ],
      "metadata": {
        "id": "wLkTu0ptoHgC"
      },
      "execution_count": null,
      "outputs": []
    },
    {
      "cell_type": "code",
      "source": [
        "# Calculating model performance score for train data\n",
        "calc_accu_score(y_train, lasso_y_train_pred)"
      ],
      "metadata": {
        "id": "RJZHTTq6q3XP"
      },
      "execution_count": null,
      "outputs": []
    },
    {
      "cell_type": "code",
      "source": [
        "# Calculating model performance score for test data\n",
        "calc_accu_score(y_test, lasso_y_test_pred)"
      ],
      "metadata": {
        "id": "kutwW4cEq3Di"
      },
      "execution_count": null,
      "outputs": []
    },
    {
      "cell_type": "code",
      "source": [
        "# Visualising linearity between real predicted data\n",
        "reg_scatter(y_test, lasso_y_test_pred)"
      ],
      "metadata": {
        "id": "PWt5CALcWgqe"
      },
      "execution_count": null,
      "outputs": []
    },
    {
      "cell_type": "markdown",
      "source": [
        "##### Which hyperparameter optimization technique have you used and why?"
      ],
      "metadata": {
        "id": "HAih1iBOpsJ2"
      }
    },
    {
      "cell_type": "markdown",
      "source": [
        "I used Grid Search Cross Validation for hyperparameter optimization. This technique exhaustively searches through a specified hyperparameter grid to find the best combination for model performance. It's effective for fine-tuning models with a small number of hyperparameters."
      ],
      "metadata": {
        "id": "9kBgjYcdpsJ2"
      }
    },
    {
      "cell_type": "markdown",
      "source": [
        "##### Have you seen any improvement? Note down the improvement with updates Evaluation metric Score Chart."
      ],
      "metadata": {
        "id": "zVGeBEFhpsJ2"
      }
    },
    {
      "cell_type": "markdown",
      "source": [
        "Yes, there is an improvement in the model performance after applying Grid Search Cross Validation for hyperparameter tuning:\n",
        "\n",
        "For Lasso Regression:\n",
        "\n",
        "* Mean Absolute Error (MAE) improved from 6.31 to 5.12.\n",
        "* Mean Squared Error (MSE) improved from 62.57 to 42.44.\n",
        "* Root Mean Squared Error (RMSE) improved from 7.91 to 6.51.\n",
        "* R2 Score improved from 0.593 to 0.724.\n",
        "\n",
        "These improvements indicate that the model's predictive accuracy has been enhanced after tuning the hyperparameters using Grid Search Cross Validation."
      ],
      "metadata": {
        "id": "74yRdG6UpsJ3"
      }
    },
    {
      "cell_type": "code",
      "source": [
        "store_scores(\"Lasso Regression(Grid Search CV)\",5.119374706447523, 42.44289259121012, 6.514820994563866, 0.7236756411139391)"
      ],
      "metadata": {
        "id": "xDD-82H9Zfs3"
      },
      "execution_count": null,
      "outputs": []
    },
    {
      "cell_type": "markdown",
      "source": [
        "#### 3. Explain each evaluation metric's indication towards business and the business impact pf the ML model used."
      ],
      "metadata": {
        "id": "bmKjuQ-FpsJ3"
      }
    },
    {
      "cell_type": "markdown",
      "source": [
        "* **MAE:** Measures average prediction accuracy. Lower MAE means more accurate predictions, leading to improved resource allocation and customer satisfaction.\n",
        "\n",
        "* **MSE:** Emphasizes large errors. Lower MSE indicates more precise predictions, benefiting risk management and critical decision-making.\n",
        "\n",
        "* **RMSE:** Provides the magnitude of error in real-world units. Lower RMSE implies more accurate predictions in practical terms.\n",
        "\n",
        "* **R2 Score**: Indicates how well the model fits the data. Higher R2 signifies a better explanation of variability, boosting confidence in predictions for decision-making.\n",
        "\n",
        "**Overall Impact:** A well-performing model leads to accurate predictions, better resource allocation, reduced costs, improved customer satisfaction, and competitive advantages. It also supports risk management, strategic planning, and long-term growth in various industries."
      ],
      "metadata": {
        "id": "BDKtOrBQpsJ3"
      }
    },
    {
      "cell_type": "markdown",
      "source": [
        "### ML Model - 3: Ridge Regression"
      ],
      "metadata": {
        "id": "Fze-IPXLpx6K"
      }
    },
    {
      "cell_type": "code",
      "source": [
        "# ML Model - 3 Implementation\n",
        "ridge = Ridge()\n",
        "\n",
        "# Fit the Algorithm\n",
        "ridge.fit(x_train,y_train)\n",
        "\n",
        "# Predict on the model\n",
        "ridge_y_train_pred = ridge.predict(x_train)\n",
        "ridge_y_test_pred = ridge.predict(x_test)\n",
        "\n",
        "# Finding the coefficients and intercept from the model\n",
        "print(f\"The coefficient of the model is {np.array(ridge.coef_)}\")\n",
        "print(f\"The intercept of the model is {ridge.intercept_}\")"
      ],
      "metadata": {
        "id": "FFrSXAtrpx6M"
      },
      "execution_count": null,
      "outputs": []
    },
    {
      "cell_type": "code",
      "source": [
        "# Getting train and test score\n",
        "print(f\"Ridge Regression model train score is :{ridge.score(x_train, y_train)}\")\n",
        "print(f\"Ridge Regression model test score is :{ridge.score(x_test, y_test)}\")"
      ],
      "metadata": {
        "id": "YVVnV7szd4eN"
      },
      "execution_count": null,
      "outputs": []
    },
    {
      "cell_type": "code",
      "source": [
        "# Calculating model performance score for train data\n",
        "calc_accu_score(y_train, ridge_y_train_pred)"
      ],
      "metadata": {
        "id": "KPKgMgjHd4bi"
      },
      "execution_count": null,
      "outputs": []
    },
    {
      "cell_type": "code",
      "source": [
        "# Calculating model performance score for test data\n",
        "calc_accu_score(y_test, ridge_y_test_pred)"
      ],
      "metadata": {
        "id": "GS6ARNlBd4Ys"
      },
      "execution_count": null,
      "outputs": []
    },
    {
      "cell_type": "code",
      "source": [
        "# Visualizing linearity between real and predicted data\n",
        "reg_scatter(y_test, ridge_y_test_pred)"
      ],
      "metadata": {
        "id": "24sIrX04d4Vm"
      },
      "execution_count": null,
      "outputs": []
    },
    {
      "cell_type": "markdown",
      "source": [
        "#### 1. Explain the ML Model used and it's performance using Evaluation metric Score Chart."
      ],
      "metadata": {
        "id": "7AN1z2sKpx6M"
      }
    },
    {
      "cell_type": "code",
      "source": [
        "# Putting the score of the test data in the evaluation metric\n",
        "store_scores('Ridge regression',5.118129771316059,42.44059887470642,6.514644953848706,0.7236905743501927)\n"
      ],
      "metadata": {
        "id": "gKoIRNMtf-6O"
      },
      "execution_count": null,
      "outputs": []
    },
    {
      "cell_type": "markdown",
      "source": [
        "The model used is Ridge Regression, which applies a penalty term to the coefficients to prevent overfitting.\n",
        "\n",
        "The evaluation metrics are:\n",
        "\n",
        "* **MAE (Mean Absolute Error):** About 5.12, indicating an average prediction error of about 5.12 units.\n",
        "* **MSE (Mean Squared Error):** About 42.44, suggesting larger discrepancies in prediction errors.\n",
        "* **RMSE (Root Mean Squared Error):** About 6.51, showing an average error of about 6.51 units.\n",
        "* **R2 Score:** About 0.72, indicating that around 72% of the variability in the target variable is captured by the model.\n",
        "\n",
        "The Ridge Regression model provides a reasonably good fit to the data, with R2 score indicating a substantial level of explained variance."
      ],
      "metadata": {
        "id": "DXcMhfoShTBG"
      }
    },
    {
      "cell_type": "markdown",
      "source": [
        "#### 2. Cross- Validation & Hyperparameter Tuning"
      ],
      "metadata": {
        "id": "9PIHJqyupx6M"
      }
    },
    {
      "cell_type": "code",
      "source": [
        "# Implementation with hyperparameter optimization techniques (GridSearch CV)\n",
        "# Creating the model\n",
        "model = Ridge()\n",
        "\n",
        "# Defining the hyperparameters to tune\n",
        "params = {'alpha': [1e-15, 1e-13, 1e-10, 1e-08, 1e-05, 0.0001, 0.001, 0.01, 0.1, 1, 5, 10, 20, 30, 40, 45, 50, 55, 60, 100],}\n",
        "\n",
        "# Creating the grid search object\n",
        "grid = GridSearchCV(model, params, cv=5)\n",
        "\n",
        "#Fitting the model\n",
        "grid.fit(x_train,y_train)\n",
        "\n",
        "# Printing the best parameters\n",
        "print(\"Best hyperparameters: {}\".format(grid.best_params_))\n",
        "print(\"Best mean cross-validation score: {:.2f}\".format(grid.best_score_))"
      ],
      "metadata": {
        "id": "eSVXuaSKpx6M"
      },
      "execution_count": null,
      "outputs": []
    },
    {
      "cell_type": "code",
      "source": [
        "# Using the tuned hyperparameter\n",
        "ridge = Ridge(alpha = 30)\n",
        "\n",
        "# Fitting the Algorithm\n",
        "ridge.fit(x_train, y_train)\n",
        "\n",
        "# Predicting on the model\n",
        "ridge_y_train_pred = ridge.predict(x_train)\n",
        "ridge_y_test_pred = ridge.predict(x_test)"
      ],
      "metadata": {
        "id": "PCeY4YCwnKKx"
      },
      "execution_count": null,
      "outputs": []
    },
    {
      "cell_type": "code",
      "source": [
        "# Calculating model performance score for train data\n",
        "calc_accu_score(y_train, ridge_y_train_pred)"
      ],
      "metadata": {
        "id": "esbbq4YooHSo"
      },
      "execution_count": null,
      "outputs": []
    },
    {
      "cell_type": "code",
      "source": [
        "# Calculating model performance score for train data\n",
        "calc_accu_score(y_test, ridge_y_test_pred)"
      ],
      "metadata": {
        "id": "F1yIp_EBoHKW"
      },
      "execution_count": null,
      "outputs": []
    },
    {
      "cell_type": "code",
      "source": [
        "# Visualising linearity between real predicted data\n",
        "reg_scatter(y_test, ridge_y_test_pred)"
      ],
      "metadata": {
        "id": "2mgB6v1ZpghU"
      },
      "execution_count": null,
      "outputs": []
    },
    {
      "cell_type": "markdown",
      "source": [
        "##### Which hyperparameter optimization technique have you used and why?"
      ],
      "metadata": {
        "id": "_-qAgymDpx6N"
      }
    },
    {
      "cell_type": "markdown",
      "source": [
        "I used Grid Search Cross Validation for hyperparameter optimization. This technique exhaustively searches through a specified hyperparameter grid to find the best combination for model performance. It's effective for fine-tuning models with a small number of hyperparameters."
      ],
      "metadata": {
        "id": "lQMffxkwpx6N"
      }
    },
    {
      "cell_type": "markdown",
      "source": [
        "##### Have you seen any improvement? Note down the improvement with updates Evaluation metric Score Chart."
      ],
      "metadata": {
        "id": "Z-hykwinpx6N"
      }
    },
    {
      "cell_type": "markdown",
      "source": [
        "Yes, there is a slight improvement in the performance of the Ridge Regression model after applying Grid Search Cross Validation for hyperparameter tuning. The improvements are minimal, indicating that the hyperparameters were already well-tuned in the initial Ridge Regression model."
      ],
      "metadata": {
        "id": "MzVzZC6opx6N"
      }
    },
    {
      "cell_type": "code",
      "source": [
        "store_scores(\"Ridge Regression(Grid Search CV)\",5.120013638568749, 42.46560591795279, 6.516563965615069, 0.7235277660501259)"
      ],
      "metadata": {
        "id": "5jCFVWopvWd-"
      },
      "execution_count": null,
      "outputs": []
    },
    {
      "cell_type": "markdown",
      "source": [
        "### ML Model - 4: Random Forest Regression"
      ],
      "metadata": {
        "id": "dhwM1Xp8yABT"
      }
    },
    {
      "cell_type": "code",
      "source": [
        "# ML Model - 4 Implementation\n",
        "random_forest = RandomForestRegressor()\n",
        "\n",
        "# Fiting the Algorithm\n",
        "random_forest.fit(x_train,y_train)\n",
        "\n",
        "# Predict on the model\n",
        "rf_y_train_pred = random_forest.predict(x_train)\n",
        "rf_y_test_pred = random_forest.predict(x_test)"
      ],
      "metadata": {
        "id": "Z15YSP_PysbU"
      },
      "execution_count": null,
      "outputs": []
    },
    {
      "cell_type": "code",
      "source": [
        "# Getting train and test score\n",
        "print(f\"Random Forest Regression model train score is :{random_forest.score(x_train, y_train)}\")\n",
        "print(f\"Random Forest Regression model test score is :{random_forest.score(x_test, y_test)}\")"
      ],
      "metadata": {
        "id": "otG2lVrCysbe"
      },
      "execution_count": null,
      "outputs": []
    },
    {
      "cell_type": "code",
      "source": [
        "# Calculating model performance score for train data\n",
        "calc_accu_score(y_train, rf_y_train_pred)"
      ],
      "metadata": {
        "id": "qZ6ywb0bysbf"
      },
      "execution_count": null,
      "outputs": []
    },
    {
      "cell_type": "code",
      "source": [
        "# Calculating model performance score for test data\n",
        "calc_accu_score(y_test, rf_y_test_pred)"
      ],
      "metadata": {
        "id": "0qjFKY8uysbf"
      },
      "execution_count": null,
      "outputs": []
    },
    {
      "cell_type": "code",
      "source": [
        "# Visualizing linearity between real and predicted data\n",
        "reg_scatter(y_test, rf_y_test_pred)"
      ],
      "metadata": {
        "id": "0Uf1fO8Nysbf"
      },
      "execution_count": null,
      "outputs": []
    },
    {
      "cell_type": "markdown",
      "source": [
        "#### 1. Explain the ML Model used and it's performance using Evaluation metric Score Chart."
      ],
      "metadata": {
        "id": "HTSCmZkfysbf"
      }
    },
    {
      "cell_type": "code",
      "source": [
        "# Putting the score of the test data in the evaluation metric and visualizing the chart\n",
        "store_scores('Random Forest regression',3.1229817591322364,21.263173276054324,4.61120084967618,0.8615661571425094)"
      ],
      "metadata": {
        "id": "uSd7FjcUysbf"
      },
      "execution_count": null,
      "outputs": []
    },
    {
      "cell_type": "markdown",
      "source": [
        "The model used is Random Forest Regression, an ensemble method combining multiple decision trees for more accurate predictions.\n",
        "\n",
        "Evaluation Metrics:\n",
        "\n",
        "1. MAE: About 3.12, indicating an average prediction error of about 3.12 units.\n",
        "2. MSE: About 21.26, suggesting larger discrepancies in prediction errors.\n",
        "3. RMSE: About 4.61, showing an average error of about 4.61 units.\n",
        "4. R2 Score: About 0.862, indicating that around 86.2% of the variability in the target variable is captured by the model.\n",
        "\n",
        "The Random Forest Regression model provides an excellent fit, explaining a significant portion of the variability in the target variable."
      ],
      "metadata": {
        "id": "eJS48JSfysbg"
      }
    },
    {
      "cell_type": "markdown",
      "source": [
        "#### 2. Cross- Validation & Hyperparameter Tuning"
      ],
      "metadata": {
        "id": "NrW6XCh8ysbg"
      }
    },
    {
      "cell_type": "code",
      "source": [
        "# Implementing the hyperparameter optimization technique (GridSearch)\n",
        "# Creating the model\n",
        "rf_regressor = RandomForestRegressor(random_state=42)\n",
        "\n",
        "# Defining the hyperparameters to tune\n",
        "param_grid = {'n_estimators': [50, 100, 200],\n",
        "          'max_depth': [10, 20, 30],\n",
        "          'min_samples_split': [2, 5, 10]\n",
        "}\n",
        "\n",
        "# Creating the grid search object\n",
        "grid_search_rf = GridSearchCV(estimator=rf_regressor, param_grid=param_grid, cv=5, n_jobs=-1, scoring='neg_mean_squared_error')\n",
        "\n",
        "#Fitting the model\n",
        "grid_search_rf.fit(x_train,y_train)\n",
        "\n",
        "# Making predictions on the testing data using the best estimator from the grid search\n",
        "best_rf_regressor = grid_search_rf.best_estimator_\n",
        "y_pred = best_rf_regressor.predict(x_test)\n",
        "\n",
        "# Calculating the root mean squared error (RMSE) of the predictions\n",
        "rmse = mean_squared_error(y_test, y_pred, squared=False)\n",
        "print(\"RMSE\", rmse)\n",
        "\n",
        "# Printing the best hyperparameters found by the grid search\n",
        "print(\"Best hyperparameters:\",grid_search_rf.best_params_)"
      ],
      "metadata": {
        "id": "-qVV3FXzysbg"
      },
      "execution_count": null,
      "outputs": []
    },
    {
      "cell_type": "code",
      "source": [
        "# Using the tuned hyperparameter\n",
        "rf = RandomForestRegressor(max_depth = 30, min_samples_split = 5, n_estimators = 200)\n",
        "\n",
        "# Fitting the Algorithm\n",
        "rf.fit(x_train, y_train)\n",
        "\n",
        "# Predicting on the model\n",
        "rf_y_train_pred = rf.predict(x_train)\n",
        "rf_y_test_pred = rf.predict(x_test)"
      ],
      "metadata": {
        "id": "vnKwc9Gfysbg"
      },
      "execution_count": null,
      "outputs": []
    },
    {
      "cell_type": "code",
      "source": [
        "# Calculating model performance score for train data\n",
        "calc_accu_score(y_train, rf_y_train_pred)"
      ],
      "metadata": {
        "id": "xAzt-Jhoysbh"
      },
      "execution_count": null,
      "outputs": []
    },
    {
      "cell_type": "code",
      "source": [
        "# Calculating model performance score for test data\n",
        "calc_accu_score(y_test, rf_y_test_pred)"
      ],
      "metadata": {
        "id": "zToHfqoKysbh"
      },
      "execution_count": null,
      "outputs": []
    },
    {
      "cell_type": "code",
      "source": [
        "# Visualising linearity between real predicted data\n",
        "reg_scatter(y_test, rf_y_test_pred)"
      ],
      "metadata": {
        "id": "OkM54mrXysbh"
      },
      "execution_count": null,
      "outputs": []
    },
    {
      "cell_type": "code",
      "source": [
        "store_scores(\"Random Forest Regression(Grid Search CV)\",3.1072714830209773, 21.086196568603608, 4.591970880635417, 0.8627183636072076)"
      ],
      "metadata": {
        "id": "ug4ScARRysbi"
      },
      "execution_count": null,
      "outputs": []
    },
    {
      "cell_type": "markdown",
      "source": [
        "### ML Model - 5: Gradient Boosting Regression"
      ],
      "metadata": {
        "id": "-H0RpjffbgbP"
      }
    },
    {
      "cell_type": "code",
      "source": [
        "# ML Model - 4 Implementation\n",
        "grad_boost_reg = GradientBoostingRegressor()\n",
        "\n",
        "# Fiting the Algorithm\n",
        "grad_boost_reg.fit(x_train,y_train)\n",
        "\n",
        "# Predict on the model\n",
        "gbr_y_train_pred = grad_boost_reg.predict(x_train)\n",
        "gbr_y_test_pred = grad_boost_reg.predict(x_test)"
      ],
      "metadata": {
        "id": "qfZ2J7-ebgba"
      },
      "execution_count": null,
      "outputs": []
    },
    {
      "cell_type": "code",
      "source": [
        "# Getting train and test score\n",
        "print(f\"Gradient Boosting Regression model train score is :{grad_boost_reg.score(x_train, y_train)}\")\n",
        "print(f\"Gradient Boosting Regression model test score is :{grad_boost_reg.score(x_test, y_test)}\")"
      ],
      "metadata": {
        "id": "sK0jh7cXbgba"
      },
      "execution_count": null,
      "outputs": []
    },
    {
      "cell_type": "code",
      "source": [
        "# Calculating model performance score for train data\n",
        "calc_accu_score(y_train, gbr_y_train_pred)"
      ],
      "metadata": {
        "id": "mkbnL6j3bgba"
      },
      "execution_count": null,
      "outputs": []
    },
    {
      "cell_type": "code",
      "source": [
        "# Calculating model performance score for test data\n",
        "calc_accu_score(y_test, gbr_y_test_pred)"
      ],
      "metadata": {
        "id": "vv1do19qbgbb"
      },
      "execution_count": null,
      "outputs": []
    },
    {
      "cell_type": "code",
      "source": [
        "# Visualizing linearity between real and predicted data\n",
        "reg_scatter(y_test, gbr_y_test_pred)"
      ],
      "metadata": {
        "id": "WE5-VqYUbgbb"
      },
      "execution_count": null,
      "outputs": []
    },
    {
      "cell_type": "markdown",
      "source": [
        "#### 1. Explain the ML Model used and it's performance using Evaluation metric Score Chart."
      ],
      "metadata": {
        "id": "YJ-TQ2mQbgbc"
      }
    },
    {
      "cell_type": "code",
      "source": [
        "# Putting the score of the test data in the evaluation metric and visualizing the chart\n",
        "store_scores('Gradient Boosting regression',4.181608571021266,29.373659121140836,5.419747145498657,0.8087628568824763)"
      ],
      "metadata": {
        "id": "8f7ue-Sfbgbc"
      },
      "execution_count": null,
      "outputs": []
    },
    {
      "cell_type": "markdown",
      "source": [
        "The model used is Gradient Boosting Regression, an ensemble learning technique. It combines multiple weak learners to create a strong predictive model.\n",
        "\n",
        "The model performs reasonably well with low MAE, MSE, and RMSE, and a high R2 score of 0.809."
      ],
      "metadata": {
        "id": "eAMSstmObgbc"
      }
    },
    {
      "cell_type": "markdown",
      "source": [
        "#### 2. Cross- Validation & Hyperparameter Tuning"
      ],
      "metadata": {
        "id": "GSWcYaHObgbd"
      }
    },
    {
      "cell_type": "code",
      "source": [
        "# # Implementing the hyperparameter optimization technique (GridSearch)\n",
        "# # Creating the model\n",
        "# gbr_regressor = GradientBoostingRegressor(random_state=42)\n",
        "\n",
        "# # Defining the hyperparameters to tune\n",
        "# param_grid = {'n_estimators': [50, 100, 200],\n",
        "#           'max_depth': [10, 20, 30],\n",
        "#           'min_samples_split': [2, 5, 10]\n",
        "# }\n",
        "\n",
        "# # Creating the grid search object\n",
        "# grid_search_gbr = GridSearchCV(estimator=gbr_regressor, param_grid=param_grid, cv=5, n_jobs=-1, scoring='neg_mean_squared_error')\n",
        "\n",
        "# #Fitting the model\n",
        "# grid_search_gbr.fit(x_train,y_train)\n",
        "\n",
        "# # Making predictions on the testing data using the best estimator from the grid search\n",
        "# best_gbr_regressor = grid_search_gbr.best_estimator_\n",
        "# y_pred = best_gbr_regressor.predict(x_test)\n",
        "\n",
        "# # Calculating the root mean squared error (RMSE) of the predictions\n",
        "# rmse = mean_squared_error(y_test, y_pred, squared=False)\n",
        "# print(\"RMSE\", rmse)\n",
        "\n",
        "# # Printing the best hyperparameters found by the grid search\n",
        "# print(\"Best hyperparameters:\",grid_search_gbr.best_params_)"
      ],
      "metadata": {
        "id": "TIbm95Jqbgbd"
      },
      "execution_count": null,
      "outputs": []
    },
    {
      "cell_type": "code",
      "source": [
        "# Fitting the model again by using the tuned hyperparameters\n",
        "gbr = GradientBoostingRegressor(max_depth = 10, min_samples_split = 10, n_estimators = 200)\n",
        "\n",
        "# Fitting the Algorithm\n",
        "gbr.fit(x_train, y_train)\n",
        "\n",
        "# Predicting on the model\n",
        "gbr_y_train_pred = gbr.predict(x_train)\n",
        "gbr_y_test_pred = gbr.predict(x_test)"
      ],
      "metadata": {
        "id": "aCdnnWKebgbd"
      },
      "execution_count": null,
      "outputs": []
    },
    {
      "cell_type": "code",
      "source": [
        "# Calculating model performance score for train data\n",
        "calc_accu_score(y_train, gbr_y_train_pred)"
      ],
      "metadata": {
        "id": "n2w-q_P-bgbe"
      },
      "execution_count": null,
      "outputs": []
    },
    {
      "cell_type": "code",
      "source": [
        "# Calculating model performance score for test data\n",
        "calc_accu_score(y_test, gbr_y_test_pred)"
      ],
      "metadata": {
        "id": "4Epz6rV5bgbe"
      },
      "execution_count": null,
      "outputs": []
    },
    {
      "cell_type": "code",
      "source": [
        "# Visualising linearity between real predicted data\n",
        "reg_scatter(y_test, gbr_y_test_pred)"
      ],
      "metadata": {
        "id": "EOagnxxnbgbe"
      },
      "execution_count": null,
      "outputs": []
    },
    {
      "cell_type": "code",
      "source": [
        "store_scores(\"Gradient Boosting Regression(Grid Search CV)\",3.8412681940472972, 33.5893213213839, 5.795629501735243, 0.7813167973977461)"
      ],
      "metadata": {
        "id": "TxWu4xLubgbe"
      },
      "execution_count": null,
      "outputs": []
    },
    {
      "cell_type": "markdown",
      "source": [
        "### 1. Which Evaluation metrics did you consider for a positive business impact and why?"
      ],
      "metadata": {
        "id": "h_CCil-SKHpo"
      }
    },
    {
      "cell_type": "markdown",
      "source": [
        "In selecting evaluation metrics, I considered the following:\n",
        "\n",
        "**Mean Absolute Error (MAE):** Chosen for its simplicity and balanced treatment of errors. Suitable when all errors are equally important.\n",
        "\n",
        "**Mean Squared Error (MSE):** Selected to account for larger errors with squared penalties. Useful when it's crucial to minimize large discrepancies.\n",
        "\n",
        "**Root Mean Squared Error (RMSE):** Employed for its interpretability in the original unit of the target variable. Offers insights into the average magnitude of errors.\n",
        "\n",
        "**R2 Score (Coefficient of Determination):** Included to understand how well the model explains variance in the data. Crucial if explaining variance is a key business objective.\n",
        "\n",
        "These metrics were chosen based on their respective strengths and relevance to the business context."
      ],
      "metadata": {
        "id": "jHVz9hHDKFms"
      }
    },
    {
      "cell_type": "markdown",
      "source": [
        "### 2. Which ML model did you choose from the above created models as your final prediction model and why?"
      ],
      "metadata": {
        "id": "cBFFvTBNJzUa"
      }
    },
    {
      "cell_type": "code",
      "source": [
        "# Setting model as index in the score dataframe\n",
        "score_df = score_df.set_index('Model')"
      ],
      "metadata": {
        "id": "6_oW7yBz_MYB"
      },
      "execution_count": null,
      "outputs": []
    },
    {
      "cell_type": "code",
      "source": [
        "# Extracting R2 scores from lists in 'R2 Score' column\n",
        "score_df['R2 Score'] = score_df['R2 Score'].apply(lambda x: x[0])"
      ],
      "metadata": {
        "id": "KRotJ4VuCQAA"
      },
      "execution_count": null,
      "outputs": []
    },
    {
      "cell_type": "code",
      "source": [
        "# Visualising the comparison of R2 score of different models using barplot\n",
        "plt.figure(figsize = (15,8))\n",
        "sns.barplot(data = score_df, x = score_df['R2 Score'], y = score_df.index, order=score_df.index, hue = score_df['R2 Score'])\n",
        "plt.title('Comparison of R2 scores of different models')\n",
        "plt.show()"
      ],
      "metadata": {
        "id": "TIIthPpr_npr"
      },
      "execution_count": null,
      "outputs": []
    },
    {
      "cell_type": "markdown",
      "source": [
        "Based on the performance metrics, the Random Forest Regression model with Grid Search CV (cross-validation) has the lowest Mean Absolute Error (MAE), Mean Squared Error (MSE), Root Mean Squared Error (RMSE), and the highest R2 Score among all the models listed.\n",
        "\n",
        "This indicates that the Random Forest Regression with Grid Search CV model has the best overall performance in terms of accuracy and generalization. It provides the most accurate predictions compared to the other models considered.\n",
        "\n",
        "Therefore, I chose the Random Forest Regression with Grid Search CV as the final prediction model."
      ],
      "metadata": {
        "id": "6ksF5Q1LKTVm"
      }
    },
    {
      "cell_type": "markdown",
      "source": [
        "### 3. Explain the model which you have used and the feature importance using any model explainability tool?"
      ],
      "metadata": {
        "id": "HvGl1hHyA_VK"
      }
    },
    {
      "cell_type": "code",
      "source": [
        "# Calculating feature importance for Random forest regression(Grid search CV) model\n",
        "feature_importances = grid_search_rf.best_estimator_.feature_importances_\n",
        "feature_importances"
      ],
      "metadata": {
        "id": "d2JnkxgpRQs8"
      },
      "execution_count": null,
      "outputs": []
    },
    {
      "cell_type": "code",
      "source": [
        "# Sort features and feature importances in descending order\n",
        "sorted_indices = np.argsort(feature_importances)[::-1]\n",
        "sorted_features = [features[i] for i in sorted_indices]\n",
        "sorted_importances = feature_importances[sorted_indices]\n",
        "\n",
        "# Create a horizontal bar chart\n",
        "plt.figure(figsize=(10, 12))\n",
        "plt.barh(sorted_features, sorted_importances, color='skyblue')\n",
        "plt.xlabel('Feature Importance')\n",
        "plt.title('Feature Importances')\n",
        "plt.gca().invert_yaxis()  # Invert y-axis to display the highest importance at the top\n",
        "plt.show()"
      ],
      "metadata": {
        "id": "RDtAfSdOPQ7l"
      },
      "execution_count": null,
      "outputs": []
    },
    {
      "cell_type": "markdown",
      "source": [
        "I used a Random Forest model with grid search for my predictions. Random Forest is an ensemble method that combines multiple decision trees for better accuracy. The feature importance array shows which factors had the most influence on predictions.\n",
        "\n",
        "Key findings from the feature importance:\n",
        "\n",
        "* Rented Bike Count has the highest importance, indicating strong influence.\n",
        "* Seasonal indicators (Seasons_Winter and Seasons_Summer) are also significant.\n",
        "* Certain hours of the day (Hour_X features) play a role in predictions.\n",
        "* Weather-related features like humidity, wind speed, visibility, and solar radiation are important.\n",
        "* Other factors like Functioning Day, Weekend_weekdays, Month, and Holiday also contribute, but to a lesser extent."
      ],
      "metadata": {
        "id": "YnvVTiIxBL-C"
      }
    },
    {
      "cell_type": "markdown",
      "source": [
        "# **Conclusion**"
      ],
      "metadata": {
        "id": "gCX9965dhzqZ"
      }
    },
    {
      "cell_type": "markdown",
      "source": [
        "Conclusion:\n",
        "\n",
        "Based on the evaluation metrics and feature importance analysis, the Random Forest Regression model with Grid Search CV emerges as the top-performing model for predicting the number of rented bikes. Here's a breakdown of the key points supporting this conclusion:\n",
        "\n",
        "1. Performance Metrics:\n",
        "\n",
        "Lowest Errors: The Random Forest Regression with Grid Search CV has the lowest Mean Absolute Error (MAE), Mean Squared Error (MSE), and Root Mean Squared Error (RMSE) compared to other models. This indicates that it makes predictions with the least amount of deviation from the actual values.\n",
        "High R2 Score: The model also achieves the highest R2 Score, indicating a strong ability to explain the variance in the target variable. This suggests good overall model fit.\n",
        "\n",
        "2. Feature Importance:\n",
        "\n",
        "The feature importance analysis reveals the influential factors in predicting rented bike counts. Notably, Rented Bike Count is influenced by features such as the season (Seasons_Winter, Seasons_Summer), time of day (Hour_X features), and weather conditions (Humidity(%), Wind speed (m/s), Visibility (10m), Solar Radiation (MJ/m2)).\n",
        "The high importance of Rented Bike Count itself aligns with expectations since past rentals would heavily influence future predictions.\n",
        "\n",
        "3. Final Decision:\n",
        "\n",
        "Considering both performance metrics and feature importance, the Random Forest Regression with Grid Search CV is chosen as the final prediction model.\n",
        "This model demonstrates superior accuracy, robust generalization, and a comprehensive understanding of the influential factors driving bike rentals.\n",
        "In summary, the Random Forest Regression with Grid Search CV is recommended for predicting rented bike counts, offering a reliable and accurate solution for the given dataset."
      ],
      "metadata": {
        "id": "Fjb1IsQkh3yE"
      }
    },
    {
      "cell_type": "markdown",
      "source": [
        "### ***Hurrah! You have successfully completed your Machine Learning Capstone Project !!!***"
      ],
      "metadata": {
        "id": "gIfDvo9L0UH2"
      }
    }
  ]
}